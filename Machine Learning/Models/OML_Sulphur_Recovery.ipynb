{
 "cells": [
  {
   "cell_type": "markdown",
   "metadata": {},
   "source": [
    "# SRU\n",
    "Source: [OpenML](https://www.openml.org/d/23515)\n",
    "\n",
    "The sulfur recovery unit (SRU) removes environmental pollutants from acid gas streams before they are released into the atmosphere. Furthermore, elemental sulfur is recovered as a valuable by-product.  \n",
    "\n",
    "Acid gases are among the most dangerous air pollution factors and are one of the main causes of acid rain. Hydrogen sulfide is particularly dangerous because it prevents the cells of the human body from breathing.\n",
    "\n",
    "The SRU takes in two kinds of acid gases as input. The first, rich in H2S, called MEA gas, comes from the gas washing plants; the second, called SWS gas, rich in H2S and NH3 (ammonia), comes from the sour water stripping (SWS) plant. Acid gases are burnt in reactors, where H2S is transformed into pure sulfur via a partial oxidation reaction with air. Gaseous combustion products from furnaces are cooled, causing the generation of liquid sulfur, which is collected in catch basins, and then passed through high temperature converters, where a further reaction leads to the formation of water vapor and sulfur. The remaining, non converted gas (less than 5%), is fed to the Maxisulfur plant for a final conversion phase. The final gas stream (tail gas) from the SRU contains residual H2S and SO2. \n",
    "\n",
    "__Hydrogen sulfide and sulfur dioxide frequently cause damage to sensors, which often have to be removed for maintenance.__\n",
    "\n",
    "5 inputs variables are gas and air flows.\n",
    "2 outputs to predict are H2S and SO2 concentrations\n",
    "\n",
    "|Variable| Description|\n",
    "| :- |:-|\n",
    "|a1 |gas flow MEA_GAS|\n",
    "|a2 |air flow AIR_MEA|\n",
    "|a3 |secondary air flow AIR_MEA_2|\n",
    "|a4 |gas flow in SWS zone (SWS_GAS_TOT=SWS_GAS+MEA_SPILLING)|\n",
    "|a5 |air flow in SWS zone (AIR_SWS_TOT=AIR_SWS+MEA_SPILLING_AIR)|"
   ]
  },
  {
   "cell_type": "code",
   "execution_count": 97,
   "metadata": {},
   "outputs": [],
   "source": [
    "import pandas as pd\n",
    "import numpy as np\n",
    "import matplotlib.pyplot as plt\n",
    "import seaborn as sns\n",
    "import matplotlib\n",
    "\n",
    "from sklearn.linear_model import LinearRegression, Ridge\n",
    "from sklearn.model_selection import train_test_split\n",
    "from sklearn.ensemble import RandomForestRegressor\n",
    "\n",
    "matplotlib.style.use('ggplot')\n",
    "%matplotlib inline"
   ]
  },
  {
   "cell_type": "code",
   "execution_count": 121,
   "metadata": {},
   "outputs": [],
   "source": [
    "data = pd.read_csv(r\"C:\\Users\\sanjiv\\Documents\\Datasets\\OpenML\\SRU.csv\")"
   ]
  },
  {
   "cell_type": "code",
   "execution_count": 122,
   "metadata": {},
   "outputs": [
    {
     "data": {
      "text/html": [
       "<div>\n",
       "<style scoped>\n",
       "    .dataframe tbody tr th:only-of-type {\n",
       "        vertical-align: middle;\n",
       "    }\n",
       "\n",
       "    .dataframe tbody tr th {\n",
       "        vertical-align: top;\n",
       "    }\n",
       "\n",
       "    .dataframe thead th {\n",
       "        text-align: right;\n",
       "    }\n",
       "</style>\n",
       "<table border=\"1\" class=\"dataframe\">\n",
       "  <thead>\n",
       "    <tr style=\"text-align: right;\">\n",
       "      <th></th>\n",
       "      <th>a1</th>\n",
       "      <th>a2</th>\n",
       "      <th>a3</th>\n",
       "      <th>a4</th>\n",
       "      <th>a5</th>\n",
       "      <th>y1</th>\n",
       "      <th>y2</th>\n",
       "    </tr>\n",
       "  </thead>\n",
       "  <tbody>\n",
       "    <tr>\n",
       "      <td>0</td>\n",
       "      <td>0.663113</td>\n",
       "      <td>0.774276</td>\n",
       "      <td>0.470970</td>\n",
       "      <td>0.096044</td>\n",
       "      <td>0.019865</td>\n",
       "      <td>0.083362</td>\n",
       "      <td>0.191476</td>\n",
       "    </tr>\n",
       "    <tr>\n",
       "      <td>1</td>\n",
       "      <td>0.659960</td>\n",
       "      <td>0.766021</td>\n",
       "      <td>0.473398</td>\n",
       "      <td>0.111023</td>\n",
       "      <td>0.027957</td>\n",
       "      <td>0.081265</td>\n",
       "      <td>0.174192</td>\n",
       "    </tr>\n",
       "    <tr>\n",
       "      <td>2</td>\n",
       "      <td>0.654670</td>\n",
       "      <td>0.767519</td>\n",
       "      <td>0.474198</td>\n",
       "      <td>0.105410</td>\n",
       "      <td>0.028907</td>\n",
       "      <td>0.079168</td>\n",
       "      <td>0.165544</td>\n",
       "    </tr>\n",
       "    <tr>\n",
       "      <td>3</td>\n",
       "      <td>0.653325</td>\n",
       "      <td>0.769922</td>\n",
       "      <td>0.475963</td>\n",
       "      <td>0.066221</td>\n",
       "      <td>0.029411</td>\n",
       "      <td>0.077070</td>\n",
       "      <td>0.168190</td>\n",
       "    </tr>\n",
       "    <tr>\n",
       "      <td>4</td>\n",
       "      <td>0.654726</td>\n",
       "      <td>0.760449</td>\n",
       "      <td>0.478833</td>\n",
       "      <td>0.033746</td>\n",
       "      <td>0.031592</td>\n",
       "      <td>0.074973</td>\n",
       "      <td>0.170836</td>\n",
       "    </tr>\n",
       "  </tbody>\n",
       "</table>\n",
       "</div>"
      ],
      "text/plain": [
       "         a1        a2        a3        a4        a5        y1        y2\n",
       "0  0.663113  0.774276  0.470970  0.096044  0.019865  0.083362  0.191476\n",
       "1  0.659960  0.766021  0.473398  0.111023  0.027957  0.081265  0.174192\n",
       "2  0.654670  0.767519  0.474198  0.105410  0.028907  0.079168  0.165544\n",
       "3  0.653325  0.769922  0.475963  0.066221  0.029411  0.077070  0.168190\n",
       "4  0.654726  0.760449  0.478833  0.033746  0.031592  0.074973  0.170836"
      ]
     },
     "execution_count": 122,
     "metadata": {},
     "output_type": "execute_result"
    }
   ],
   "source": [
    "data.head()"
   ]
  },
  {
   "cell_type": "code",
   "execution_count": 123,
   "metadata": {},
   "outputs": [
    {
     "data": {
      "text/html": [
       "<div>\n",
       "<style scoped>\n",
       "    .dataframe tbody tr th:only-of-type {\n",
       "        vertical-align: middle;\n",
       "    }\n",
       "\n",
       "    .dataframe tbody tr th {\n",
       "        vertical-align: top;\n",
       "    }\n",
       "\n",
       "    .dataframe thead th {\n",
       "        text-align: right;\n",
       "    }\n",
       "</style>\n",
       "<table border=\"1\" class=\"dataframe\">\n",
       "  <thead>\n",
       "    <tr style=\"text-align: right;\">\n",
       "      <th></th>\n",
       "      <th>a1</th>\n",
       "      <th>a2</th>\n",
       "      <th>a3</th>\n",
       "      <th>a4</th>\n",
       "      <th>a5</th>\n",
       "      <th>y1</th>\n",
       "      <th>y2</th>\n",
       "    </tr>\n",
       "  </thead>\n",
       "  <tbody>\n",
       "    <tr>\n",
       "      <td>count</td>\n",
       "      <td>10081.000000</td>\n",
       "      <td>10081.000000</td>\n",
       "      <td>10081.000000</td>\n",
       "      <td>10081.000000</td>\n",
       "      <td>10081.000000</td>\n",
       "      <td>10081.000000</td>\n",
       "      <td>10081.000000</td>\n",
       "    </tr>\n",
       "    <tr>\n",
       "      <td>mean</td>\n",
       "      <td>0.562323</td>\n",
       "      <td>0.562273</td>\n",
       "      <td>0.446097</td>\n",
       "      <td>0.594034</td>\n",
       "      <td>0.601057</td>\n",
       "      <td>0.080708</td>\n",
       "      <td>0.170595</td>\n",
       "    </tr>\n",
       "    <tr>\n",
       "      <td>std</td>\n",
       "      <td>0.205353</td>\n",
       "      <td>0.227673</td>\n",
       "      <td>0.151900</td>\n",
       "      <td>0.241992</td>\n",
       "      <td>0.202937</td>\n",
       "      <td>0.052988</td>\n",
       "      <td>0.056871</td>\n",
       "    </tr>\n",
       "    <tr>\n",
       "      <td>min</td>\n",
       "      <td>0.000000</td>\n",
       "      <td>0.000000</td>\n",
       "      <td>0.000000</td>\n",
       "      <td>0.000000</td>\n",
       "      <td>0.000000</td>\n",
       "      <td>0.000000</td>\n",
       "      <td>0.000000</td>\n",
       "    </tr>\n",
       "    <tr>\n",
       "      <td>25%</td>\n",
       "      <td>0.413025</td>\n",
       "      <td>0.356680</td>\n",
       "      <td>0.341961</td>\n",
       "      <td>0.410040</td>\n",
       "      <td>0.509083</td>\n",
       "      <td>0.057741</td>\n",
       "      <td>0.143513</td>\n",
       "    </tr>\n",
       "    <tr>\n",
       "      <td>50%</td>\n",
       "      <td>0.550183</td>\n",
       "      <td>0.585731</td>\n",
       "      <td>0.449397</td>\n",
       "      <td>0.722539</td>\n",
       "      <td>0.695339</td>\n",
       "      <td>0.073443</td>\n",
       "      <td>0.166507</td>\n",
       "    </tr>\n",
       "    <tr>\n",
       "      <td>75%</td>\n",
       "      <td>0.697718</td>\n",
       "      <td>0.767832</td>\n",
       "      <td>0.536040</td>\n",
       "      <td>0.739497</td>\n",
       "      <td>0.703899</td>\n",
       "      <td>0.089550</td>\n",
       "      <td>0.192329</td>\n",
       "    </tr>\n",
       "    <tr>\n",
       "      <td>max</td>\n",
       "      <td>1.000000</td>\n",
       "      <td>1.000000</td>\n",
       "      <td>1.000000</td>\n",
       "      <td>1.000000</td>\n",
       "      <td>1.000000</td>\n",
       "      <td>1.000000</td>\n",
       "      <td>1.000000</td>\n",
       "    </tr>\n",
       "  </tbody>\n",
       "</table>\n",
       "</div>"
      ],
      "text/plain": [
       "                 a1            a2            a3            a4            a5  \\\n",
       "count  10081.000000  10081.000000  10081.000000  10081.000000  10081.000000   \n",
       "mean       0.562323      0.562273      0.446097      0.594034      0.601057   \n",
       "std        0.205353      0.227673      0.151900      0.241992      0.202937   \n",
       "min        0.000000      0.000000      0.000000      0.000000      0.000000   \n",
       "25%        0.413025      0.356680      0.341961      0.410040      0.509083   \n",
       "50%        0.550183      0.585731      0.449397      0.722539      0.695339   \n",
       "75%        0.697718      0.767832      0.536040      0.739497      0.703899   \n",
       "max        1.000000      1.000000      1.000000      1.000000      1.000000   \n",
       "\n",
       "                 y1            y2  \n",
       "count  10081.000000  10081.000000  \n",
       "mean       0.080708      0.170595  \n",
       "std        0.052988      0.056871  \n",
       "min        0.000000      0.000000  \n",
       "25%        0.057741      0.143513  \n",
       "50%        0.073443      0.166507  \n",
       "75%        0.089550      0.192329  \n",
       "max        1.000000      1.000000  "
      ]
     },
     "execution_count": 123,
     "metadata": {},
     "output_type": "execute_result"
    }
   ],
   "source": [
    "data.describe()"
   ]
  },
  {
   "cell_type": "code",
   "execution_count": 124,
   "metadata": {},
   "outputs": [
    {
     "data": {
      "text/plain": [
       "a1    0\n",
       "a2    0\n",
       "a3    0\n",
       "a4    0\n",
       "a5    0\n",
       "y1    0\n",
       "y2    0\n",
       "dtype: int64"
      ]
     },
     "execution_count": 124,
     "metadata": {},
     "output_type": "execute_result"
    }
   ],
   "source": [
    "data.isnull().sum()"
   ]
  },
  {
   "cell_type": "code",
   "execution_count": 125,
   "metadata": {},
   "outputs": [
    {
     "data": {
      "text/plain": [
       "a1    9568\n",
       "a2    8249\n",
       "a3    9839\n",
       "a4    7561\n",
       "a5    6923\n",
       "y1    9368\n",
       "y2    9678\n",
       "dtype: int64"
      ]
     },
     "execution_count": 125,
     "metadata": {},
     "output_type": "execute_result"
    }
   ],
   "source": [
    "data.nunique()"
   ]
  },
  {
   "cell_type": "markdown",
   "metadata": {},
   "source": [
    "It looks like the data is normalized and anonymized. The H2S and SO2 concentrations could be anything. So, lets create separate models. for both of them."
   ]
  },
  {
   "cell_type": "code",
   "execution_count": 126,
   "metadata": {},
   "outputs": [
    {
     "data": {
      "image/png": "[encoded data removed]",
      "text/plain": [
       "<Figure size 1440x360 with 1 Axes>"
      ]
     },
     "metadata": {
      "needs_background": "light"
     },
     "output_type": "display_data"
    }
   ],
   "source": [
    "data['y1'].plot(figsize=(20,5))\n",
    "plt.grid()"
   ]
  },
  {
   "cell_type": "code",
   "execution_count": 127,
   "metadata": {},
   "outputs": [],
   "source": [
    "h2s = data.copy()"
   ]
  },
  {
   "cell_type": "code",
   "execution_count": 128,
   "metadata": {},
   "outputs": [],
   "source": [
    "h2s.drop(['y1'], axis=1, inplace=True)"
   ]
  },
  {
   "cell_type": "code",
   "execution_count": 129,
   "metadata": {},
   "outputs": [
    {
     "data": {
      "text/html": [
       "<div>\n",
       "<style scoped>\n",
       "    .dataframe tbody tr th:only-of-type {\n",
       "        vertical-align: middle;\n",
       "    }\n",
       "\n",
       "    .dataframe tbody tr th {\n",
       "        vertical-align: top;\n",
       "    }\n",
       "\n",
       "    .dataframe thead th {\n",
       "        text-align: right;\n",
       "    }\n",
       "</style>\n",
       "<table border=\"1\" class=\"dataframe\">\n",
       "  <thead>\n",
       "    <tr style=\"text-align: right;\">\n",
       "      <th></th>\n",
       "      <th>a1</th>\n",
       "      <th>a2</th>\n",
       "      <th>a3</th>\n",
       "      <th>a4</th>\n",
       "      <th>a5</th>\n",
       "      <th>y2</th>\n",
       "    </tr>\n",
       "  </thead>\n",
       "  <tbody>\n",
       "    <tr>\n",
       "      <td>0</td>\n",
       "      <td>0.663113</td>\n",
       "      <td>0.774276</td>\n",
       "      <td>0.470970</td>\n",
       "      <td>0.096044</td>\n",
       "      <td>0.019865</td>\n",
       "      <td>0.191476</td>\n",
       "    </tr>\n",
       "    <tr>\n",
       "      <td>1</td>\n",
       "      <td>0.659960</td>\n",
       "      <td>0.766021</td>\n",
       "      <td>0.473398</td>\n",
       "      <td>0.111023</td>\n",
       "      <td>0.027957</td>\n",
       "      <td>0.174192</td>\n",
       "    </tr>\n",
       "    <tr>\n",
       "      <td>2</td>\n",
       "      <td>0.654670</td>\n",
       "      <td>0.767519</td>\n",
       "      <td>0.474198</td>\n",
       "      <td>0.105410</td>\n",
       "      <td>0.028907</td>\n",
       "      <td>0.165544</td>\n",
       "    </tr>\n",
       "    <tr>\n",
       "      <td>3</td>\n",
       "      <td>0.653325</td>\n",
       "      <td>0.769922</td>\n",
       "      <td>0.475963</td>\n",
       "      <td>0.066221</td>\n",
       "      <td>0.029411</td>\n",
       "      <td>0.168190</td>\n",
       "    </tr>\n",
       "    <tr>\n",
       "      <td>4</td>\n",
       "      <td>0.654726</td>\n",
       "      <td>0.760449</td>\n",
       "      <td>0.478833</td>\n",
       "      <td>0.033746</td>\n",
       "      <td>0.031592</td>\n",
       "      <td>0.170836</td>\n",
       "    </tr>\n",
       "  </tbody>\n",
       "</table>\n",
       "</div>"
      ],
      "text/plain": [
       "         a1        a2        a3        a4        a5        y2\n",
       "0  0.663113  0.774276  0.470970  0.096044  0.019865  0.191476\n",
       "1  0.659960  0.766021  0.473398  0.111023  0.027957  0.174192\n",
       "2  0.654670  0.767519  0.474198  0.105410  0.028907  0.165544\n",
       "3  0.653325  0.769922  0.475963  0.066221  0.029411  0.168190\n",
       "4  0.654726  0.760449  0.478833  0.033746  0.031592  0.170836"
      ]
     },
     "execution_count": 129,
     "metadata": {},
     "output_type": "execute_result"
    }
   ],
   "source": [
    "h2s.head()"
   ]
  },
  {
   "cell_type": "code",
   "execution_count": 130,
   "metadata": {},
   "outputs": [
    {
     "data": {
      "text/html": [
       "<style  type=\"text/css\" >\n",
       "    #T_7ed09ef4_8649_11ea_9a9a_5ce0c518dcdcrow0_col0 {\n",
       "            background-color:  #081d58;\n",
       "            color:  #f1f1f1;\n",
       "        }    #T_7ed09ef4_8649_11ea_9a9a_5ce0c518dcdcrow0_col1 {\n",
       "            background-color:  #182a7a;\n",
       "            color:  #f1f1f1;\n",
       "        }    #T_7ed09ef4_8649_11ea_9a9a_5ce0c518dcdcrow0_col2 {\n",
       "            background-color:  #d0edb3;\n",
       "            color:  #000000;\n",
       "        }    #T_7ed09ef4_8649_11ea_9a9a_5ce0c518dcdcrow0_col3 {\n",
       "            background-color:  #83cebb;\n",
       "            color:  #000000;\n",
       "        }    #T_7ed09ef4_8649_11ea_9a9a_5ce0c518dcdcrow0_col4 {\n",
       "            background-color:  #3cb1c3;\n",
       "            color:  #000000;\n",
       "        }    #T_7ed09ef4_8649_11ea_9a9a_5ce0c518dcdcrow0_col5 {\n",
       "            background-color:  #e0f3b2;\n",
       "            color:  #000000;\n",
       "        }    #T_7ed09ef4_8649_11ea_9a9a_5ce0c518dcdcrow1_col0 {\n",
       "            background-color:  #1b2c80;\n",
       "            color:  #f1f1f1;\n",
       "        }    #T_7ed09ef4_8649_11ea_9a9a_5ce0c518dcdcrow1_col1 {\n",
       "            background-color:  #081d58;\n",
       "            color:  #f1f1f1;\n",
       "        }    #T_7ed09ef4_8649_11ea_9a9a_5ce0c518dcdcrow1_col2 {\n",
       "            background-color:  #f6fbc5;\n",
       "            color:  #000000;\n",
       "        }    #T_7ed09ef4_8649_11ea_9a9a_5ce0c518dcdcrow1_col3 {\n",
       "            background-color:  #7cccbb;\n",
       "            color:  #000000;\n",
       "        }    #T_7ed09ef4_8649_11ea_9a9a_5ce0c518dcdcrow1_col4 {\n",
       "            background-color:  #46b8c3;\n",
       "            color:  #000000;\n",
       "        }    #T_7ed09ef4_8649_11ea_9a9a_5ce0c518dcdcrow1_col5 {\n",
       "            background-color:  #cfecb3;\n",
       "            color:  #000000;\n",
       "        }    #T_7ed09ef4_8649_11ea_9a9a_5ce0c518dcdcrow2_col0 {\n",
       "            background-color:  #ffffd9;\n",
       "            color:  #000000;\n",
       "        }    #T_7ed09ef4_8649_11ea_9a9a_5ce0c518dcdcrow2_col1 {\n",
       "            background-color:  #ffffd9;\n",
       "            color:  #000000;\n",
       "        }    #T_7ed09ef4_8649_11ea_9a9a_5ce0c518dcdcrow2_col2 {\n",
       "            background-color:  #081d58;\n",
       "            color:  #f1f1f1;\n",
       "        }    #T_7ed09ef4_8649_11ea_9a9a_5ce0c518dcdcrow2_col3 {\n",
       "            background-color:  #ffffd9;\n",
       "            color:  #000000;\n",
       "        }    #T_7ed09ef4_8649_11ea_9a9a_5ce0c518dcdcrow2_col4 {\n",
       "            background-color:  #ffffd9;\n",
       "            color:  #000000;\n",
       "        }    #T_7ed09ef4_8649_11ea_9a9a_5ce0c518dcdcrow2_col5 {\n",
       "            background-color:  #ffffd9;\n",
       "            color:  #000000;\n",
       "        }    #T_7ed09ef4_8649_11ea_9a9a_5ce0c518dcdcrow3_col0 {\n",
       "            background-color:  #c9eab4;\n",
       "            color:  #000000;\n",
       "        }    #T_7ed09ef4_8649_11ea_9a9a_5ce0c518dcdcrow3_col1 {\n",
       "            background-color:  #7cccbb;\n",
       "            color:  #000000;\n",
       "        }    #T_7ed09ef4_8649_11ea_9a9a_5ce0c518dcdcrow3_col2 {\n",
       "            background-color:  #f6fbc5;\n",
       "            color:  #000000;\n",
       "        }    #T_7ed09ef4_8649_11ea_9a9a_5ce0c518dcdcrow3_col3 {\n",
       "            background-color:  #081d58;\n",
       "            color:  #f1f1f1;\n",
       "        }    #T_7ed09ef4_8649_11ea_9a9a_5ce0c518dcdcrow3_col4 {\n",
       "            background-color:  #1e2e85;\n",
       "            color:  #f1f1f1;\n",
       "        }    #T_7ed09ef4_8649_11ea_9a9a_5ce0c518dcdcrow3_col5 {\n",
       "            background-color:  #e5f5b2;\n",
       "            color:  #000000;\n",
       "        }    #T_7ed09ef4_8649_11ea_9a9a_5ce0c518dcdcrow4_col0 {\n",
       "            background-color:  #7acbbc;\n",
       "            color:  #000000;\n",
       "        }    #T_7ed09ef4_8649_11ea_9a9a_5ce0c518dcdcrow4_col1 {\n",
       "            background-color:  #57bec1;\n",
       "            color:  #000000;\n",
       "        }    #T_7ed09ef4_8649_11ea_9a9a_5ce0c518dcdcrow4_col2 {\n",
       "            background-color:  #ffffd9;\n",
       "            color:  #000000;\n",
       "        }    #T_7ed09ef4_8649_11ea_9a9a_5ce0c518dcdcrow4_col3 {\n",
       "            background-color:  #1f2f87;\n",
       "            color:  #f1f1f1;\n",
       "        }    #T_7ed09ef4_8649_11ea_9a9a_5ce0c518dcdcrow4_col4 {\n",
       "            background-color:  #081d58;\n",
       "            color:  #f1f1f1;\n",
       "        }    #T_7ed09ef4_8649_11ea_9a9a_5ce0c518dcdcrow4_col5 {\n",
       "            background-color:  #e3f4b2;\n",
       "            color:  #000000;\n",
       "        }    #T_7ed09ef4_8649_11ea_9a9a_5ce0c518dcdcrow5_col0 {\n",
       "            background-color:  #f1faba;\n",
       "            color:  #000000;\n",
       "        }    #T_7ed09ef4_8649_11ea_9a9a_5ce0c518dcdcrow5_col1 {\n",
       "            background-color:  #abdeb7;\n",
       "            color:  #000000;\n",
       "        }    #T_7ed09ef4_8649_11ea_9a9a_5ce0c518dcdcrow5_col2 {\n",
       "            background-color:  #e5f5b2;\n",
       "            color:  #000000;\n",
       "        }    #T_7ed09ef4_8649_11ea_9a9a_5ce0c518dcdcrow5_col3 {\n",
       "            background-color:  #cdebb4;\n",
       "            color:  #000000;\n",
       "        }    #T_7ed09ef4_8649_11ea_9a9a_5ce0c518dcdcrow5_col4 {\n",
       "            background-color:  #b2e1b6;\n",
       "            color:  #000000;\n",
       "        }    #T_7ed09ef4_8649_11ea_9a9a_5ce0c518dcdcrow5_col5 {\n",
       "            background-color:  #081d58;\n",
       "            color:  #f1f1f1;\n",
       "        }</style><table id=\"T_7ed09ef4_8649_11ea_9a9a_5ce0c518dcdc\" ><thead>    <tr>        <th class=\"blank level0\" ></th>        <th class=\"col_heading level0 col0\" >a1</th>        <th class=\"col_heading level0 col1\" >a2</th>        <th class=\"col_heading level0 col2\" >a3</th>        <th class=\"col_heading level0 col3\" >a4</th>        <th class=\"col_heading level0 col4\" >a5</th>        <th class=\"col_heading level0 col5\" >y2</th>    </tr></thead><tbody>\n",
       "                <tr>\n",
       "                        <th id=\"T_7ed09ef4_8649_11ea_9a9a_5ce0c518dcdclevel0_row0\" class=\"row_heading level0 row0\" >a1</th>\n",
       "                        <td id=\"T_7ed09ef4_8649_11ea_9a9a_5ce0c518dcdcrow0_col0\" class=\"data row0 col0\" >1.000</td>\n",
       "                        <td id=\"T_7ed09ef4_8649_11ea_9a9a_5ce0c518dcdcrow0_col1\" class=\"data row0 col1\" >0.913</td>\n",
       "                        <td id=\"T_7ed09ef4_8649_11ea_9a9a_5ce0c518dcdcrow0_col2\" class=\"data row0 col2\" >-0.030</td>\n",
       "                        <td id=\"T_7ed09ef4_8649_11ea_9a9a_5ce0c518dcdcrow0_col3\" class=\"data row0 col3\" >0.220</td>\n",
       "                        <td id=\"T_7ed09ef4_8649_11ea_9a9a_5ce0c518dcdcrow0_col4\" class=\"data row0 col4\" >0.366</td>\n",
       "                        <td id=\"T_7ed09ef4_8649_11ea_9a9a_5ce0c518dcdcrow0_col5\" class=\"data row0 col5\" >0.072</td>\n",
       "            </tr>\n",
       "            <tr>\n",
       "                        <th id=\"T_7ed09ef4_8649_11ea_9a9a_5ce0c518dcdclevel0_row1\" class=\"row_heading level0 row1\" >a2</th>\n",
       "                        <td id=\"T_7ed09ef4_8649_11ea_9a9a_5ce0c518dcdcrow1_col0\" class=\"data row1 col0\" >0.913</td>\n",
       "                        <td id=\"T_7ed09ef4_8649_11ea_9a9a_5ce0c518dcdcrow1_col1\" class=\"data row1 col1\" >1.000</td>\n",
       "                        <td id=\"T_7ed09ef4_8649_11ea_9a9a_5ce0c518dcdcrow1_col2\" class=\"data row1 col2\" >-0.234</td>\n",
       "                        <td id=\"T_7ed09ef4_8649_11ea_9a9a_5ce0c518dcdcrow1_col3\" class=\"data row1 col3\" >0.237</td>\n",
       "                        <td id=\"T_7ed09ef4_8649_11ea_9a9a_5ce0c518dcdcrow1_col4\" class=\"data row1 col4\" >0.330</td>\n",
       "                        <td id=\"T_7ed09ef4_8649_11ea_9a9a_5ce0c518dcdcrow1_col5\" class=\"data row1 col5\" >0.133</td>\n",
       "            </tr>\n",
       "            <tr>\n",
       "                        <th id=\"T_7ed09ef4_8649_11ea_9a9a_5ce0c518dcdclevel0_row2\" class=\"row_heading level0 row2\" >a3</th>\n",
       "                        <td id=\"T_7ed09ef4_8649_11ea_9a9a_5ce0c518dcdcrow2_col0\" class=\"data row2 col0\" >-0.030</td>\n",
       "                        <td id=\"T_7ed09ef4_8649_11ea_9a9a_5ce0c518dcdcrow2_col1\" class=\"data row2 col1\" >-0.234</td>\n",
       "                        <td id=\"T_7ed09ef4_8649_11ea_9a9a_5ce0c518dcdcrow2_col2\" class=\"data row2 col2\" >1.000</td>\n",
       "                        <td id=\"T_7ed09ef4_8649_11ea_9a9a_5ce0c518dcdcrow2_col3\" class=\"data row2 col3\" >-0.234</td>\n",
       "                        <td id=\"T_7ed09ef4_8649_11ea_9a9a_5ce0c518dcdcrow2_col4\" class=\"data row2 col4\" >-0.319</td>\n",
       "                        <td id=\"T_7ed09ef4_8649_11ea_9a9a_5ce0c518dcdcrow2_col5\" class=\"data row2 col5\" >-0.117</td>\n",
       "            </tr>\n",
       "            <tr>\n",
       "                        <th id=\"T_7ed09ef4_8649_11ea_9a9a_5ce0c518dcdclevel0_row3\" class=\"row_heading level0 row3\" >a4</th>\n",
       "                        <td id=\"T_7ed09ef4_8649_11ea_9a9a_5ce0c518dcdcrow3_col0\" class=\"data row3 col0\" >0.220</td>\n",
       "                        <td id=\"T_7ed09ef4_8649_11ea_9a9a_5ce0c518dcdcrow3_col1\" class=\"data row3 col1\" >0.237</td>\n",
       "                        <td id=\"T_7ed09ef4_8649_11ea_9a9a_5ce0c518dcdcrow3_col2\" class=\"data row3 col2\" >-0.234</td>\n",
       "                        <td id=\"T_7ed09ef4_8649_11ea_9a9a_5ce0c518dcdcrow3_col3\" class=\"data row3 col3\" >1.000</td>\n",
       "                        <td id=\"T_7ed09ef4_8649_11ea_9a9a_5ce0c518dcdcrow3_col4\" class=\"data row3 col4\" >0.876</td>\n",
       "                        <td id=\"T_7ed09ef4_8649_11ea_9a9a_5ce0c518dcdcrow3_col5\" class=\"data row3 col5\" >0.054</td>\n",
       "            </tr>\n",
       "            <tr>\n",
       "                        <th id=\"T_7ed09ef4_8649_11ea_9a9a_5ce0c518dcdclevel0_row4\" class=\"row_heading level0 row4\" >a5</th>\n",
       "                        <td id=\"T_7ed09ef4_8649_11ea_9a9a_5ce0c518dcdcrow4_col0\" class=\"data row4 col0\" >0.366</td>\n",
       "                        <td id=\"T_7ed09ef4_8649_11ea_9a9a_5ce0c518dcdcrow4_col1\" class=\"data row4 col1\" >0.330</td>\n",
       "                        <td id=\"T_7ed09ef4_8649_11ea_9a9a_5ce0c518dcdcrow4_col2\" class=\"data row4 col2\" >-0.319</td>\n",
       "                        <td id=\"T_7ed09ef4_8649_11ea_9a9a_5ce0c518dcdcrow4_col3\" class=\"data row4 col3\" >0.876</td>\n",
       "                        <td id=\"T_7ed09ef4_8649_11ea_9a9a_5ce0c518dcdcrow4_col4\" class=\"data row4 col4\" >1.000</td>\n",
       "                        <td id=\"T_7ed09ef4_8649_11ea_9a9a_5ce0c518dcdcrow4_col5\" class=\"data row4 col5\" >0.061</td>\n",
       "            </tr>\n",
       "            <tr>\n",
       "                        <th id=\"T_7ed09ef4_8649_11ea_9a9a_5ce0c518dcdclevel0_row5\" class=\"row_heading level0 row5\" >y2</th>\n",
       "                        <td id=\"T_7ed09ef4_8649_11ea_9a9a_5ce0c518dcdcrow5_col0\" class=\"data row5 col0\" >0.072</td>\n",
       "                        <td id=\"T_7ed09ef4_8649_11ea_9a9a_5ce0c518dcdcrow5_col1\" class=\"data row5 col1\" >0.133</td>\n",
       "                        <td id=\"T_7ed09ef4_8649_11ea_9a9a_5ce0c518dcdcrow5_col2\" class=\"data row5 col2\" >-0.117</td>\n",
       "                        <td id=\"T_7ed09ef4_8649_11ea_9a9a_5ce0c518dcdcrow5_col3\" class=\"data row5 col3\" >0.054</td>\n",
       "                        <td id=\"T_7ed09ef4_8649_11ea_9a9a_5ce0c518dcdcrow5_col4\" class=\"data row5 col4\" >0.061</td>\n",
       "                        <td id=\"T_7ed09ef4_8649_11ea_9a9a_5ce0c518dcdcrow5_col5\" class=\"data row5 col5\" >1.000</td>\n",
       "            </tr>\n",
       "    </tbody></table>"
      ],
      "text/plain": [
       "<pandas.io.formats.style.Styler at 0x1504b088>"
      ]
     },
     "execution_count": 130,
     "metadata": {},
     "output_type": "execute_result"
    }
   ],
   "source": [
    "h2s.corr().style.background_gradient(cmap='YlGnBu').format(\"{:.3f}\")"
   ]
  },
  {
   "cell_type": "code",
   "execution_count": 131,
   "metadata": {},
   "outputs": [],
   "source": [
    "h2s['a1_sq'] = h2s['a1']**2"
   ]
  },
  {
   "cell_type": "code",
   "execution_count": 132,
   "metadata": {},
   "outputs": [
    {
     "name": "stderr",
     "output_type": "stream",
     "text": [
      "C:\\Users\\sanjiv\\Anaconda3\\lib\\site-packages\\pandas\\core\\series.py:853: RuntimeWarning: divide by zero encountered in log\n",
      "  result = getattr(ufunc, method)(*inputs, **kwargs)\n"
     ]
    }
   ],
   "source": [
    "h2s['a1_cu'] = h2s['a1']**3\n",
    "h2s['a1_log'] = np.log(h2s['a1'])\n"
   ]
  },
  {
   "cell_type": "code",
   "execution_count": 133,
   "metadata": {},
   "outputs": [],
   "source": [
    "h2s['a1_inv'] = 1/h2s['a1']"
   ]
  },
  {
   "cell_type": "code",
   "execution_count": 134,
   "metadata": {},
   "outputs": [],
   "source": [
    "h2s['a1_sqrt'] = np.sqrt(h2s['a1'])"
   ]
  },
  {
   "cell_type": "code",
   "execution_count": 135,
   "metadata": {},
   "outputs": [
    {
     "data": {
      "text/html": [
       "<div>\n",
       "<style scoped>\n",
       "    .dataframe tbody tr th:only-of-type {\n",
       "        vertical-align: middle;\n",
       "    }\n",
       "\n",
       "    .dataframe tbody tr th {\n",
       "        vertical-align: top;\n",
       "    }\n",
       "\n",
       "    .dataframe thead th {\n",
       "        text-align: right;\n",
       "    }\n",
       "</style>\n",
       "<table border=\"1\" class=\"dataframe\">\n",
       "  <thead>\n",
       "    <tr style=\"text-align: right;\">\n",
       "      <th></th>\n",
       "      <th>a1</th>\n",
       "      <th>a2</th>\n",
       "      <th>a3</th>\n",
       "      <th>a4</th>\n",
       "      <th>a5</th>\n",
       "      <th>y2</th>\n",
       "      <th>a1_sq</th>\n",
       "      <th>a1_cu</th>\n",
       "      <th>a1_log</th>\n",
       "      <th>a1_inv</th>\n",
       "      <th>a1_sqrt</th>\n",
       "    </tr>\n",
       "  </thead>\n",
       "  <tbody>\n",
       "    <tr>\n",
       "      <td>0</td>\n",
       "      <td>0.663113</td>\n",
       "      <td>0.774276</td>\n",
       "      <td>0.470970</td>\n",
       "      <td>0.096044</td>\n",
       "      <td>0.019865</td>\n",
       "      <td>0.191476</td>\n",
       "      <td>0.439719</td>\n",
       "      <td>0.291583</td>\n",
       "      <td>-0.410810</td>\n",
       "      <td>1.508039</td>\n",
       "      <td>0.814318</td>\n",
       "    </tr>\n",
       "    <tr>\n",
       "      <td>1</td>\n",
       "      <td>0.659960</td>\n",
       "      <td>0.766021</td>\n",
       "      <td>0.473398</td>\n",
       "      <td>0.111023</td>\n",
       "      <td>0.027957</td>\n",
       "      <td>0.174192</td>\n",
       "      <td>0.435547</td>\n",
       "      <td>0.287444</td>\n",
       "      <td>-0.415576</td>\n",
       "      <td>1.515243</td>\n",
       "      <td>0.812379</td>\n",
       "    </tr>\n",
       "    <tr>\n",
       "      <td>2</td>\n",
       "      <td>0.654670</td>\n",
       "      <td>0.767519</td>\n",
       "      <td>0.474198</td>\n",
       "      <td>0.105410</td>\n",
       "      <td>0.028907</td>\n",
       "      <td>0.165544</td>\n",
       "      <td>0.428593</td>\n",
       "      <td>0.280587</td>\n",
       "      <td>-0.423624</td>\n",
       "      <td>1.527487</td>\n",
       "      <td>0.809117</td>\n",
       "    </tr>\n",
       "    <tr>\n",
       "      <td>3</td>\n",
       "      <td>0.653325</td>\n",
       "      <td>0.769922</td>\n",
       "      <td>0.475963</td>\n",
       "      <td>0.066221</td>\n",
       "      <td>0.029411</td>\n",
       "      <td>0.168190</td>\n",
       "      <td>0.426834</td>\n",
       "      <td>0.278861</td>\n",
       "      <td>-0.425681</td>\n",
       "      <td>1.530632</td>\n",
       "      <td>0.808285</td>\n",
       "    </tr>\n",
       "    <tr>\n",
       "      <td>4</td>\n",
       "      <td>0.654726</td>\n",
       "      <td>0.760449</td>\n",
       "      <td>0.478833</td>\n",
       "      <td>0.033746</td>\n",
       "      <td>0.031592</td>\n",
       "      <td>0.170836</td>\n",
       "      <td>0.428666</td>\n",
       "      <td>0.280659</td>\n",
       "      <td>-0.423538</td>\n",
       "      <td>1.527356</td>\n",
       "      <td>0.809151</td>\n",
       "    </tr>\n",
       "  </tbody>\n",
       "</table>\n",
       "</div>"
      ],
      "text/plain": [
       "         a1        a2        a3        a4        a5        y2     a1_sq  \\\n",
       "0  0.663113  0.774276  0.470970  0.096044  0.019865  0.191476  0.439719   \n",
       "1  0.659960  0.766021  0.473398  0.111023  0.027957  0.174192  0.435547   \n",
       "2  0.654670  0.767519  0.474198  0.105410  0.028907  0.165544  0.428593   \n",
       "3  0.653325  0.769922  0.475963  0.066221  0.029411  0.168190  0.426834   \n",
       "4  0.654726  0.760449  0.478833  0.033746  0.031592  0.170836  0.428666   \n",
       "\n",
       "      a1_cu    a1_log    a1_inv   a1_sqrt  \n",
       "0  0.291583 -0.410810  1.508039  0.814318  \n",
       "1  0.287444 -0.415576  1.515243  0.812379  \n",
       "2  0.280587 -0.423624  1.527487  0.809117  \n",
       "3  0.278861 -0.425681  1.530632  0.808285  \n",
       "4  0.280659 -0.423538  1.527356  0.809151  "
      ]
     },
     "execution_count": 135,
     "metadata": {},
     "output_type": "execute_result"
    }
   ],
   "source": [
    "h2s.head()"
   ]
  },
  {
   "cell_type": "code",
   "execution_count": 136,
   "metadata": {},
   "outputs": [],
   "source": [
    "h2s_corr = h2s.corr()\n",
    "mask = np.zeros_like(h2s_corr)\n",
    "mask[np.triu_indices_from(mask)] = True"
   ]
  },
  {
   "cell_type": "code",
   "execution_count": 137,
   "metadata": {},
   "outputs": [
    {
     "data": {
      "text/plain": [
       "<matplotlib.axes._subplots.AxesSubplot at 0x14687e48>"
      ]
     },
     "execution_count": 137,
     "metadata": {},
     "output_type": "execute_result"
    },
    {
     "data": {
      "image/png": "[encoded data removed]",
      "text/plain": [
       "<Figure size 720x576 with 2 Axes>"
      ]
     },
     "metadata": {
      "needs_background": "light"
     },
     "output_type": "display_data"
    }
   ],
   "source": [
    "plt.figure(figsize=(10,8))\n",
    "sns.heatmap(h2s_corr, annot=True, cmap='YlGnBu', vmax=1.0, vmin=-1.0, mask=mask, linewidths=2)\n"
   ]
  },
  {
   "cell_type": "markdown",
   "metadata": {},
   "source": [
    "To deal with multi collinearity, we need to drop the variables which are highly correlated. High correlation does not add value to the model.\n",
    "- `a1` and `a2` look highly correlated.\n",
    "- `a4` and `a5` look highly correlated.\n",
    "\n",
    "We will drop `a2` and `a5`, both air flows.\n",
    "\n",
    "There is a very weak correlation, so performing `Linear Regression` gives a very poor fit."
   ]
  },
  {
   "cell_type": "code",
   "execution_count": 65,
   "metadata": {},
   "outputs": [],
   "source": [
    "h2s.drop(['a2', 'a5'], axis=1, inplace = True)"
   ]
  },
  {
   "cell_type": "code",
   "execution_count": 66,
   "metadata": {},
   "outputs": [],
   "source": [
    "h2s.drop_duplicates(keep='first', inplace=True)"
   ]
  },
  {
   "cell_type": "code",
   "execution_count": 67,
   "metadata": {},
   "outputs": [
    {
     "name": "stdout",
     "output_type": "stream",
     "text": [
      "<class 'pandas.core.frame.DataFrame'>\n",
      "Int64Index: 10081 entries, 0 to 10080\n",
      "Data columns (total 4 columns):\n",
      "a1    10081 non-null float64\n",
      "a3    10081 non-null float64\n",
      "a4    10081 non-null float64\n",
      "y2    10081 non-null float64\n",
      "dtypes: float64(4)\n",
      "memory usage: 393.8 KB\n"
     ]
    }
   ],
   "source": [
    "h2s.info()"
   ]
  },
  {
   "cell_type": "code",
   "execution_count": 69,
   "metadata": {},
   "outputs": [],
   "source": [
    "X = h2s.drop(['y2'], axis = 1)\n",
    "y = h2s['y2']"
   ]
  },
  {
   "cell_type": "code",
   "execution_count": 70,
   "metadata": {},
   "outputs": [
    {
     "name": "stdout",
     "output_type": "stream",
     "text": [
      "(10081, 3) (10081,)\n"
     ]
    }
   ],
   "source": [
    "print(X.shape, y.shape)"
   ]
  },
  {
   "cell_type": "code",
   "execution_count": 71,
   "metadata": {},
   "outputs": [],
   "source": [
    "X_train, X_test, y_train, y_test = train_test_split(X, y, test_size= 0.3, random_state=101)"
   ]
  },
  {
   "cell_type": "markdown",
   "metadata": {},
   "source": [
    "## Model"
   ]
  },
  {
   "cell_type": "code",
   "execution_count": 72,
   "metadata": {},
   "outputs": [],
   "source": [
    "model_lr = LinearRegression()"
   ]
  },
  {
   "cell_type": "code",
   "execution_count": 73,
   "metadata": {},
   "outputs": [
    {
     "data": {
      "text/plain": [
       "LinearRegression(copy_X=True, fit_intercept=True, n_jobs=None, normalize=False)"
      ]
     },
     "execution_count": 73,
     "metadata": {},
     "output_type": "execute_result"
    }
   ],
   "source": [
    "model_lr.fit(X_train, y_train)"
   ]
  },
  {
   "cell_type": "code",
   "execution_count": 74,
   "metadata": {},
   "outputs": [
    {
     "data": {
      "text/plain": [
       "0.17520787300686863"
      ]
     },
     "execution_count": 74,
     "metadata": {},
     "output_type": "execute_result"
    }
   ],
   "source": [
    "model_lr.intercept_"
   ]
  },
  {
   "cell_type": "code",
   "execution_count": 75,
   "metadata": {},
   "outputs": [
    {
     "data": {
      "text/plain": [
       "array([ 0.01717334, -0.03802383,  0.00400851])"
      ]
     },
     "execution_count": 75,
     "metadata": {},
     "output_type": "execute_result"
    }
   ],
   "source": [
    "model_lr.coef_"
   ]
  },
  {
   "cell_type": "code",
   "execution_count": 76,
   "metadata": {},
   "outputs": [],
   "source": [
    "model_lr_pred = model_lr.predict(X_test)"
   ]
  },
  {
   "cell_type": "code",
   "execution_count": 77,
   "metadata": {},
   "outputs": [
    {
     "data": {
      "text/plain": [
       "array([0.16270641, 0.17405914, 0.16650138, ..., 0.16276941, 0.17813586,\n",
       "       0.16140528])"
      ]
     },
     "execution_count": 77,
     "metadata": {},
     "output_type": "execute_result"
    }
   ],
   "source": [
    "model_lr_pred"
   ]
  },
  {
   "cell_type": "code",
   "execution_count": 78,
   "metadata": {},
   "outputs": [],
   "source": [
    "master = y_test.to_frame('y_actual')"
   ]
  },
  {
   "cell_type": "code",
   "execution_count": 79,
   "metadata": {},
   "outputs": [],
   "source": [
    "master['y_pred'] = model_lr_pred"
   ]
  },
  {
   "cell_type": "code",
   "execution_count": 80,
   "metadata": {},
   "outputs": [
    {
     "data": {
      "text/html": [
       "<div>\n",
       "<style scoped>\n",
       "    .dataframe tbody tr th:only-of-type {\n",
       "        vertical-align: middle;\n",
       "    }\n",
       "\n",
       "    .dataframe tbody tr th {\n",
       "        vertical-align: top;\n",
       "    }\n",
       "\n",
       "    .dataframe thead th {\n",
       "        text-align: right;\n",
       "    }\n",
       "</style>\n",
       "<table border=\"1\" class=\"dataframe\">\n",
       "  <thead>\n",
       "    <tr style=\"text-align: right;\">\n",
       "      <th></th>\n",
       "      <th>y_actual</th>\n",
       "      <th>y_pred</th>\n",
       "    </tr>\n",
       "  </thead>\n",
       "  <tbody>\n",
       "    <tr>\n",
       "      <td>8278</td>\n",
       "      <td>0.176671</td>\n",
       "      <td>0.162706</td>\n",
       "    </tr>\n",
       "    <tr>\n",
       "      <td>7596</td>\n",
       "      <td>0.160272</td>\n",
       "      <td>0.174059</td>\n",
       "    </tr>\n",
       "    <tr>\n",
       "      <td>9255</td>\n",
       "      <td>0.116903</td>\n",
       "      <td>0.166501</td>\n",
       "    </tr>\n",
       "    <tr>\n",
       "      <td>6743</td>\n",
       "      <td>0.181636</td>\n",
       "      <td>0.171236</td>\n",
       "    </tr>\n",
       "    <tr>\n",
       "      <td>7423</td>\n",
       "      <td>0.112503</td>\n",
       "      <td>0.171682</td>\n",
       "    </tr>\n",
       "  </tbody>\n",
       "</table>\n",
       "</div>"
      ],
      "text/plain": [
       "      y_actual    y_pred\n",
       "8278  0.176671  0.162706\n",
       "7596  0.160272  0.174059\n",
       "9255  0.116903  0.166501\n",
       "6743  0.181636  0.171236\n",
       "7423  0.112503  0.171682"
      ]
     },
     "execution_count": 80,
     "metadata": {},
     "output_type": "execute_result"
    }
   ],
   "source": [
    "master.head()"
   ]
  },
  {
   "cell_type": "code",
   "execution_count": 81,
   "metadata": {},
   "outputs": [
    {
     "data": {
      "text/plain": [
       "<matplotlib.axes._subplots.AxesSubplot at 0xdbcb4c8>"
      ]
     },
     "execution_count": 81,
     "metadata": {},
     "output_type": "execute_result"
    },
    {
     "data": {
      "image/png": "[encoded data removed]",
      "text/plain": [
       "<Figure size 432x288 with 1 Axes>"
      ]
     },
     "metadata": {
      "needs_background": "light"
     },
     "output_type": "display_data"
    }
   ],
   "source": [
    "master.plot()"
   ]
  },
  {
   "cell_type": "code",
   "execution_count": 82,
   "metadata": {},
   "outputs": [
    {
     "data": {
      "text/plain": [
       "0.02255036728469051"
      ]
     },
     "execution_count": 82,
     "metadata": {},
     "output_type": "execute_result"
    }
   ],
   "source": [
    "model_lr.score(X_test, y_test)"
   ]
  },
  {
   "cell_type": "code",
   "execution_count": 83,
   "metadata": {},
   "outputs": [],
   "source": [
    "import statsmodels.api as sm\n",
    "from statsmodels.sandbox.regression.predstd import wls_prediction_std"
   ]
  },
  {
   "cell_type": "code",
   "execution_count": 84,
   "metadata": {},
   "outputs": [],
   "source": [
    "model_ols = sm.OLS(y_train, X_train)"
   ]
  },
  {
   "cell_type": "code",
   "execution_count": 85,
   "metadata": {},
   "outputs": [],
   "source": [
    "results = model_ols.fit()\n"
   ]
  },
  {
   "cell_type": "code",
   "execution_count": 96,
   "metadata": {},
   "outputs": [
    {
     "name": "stdout",
     "output_type": "stream",
     "text": [
      "                                 OLS Regression Results                                \n",
      "=======================================================================================\n",
      "Dep. Variable:                     y2   R-squared (uncentered):                   0.866\n",
      "Model:                            OLS   Adj. R-squared (uncentered):              0.866\n",
      "Method:                 Least Squares   F-statistic:                          1.522e+04\n",
      "Date:                Thu, 23 Apr 2020   Prob (F-statistic):                        0.00\n",
      "Time:                        23:09:41   Log-Likelihood:                          9209.6\n",
      "No. Observations:                7056   AIC:                                 -1.841e+04\n",
      "Df Residuals:                    7053   BIC:                                 -1.839e+04\n",
      "Df Model:                           3                                                  \n",
      "Covariance Type:            nonrobust                                                  \n",
      "==============================================================================\n",
      "                 coef    std err          t      P>|t|      [0.025      0.975]\n",
      "------------------------------------------------------------------------------\n",
      "a1             0.0941      0.004     26.780      0.000       0.087       0.101\n",
      "a3             0.1338      0.004     36.057      0.000       0.127       0.141\n",
      "a4             0.0853      0.003     29.711      0.000       0.080       0.091\n",
      "==============================================================================\n",
      "Omnibus:                     3287.454   Durbin-Watson:                   1.988\n",
      "Prob(Omnibus):                  0.000   Jarque-Bera (JB):            74375.913\n",
      "Skew:                           1.713   Prob(JB):                         0.00\n",
      "Kurtosis:                      18.532   Cond. No.                         5.55\n",
      "==============================================================================\n",
      "\n",
      "Warnings:\n",
      "[1] Standard Errors assume that the covariance matrix of the errors is correctly specified.\n"
     ]
    }
   ],
   "source": [
    "print(results.summary())"
   ]
  },
  {
   "cell_type": "code",
   "execution_count": 87,
   "metadata": {},
   "outputs": [],
   "source": [
    "from sklearn.metrics import r2_score"
   ]
  },
  {
   "cell_type": "code",
   "execution_count": 88,
   "metadata": {},
   "outputs": [
    {
     "data": {
      "text/plain": [
       "0.02255036728469051"
      ]
     },
     "execution_count": 88,
     "metadata": {},
     "output_type": "execute_result"
    }
   ],
   "source": [
    "r2_score(y_test, model_lr_pred)"
   ]
  },
  {
   "cell_type": "code",
   "execution_count": 89,
   "metadata": {},
   "outputs": [],
   "source": [
    "model_rf = RandomForestRegressor()"
   ]
  },
  {
   "cell_type": "code",
   "execution_count": 90,
   "metadata": {},
   "outputs": [
    {
     "name": "stderr",
     "output_type": "stream",
     "text": [
      "C:\\Users\\sanjiv\\Anaconda3\\lib\\site-packages\\sklearn\\ensemble\\forest.py:245: FutureWarning: The default value of n_estimators will change from 10 in version 0.20 to 100 in 0.22.\n",
      "  \"10 in version 0.20 to 100 in 0.22.\", FutureWarning)\n"
     ]
    },
    {
     "data": {
      "text/plain": [
       "RandomForestRegressor(bootstrap=True, criterion='mse', max_depth=None,\n",
       "                      max_features='auto', max_leaf_nodes=None,\n",
       "                      min_impurity_decrease=0.0, min_impurity_split=None,\n",
       "                      min_samples_leaf=1, min_samples_split=2,\n",
       "                      min_weight_fraction_leaf=0.0, n_estimators=10,\n",
       "                      n_jobs=None, oob_score=False, random_state=None,\n",
       "                      verbose=0, warm_start=False)"
      ]
     },
     "execution_count": 90,
     "metadata": {},
     "output_type": "execute_result"
    }
   ],
   "source": [
    "model_rf.fit(X_train, y_train)"
   ]
  },
  {
   "cell_type": "code",
   "execution_count": 91,
   "metadata": {},
   "outputs": [],
   "source": [
    "model_rf_pred = model_rf.predict(X_test)"
   ]
  },
  {
   "cell_type": "code",
   "execution_count": 92,
   "metadata": {},
   "outputs": [
    {
     "data": {
      "text/plain": [
       "array([0.1677727 , 0.17952695, 0.16713093, ..., 0.1441725 , 0.1608756 ,\n",
       "       0.14605598])"
      ]
     },
     "execution_count": 92,
     "metadata": {},
     "output_type": "execute_result"
    }
   ],
   "source": [
    "model_rf_pred"
   ]
  },
  {
   "cell_type": "code",
   "execution_count": 93,
   "metadata": {},
   "outputs": [
    {
     "data": {
      "text/plain": [
       "0.8550734921706538"
      ]
     },
     "execution_count": 93,
     "metadata": {},
     "output_type": "execute_result"
    }
   ],
   "source": [
    "model_rf.score(X_train, y_train)"
   ]
  },
  {
   "cell_type": "code",
   "execution_count": 94,
   "metadata": {},
   "outputs": [
    {
     "data": {
      "text/plain": [
       "0.3698942450927355"
      ]
     },
     "execution_count": 94,
     "metadata": {},
     "output_type": "execute_result"
    }
   ],
   "source": [
    "r2_score(y_test, model_rf_pred)"
   ]
  },
  {
   "cell_type": "code",
   "execution_count": null,
   "metadata": {},
   "outputs": [],
   "source": []
  }
 ],
 "metadata": {
  "kernelspec": {
   "display_name": "Python 3",
   "language": "python",
   "name": "python3"
  },
  "language_info": {
   "codemirror_mode": {
    "name": "ipython",
    "version": 3
   },
   "file_extension": ".py",
   "mimetype": "text/x-python",
   "name": "python",
   "nbconvert_exporter": "python",
   "pygments_lexer": "ipython3",
   "version": "3.7.4"
  }
 },
 "nbformat": 4,
 "nbformat_minor": 4
}
