{
 "cells": [
  {
   "cell_type": "markdown",
   "metadata": {
    "colab_type": "text",
    "id": "zQEZnI1H7Ag6"
   },
   "source": [
    "# UCI_Bank_Marketing Dataset - Classification problem - _Multi-layer Perceptron _\n",
    "\n",
    "\n",
    "### Approach\n",
    "\n",
    " 1. Load the data\n",
    "  - Read the dataset into a dataframe\n",
    "  - Separate the dataframe into *numerical* dataframe and *categorical* dataframe\n",
    "  - Scale the numerical variables in the numerical dataframe using *MinMax Scaler*\n",
    "  - Create dummy variables for each categorical variable using *pandas* library\n",
    "  - Concatenate the scaled numerical dataframe and the categorical dataframe (modified one with dummy variables)\n",
    " 2. Define the predictor variables and target variables as arrays (*X and y*). The ***y*** columns would be equal to number of target classes.\n",
    " 3. Split X and y as train and test datasets (90:10 Train-test ratio)\n",
    " 4. Neural Network Model\n",
    "  - Define a custom MLP model\n",
    "  - Define the neural network model parameters (no. of hidden layers, weights and biases for each layer etc.)\n",
    "  - Define the cost function and the optimizer to minimise the cost\n",
    "  - Define accuracy for the model\n",
    " 5. Train the defined model on the training set. \n",
    "  - Define epochs.\n",
    "  - For each epoch, consider a defined number of batches\n",
    "  - For each batch, randomly choose X_train and y_train values\n",
    "  - Calculate average cost and accuracy for each epoch\n",
    " 6. Validate the model on the test set - calculate the accuracy\n",
    "  "
   ]
  },
  {
   "cell_type": "markdown",
   "metadata": {
    "colab_type": "text",
    "id": "e8yJi-Q57Ag-"
   },
   "source": [
    "### Libraries"
   ]
  },
  {
   "cell_type": "code",
   "execution_count": null,
   "metadata": {
    "colab": {
     "autoexec": {
      "startup": false,
      "wait_interval": 0
     }
    },
    "colab_type": "code",
    "id": "wnnt1rzJ7AhE"
   },
   "outputs": [],
   "source": [
    "import tensorflow as tf\n",
    "import pandas as pd\n",
    "import numpy as np\n",
    "from sklearn.model_selection import train_test_split\n",
    "from sklearn.preprocessing import MinMaxScaler"
   ]
  },
  {
   "cell_type": "code",
   "execution_count": 3,
   "metadata": {
    "colab": {
     "autoexec": {
      "startup": false,
      "wait_interval": 0
     },
     "base_uri": "https://localhost:8080/",
     "height": 35
    },
    "colab_type": "code",
    "executionInfo": {
     "elapsed": 1347,
     "status": "ok",
     "timestamp": 1525522866995,
     "user": {
      "displayName": "Sanjiv Ch",
      "photoUrl": "//lh6.googleusercontent.com/-Wy0qQETtEtQ/AAAAAAAAAAI/AAAAAAAAAMs/WyPLp99WGy0/s50-c-k-no/photo.jpg",
      "userId": "103445961096566664337"
     },
     "user_tz": -330
    },
    "id": "n67ZHHF1Asjq",
    "outputId": "a40a0bb5-1983-4be1-bd50-bb561b3a82ec"
   },
   "outputs": [
    {
     "name": "stdout",
     "output_type": "stream",
     "text": [
      "Found GPU at: /device:GPU:0\n"
     ]
    }
   ],
   "source": [
    "# Check if the GPU is available - optional - only when using google colab\n",
    "device_name = tf.test.gpu_device_name()\n",
    "if device_name != '/device:GPU:0':\n",
    "  raise SystemError('GPU device not found')\n",
    "print('Found GPU at: {}'.format(device_name))"
   ]
  },
  {
   "cell_type": "markdown",
   "metadata": {
    "colab_type": "text",
    "id": "2P4IKs397Ahc"
   },
   "source": [
    "### Load the dataset\n",
    "\n",
    "If using the Google Colab platform, run the cells below to upload the dataset from the local machine. This works on Google Chrome only."
   ]
  },
  {
   "cell_type": "code",
   "execution_count": 6,
   "metadata": {
    "colab": {
     "autoexec": {
      "startup": false,
      "wait_interval": 0
     },
     "base_uri": "https://localhost:8080/",
     "height": 73,
     "resources": {
      "http://localhost:8080/nbextensions/google.colab/files.js": {
       "data": "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",
       "headers": [
        [
         "content-type",
         "application/javascript"
        ]
       ],
       "ok": true,
       "status": 200,
       "status_text": ""
      }
     }
    },
    "colab_type": "code",
    "executionInfo": {
     "elapsed": 90229,
     "status": "ok",
     "timestamp": 1525522998226,
     "user": {
      "displayName": "Sanjiv Ch",
      "photoUrl": "//lh6.googleusercontent.com/-Wy0qQETtEtQ/AAAAAAAAAAI/AAAAAAAAAMs/WyPLp99WGy0/s50-c-k-no/photo.jpg",
      "userId": "103445961096566664337"
     },
     "user_tz": -330
    },
    "id": "dc_jk9oACBjq",
    "outputId": "17639254-3453-4789-9e30-f5c8c6e906e2"
   },
   "outputs": [
    {
     "data": {
      "text/html": [
       "\n",
       "     <input type=\"file\" id=\"files-9c772da6-833a-47e1-bd9d-30b38f83fd72\" name=\"files[]\" multiple disabled />\n",
       "     <output id=\"result-9c772da6-833a-47e1-bd9d-30b38f83fd72\">\n",
       "      Upload widget is only available when the cell has been executed in the\n",
       "      current browser session. Please rerun this cell to enable.\n",
       "      </output>\n",
       "      <script src=\"/nbextensions/google.colab/files.js\"></script> "
      ],
      "text/plain": [
       "<IPython.core.display.HTML object>"
      ]
     },
     "metadata": {
      "tags": []
     },
     "output_type": "display_data"
    },
    {
     "name": "stdout",
     "output_type": "stream",
     "text": [
      "Saving bank-additional-full.csv to bank-additional-full (1).csv\n"
     ]
    }
   ],
   "source": [
    "# Comment these lines of code if running from local machine \n",
    "# Select the dataset csv file from the Choose Files button and rerun the cell\n",
    "from google.colab import files\n",
    "uploaded = files.upload()\n",
    "\n"
   ]
  },
  {
   "cell_type": "code",
   "execution_count": 7,
   "metadata": {
    "colab": {
     "autoexec": {
      "startup": false,
      "wait_interval": 0
     },
     "base_uri": "https://localhost:8080/",
     "height": 160
    },
    "colab_type": "code",
    "executionInfo": {
     "elapsed": 937,
     "status": "ok",
     "timestamp": 1525523025857,
     "user": {
      "displayName": "Sanjiv Ch",
      "photoUrl": "//lh6.googleusercontent.com/-Wy0qQETtEtQ/AAAAAAAAAAI/AAAAAAAAAMs/WyPLp99WGy0/s50-c-k-no/photo.jpg",
      "userId": "103445961096566664337"
     },
     "user_tz": -330
    },
    "id": "sHyrNGUXbPOp",
    "outputId": "5edf6adb-06ea-4afe-9afd-9cb64bf92c40"
   },
   "outputs": [
    {
     "data": {
      "text/html": [
       "<div>\n",
       "<style scoped>\n",
       "    .dataframe tbody tr th:only-of-type {\n",
       "        vertical-align: middle;\n",
       "    }\n",
       "\n",
       "    .dataframe tbody tr th {\n",
       "        vertical-align: top;\n",
       "    }\n",
       "\n",
       "    .dataframe thead th {\n",
       "        text-align: right;\n",
       "    }\n",
       "</style>\n",
       "<table border=\"1\" class=\"dataframe\">\n",
       "  <thead>\n",
       "    <tr style=\"text-align: right;\">\n",
       "      <th></th>\n",
       "      <th>age</th>\n",
       "      <th>job</th>\n",
       "      <th>marital</th>\n",
       "      <th>education</th>\n",
       "      <th>default</th>\n",
       "      <th>housing</th>\n",
       "      <th>loan</th>\n",
       "      <th>contact</th>\n",
       "      <th>month</th>\n",
       "      <th>day_of_week</th>\n",
       "      <th>...</th>\n",
       "      <th>campaign</th>\n",
       "      <th>pdays</th>\n",
       "      <th>previous</th>\n",
       "      <th>poutcome</th>\n",
       "      <th>emp.var.rate</th>\n",
       "      <th>cons.price.idx</th>\n",
       "      <th>cons.conf.idx</th>\n",
       "      <th>euribor3m</th>\n",
       "      <th>nr.employed</th>\n",
       "      <th>y</th>\n",
       "    </tr>\n",
       "  </thead>\n",
       "  <tbody>\n",
       "    <tr>\n",
       "      <th>0</th>\n",
       "      <td>56</td>\n",
       "      <td>housemaid</td>\n",
       "      <td>married</td>\n",
       "      <td>basic.4y</td>\n",
       "      <td>no</td>\n",
       "      <td>no</td>\n",
       "      <td>no</td>\n",
       "      <td>telephone</td>\n",
       "      <td>may</td>\n",
       "      <td>mon</td>\n",
       "      <td>...</td>\n",
       "      <td>1</td>\n",
       "      <td>999</td>\n",
       "      <td>0</td>\n",
       "      <td>nonexistent</td>\n",
       "      <td>1.1</td>\n",
       "      <td>93.994</td>\n",
       "      <td>-36.4</td>\n",
       "      <td>4.857</td>\n",
       "      <td>5191.0</td>\n",
       "      <td>no</td>\n",
       "    </tr>\n",
       "    <tr>\n",
       "      <th>1</th>\n",
       "      <td>57</td>\n",
       "      <td>services</td>\n",
       "      <td>married</td>\n",
       "      <td>high.school</td>\n",
       "      <td>unknown</td>\n",
       "      <td>no</td>\n",
       "      <td>no</td>\n",
       "      <td>telephone</td>\n",
       "      <td>may</td>\n",
       "      <td>mon</td>\n",
       "      <td>...</td>\n",
       "      <td>1</td>\n",
       "      <td>999</td>\n",
       "      <td>0</td>\n",
       "      <td>nonexistent</td>\n",
       "      <td>1.1</td>\n",
       "      <td>93.994</td>\n",
       "      <td>-36.4</td>\n",
       "      <td>4.857</td>\n",
       "      <td>5191.0</td>\n",
       "      <td>no</td>\n",
       "    </tr>\n",
       "  </tbody>\n",
       "</table>\n",
       "<p>2 rows × 21 columns</p>\n",
       "</div>"
      ],
      "text/plain": [
       "   age        job  marital    education  default housing loan    contact  \\\n",
       "0   56  housemaid  married     basic.4y       no      no   no  telephone   \n",
       "1   57   services  married  high.school  unknown      no   no  telephone   \n",
       "\n",
       "  month day_of_week ...  campaign  pdays  previous     poutcome emp.var.rate  \\\n",
       "0   may         mon ...         1    999         0  nonexistent          1.1   \n",
       "1   may         mon ...         1    999         0  nonexistent          1.1   \n",
       "\n",
       "   cons.price.idx  cons.conf.idx  euribor3m  nr.employed   y  \n",
       "0          93.994          -36.4      4.857       5191.0  no  \n",
       "1          93.994          -36.4      4.857       5191.0  no  \n",
       "\n",
       "[2 rows x 21 columns]"
      ]
     },
     "execution_count": 7,
     "metadata": {
      "tags": []
     },
     "output_type": "execute_result"
    }
   ],
   "source": [
    "import io\n",
    "# Read the dataset\n",
    "# Uncomment the line below if running on a local machine. Chnage the path of dataset accordingly\n",
    "#Banco = pd.read_csv('/home/sanjiv/Downloads/Python-Data-Science-and-Machine-Learning-Bootcamp/Python-Data-Science-and-Machine-Learning-Bootcamp/ML Tutorials/bank-additional-full.csv', sep=';')\n",
    "\n",
    "# Comment the line below if running from a local machine\n",
    "Banco = pd.read_csv(io.StringIO(uploaded['bank-additional-full.csv'].decode('utf-8')), sep=';')\n",
    "\n",
    "Banco.head(2)"
   ]
  },
  {
   "cell_type": "code",
   "execution_count": null,
   "metadata": {
    "colab": {
     "autoexec": {
      "startup": false,
      "wait_interval": 0
     }
    },
    "colab_type": "code",
    "id": "heQoAaEH7Ah2"
   },
   "outputs": [],
   "source": [
    "# Replace the 'yes' and 'no' in the target variable to 'Subscriber' and 'non-subscriber'\n",
    "# Doing so will help us during the application of get dummies on the target variable\n",
    "Banco['y'].replace('yes','Subscriber', inplace=True)\n",
    "Banco['y'].replace('no', 'Non-subscriber', inplace=True)"
   ]
  },
  {
   "cell_type": "code",
   "execution_count": null,
   "metadata": {
    "colab": {
     "autoexec": {
      "startup": false,
      "wait_interval": 0
     }
    },
    "colab_type": "code",
    "id": "lUtB_5TL7AiE"
   },
   "outputs": [],
   "source": [
    "# Create two seperate dataframes - categorial and numeric\n",
    "Banco_cat = Banco.select_dtypes(exclude=[np.number])\n",
    "Banco_num = Banco.select_dtypes(include=[np.number])"
   ]
  },
  {
   "cell_type": "markdown",
   "metadata": {
    "colab_type": "text",
    "id": "kabHT7zq7AiQ"
   },
   "source": [
    "### Scale the variables"
   ]
  },
  {
   "cell_type": "code",
   "execution_count": null,
   "metadata": {
    "colab": {
     "autoexec": {
      "startup": false,
      "wait_interval": 0
     }
    },
    "colab_type": "code",
    "id": "Jqdql9Yj7AiU"
   },
   "outputs": [],
   "source": [
    "# Scale the numerical variables\n",
    "min_max_scaler = MinMaxScaler()\n",
    "\n",
    "Banco_num = pd.DataFrame(min_max_scaler.fit_transform(Banco_num), columns=Banco_num.columns)"
   ]
  },
  {
   "cell_type": "code",
   "execution_count": null,
   "metadata": {
    "colab": {
     "autoexec": {
      "startup": false,
      "wait_interval": 0
     }
    },
    "colab_type": "code",
    "id": "2d26g0hu7Aik"
   },
   "outputs": [],
   "source": [
    "# Add the numeric dataframe to a new dataframe. Concatenate the categorical variables to the new dataframe after creating dummy variables\n",
    "Banco_mod = Banco_num"
   ]
  },
  {
   "cell_type": "markdown",
   "metadata": {
    "colab_type": "text",
    "id": "LcTU0YG57Ai8"
   },
   "source": [
    "### Covert categorical variables to dummy variables"
   ]
  },
  {
   "cell_type": "code",
   "execution_count": null,
   "metadata": {
    "colab": {
     "autoexec": {
      "startup": false,
      "wait_interval": 0
     }
    },
    "colab_type": "code",
    "id": "fvvBFtt87Ai-"
   },
   "outputs": [],
   "source": [
    "# Get dummies for all categorical variables and concatenate the each resulting dataframe to the Banco_mod dataframe\n",
    "for col in Banco_cat.columns:\n",
    "        Banco_mod = pd.concat([Banco_mod,pd.get_dummies(Banco_cat[col])], axis=1)"
   ]
  },
  {
   "cell_type": "code",
   "execution_count": 13,
   "metadata": {
    "colab": {
     "autoexec": {
      "startup": false,
      "wait_interval": 0
     },
     "base_uri": "https://localhost:8080/",
     "height": 177
    },
    "colab_type": "code",
    "executionInfo": {
     "elapsed": 897,
     "status": "ok",
     "timestamp": 1525523040749,
     "user": {
      "displayName": "Sanjiv Ch",
      "photoUrl": "//lh6.googleusercontent.com/-Wy0qQETtEtQ/AAAAAAAAAAI/AAAAAAAAAMs/WyPLp99WGy0/s50-c-k-no/photo.jpg",
      "userId": "103445961096566664337"
     },
     "user_tz": -330
    },
    "id": "B2GONGU77AjK",
    "outputId": "cb1ba0b6-bf7e-4b85-aa1b-3ee7da457dd7"
   },
   "outputs": [
    {
     "data": {
      "text/html": [
       "<div>\n",
       "<style scoped>\n",
       "    .dataframe tbody tr th:only-of-type {\n",
       "        vertical-align: middle;\n",
       "    }\n",
       "\n",
       "    .dataframe tbody tr th {\n",
       "        vertical-align: top;\n",
       "    }\n",
       "\n",
       "    .dataframe thead th {\n",
       "        text-align: right;\n",
       "    }\n",
       "</style>\n",
       "<table border=\"1\" class=\"dataframe\">\n",
       "  <thead>\n",
       "    <tr style=\"text-align: right;\">\n",
       "      <th></th>\n",
       "      <th>age</th>\n",
       "      <th>duration</th>\n",
       "      <th>campaign</th>\n",
       "      <th>pdays</th>\n",
       "      <th>previous</th>\n",
       "      <th>emp.var.rate</th>\n",
       "      <th>cons.price.idx</th>\n",
       "      <th>cons.conf.idx</th>\n",
       "      <th>euribor3m</th>\n",
       "      <th>nr.employed</th>\n",
       "      <th>...</th>\n",
       "      <th>fri</th>\n",
       "      <th>mon</th>\n",
       "      <th>thu</th>\n",
       "      <th>tue</th>\n",
       "      <th>wed</th>\n",
       "      <th>failure</th>\n",
       "      <th>nonexistent</th>\n",
       "      <th>success</th>\n",
       "      <th>Non-subscriber</th>\n",
       "      <th>Subscriber</th>\n",
       "    </tr>\n",
       "  </thead>\n",
       "  <tbody>\n",
       "    <tr>\n",
       "      <th>0</th>\n",
       "      <td>0.481481</td>\n",
       "      <td>0.053070</td>\n",
       "      <td>0.0</td>\n",
       "      <td>1.0</td>\n",
       "      <td>0.0</td>\n",
       "      <td>0.9375</td>\n",
       "      <td>0.698753</td>\n",
       "      <td>0.60251</td>\n",
       "      <td>0.957379</td>\n",
       "      <td>0.859735</td>\n",
       "      <td>...</td>\n",
       "      <td>0</td>\n",
       "      <td>1</td>\n",
       "      <td>0</td>\n",
       "      <td>0</td>\n",
       "      <td>0</td>\n",
       "      <td>0</td>\n",
       "      <td>1</td>\n",
       "      <td>0</td>\n",
       "      <td>1</td>\n",
       "      <td>0</td>\n",
       "    </tr>\n",
       "    <tr>\n",
       "      <th>1</th>\n",
       "      <td>0.493827</td>\n",
       "      <td>0.030297</td>\n",
       "      <td>0.0</td>\n",
       "      <td>1.0</td>\n",
       "      <td>0.0</td>\n",
       "      <td>0.9375</td>\n",
       "      <td>0.698753</td>\n",
       "      <td>0.60251</td>\n",
       "      <td>0.957379</td>\n",
       "      <td>0.859735</td>\n",
       "      <td>...</td>\n",
       "      <td>0</td>\n",
       "      <td>1</td>\n",
       "      <td>0</td>\n",
       "      <td>0</td>\n",
       "      <td>0</td>\n",
       "      <td>0</td>\n",
       "      <td>1</td>\n",
       "      <td>0</td>\n",
       "      <td>1</td>\n",
       "      <td>0</td>\n",
       "    </tr>\n",
       "  </tbody>\n",
       "</table>\n",
       "<p>2 rows × 65 columns</p>\n",
       "</div>"
      ],
      "text/plain": [
       "        age  duration  campaign  pdays  previous  emp.var.rate  \\\n",
       "0  0.481481  0.053070       0.0    1.0       0.0        0.9375   \n",
       "1  0.493827  0.030297       0.0    1.0       0.0        0.9375   \n",
       "\n",
       "   cons.price.idx  cons.conf.idx  euribor3m  nr.employed     ...      fri  \\\n",
       "0        0.698753        0.60251   0.957379     0.859735     ...        0   \n",
       "1        0.698753        0.60251   0.957379     0.859735     ...        0   \n",
       "\n",
       "   mon  thu  tue  wed  failure  nonexistent  success  Non-subscriber  \\\n",
       "0    1    0    0    0        0            1        0               1   \n",
       "1    1    0    0    0        0            1        0               1   \n",
       "\n",
       "   Subscriber  \n",
       "0           0  \n",
       "1           0  \n",
       "\n",
       "[2 rows x 65 columns]"
      ]
     },
     "execution_count": 13,
     "metadata": {
      "tags": []
     },
     "output_type": "execute_result"
    }
   ],
   "source": [
    "# Check the concatenated dataframe\n",
    "Banco_mod.head(2)"
   ]
  },
  {
   "cell_type": "code",
   "execution_count": 14,
   "metadata": {
    "colab": {
     "autoexec": {
      "startup": false,
      "wait_interval": 0
     },
     "base_uri": "https://localhost:8080/",
     "height": 1277
    },
    "colab_type": "code",
    "executionInfo": {
     "elapsed": 1322,
     "status": "ok",
     "timestamp": 1525523043662,
     "user": {
      "displayName": "Sanjiv Ch",
      "photoUrl": "//lh6.googleusercontent.com/-Wy0qQETtEtQ/AAAAAAAAAAI/AAAAAAAAAMs/WyPLp99WGy0/s50-c-k-no/photo.jpg",
      "userId": "103445961096566664337"
     },
     "user_tz": -330
    },
    "id": "TIE-ZJ4l7Aji",
    "outputId": "9cae13b6-7d33-4d8b-afca-dd0672d23cb6"
   },
   "outputs": [
    {
     "name": "stdout",
     "output_type": "stream",
     "text": [
      "<class 'pandas.core.frame.DataFrame'>\n",
      "RangeIndex: 41188 entries, 0 to 41187\n",
      "Data columns (total 65 columns):\n",
      "age                    41188 non-null float64\n",
      "duration               41188 non-null float64\n",
      "campaign               41188 non-null float64\n",
      "pdays                  41188 non-null float64\n",
      "previous               41188 non-null float64\n",
      "emp.var.rate           41188 non-null float64\n",
      "cons.price.idx         41188 non-null float64\n",
      "cons.conf.idx          41188 non-null float64\n",
      "euribor3m              41188 non-null float64\n",
      "nr.employed            41188 non-null float64\n",
      "admin.                 41188 non-null uint8\n",
      "blue-collar            41188 non-null uint8\n",
      "entrepreneur           41188 non-null uint8\n",
      "housemaid              41188 non-null uint8\n",
      "management             41188 non-null uint8\n",
      "retired                41188 non-null uint8\n",
      "self-employed          41188 non-null uint8\n",
      "services               41188 non-null uint8\n",
      "student                41188 non-null uint8\n",
      "technician             41188 non-null uint8\n",
      "unemployed             41188 non-null uint8\n",
      "unknown                41188 non-null uint8\n",
      "divorced               41188 non-null uint8\n",
      "married                41188 non-null uint8\n",
      "single                 41188 non-null uint8\n",
      "unknown                41188 non-null uint8\n",
      "basic.4y               41188 non-null uint8\n",
      "basic.6y               41188 non-null uint8\n",
      "basic.9y               41188 non-null uint8\n",
      "high.school            41188 non-null uint8\n",
      "illiterate             41188 non-null uint8\n",
      "professional.course    41188 non-null uint8\n",
      "university.degree      41188 non-null uint8\n",
      "unknown                41188 non-null uint8\n",
      "no                     41188 non-null uint8\n",
      "unknown                41188 non-null uint8\n",
      "yes                    41188 non-null uint8\n",
      "no                     41188 non-null uint8\n",
      "unknown                41188 non-null uint8\n",
      "yes                    41188 non-null uint8\n",
      "no                     41188 non-null uint8\n",
      "unknown                41188 non-null uint8\n",
      "yes                    41188 non-null uint8\n",
      "cellular               41188 non-null uint8\n",
      "telephone              41188 non-null uint8\n",
      "apr                    41188 non-null uint8\n",
      "aug                    41188 non-null uint8\n",
      "dec                    41188 non-null uint8\n",
      "jul                    41188 non-null uint8\n",
      "jun                    41188 non-null uint8\n",
      "mar                    41188 non-null uint8\n",
      "may                    41188 non-null uint8\n",
      "nov                    41188 non-null uint8\n",
      "oct                    41188 non-null uint8\n",
      "sep                    41188 non-null uint8\n",
      "fri                    41188 non-null uint8\n",
      "mon                    41188 non-null uint8\n",
      "thu                    41188 non-null uint8\n",
      "tue                    41188 non-null uint8\n",
      "wed                    41188 non-null uint8\n",
      "failure                41188 non-null uint8\n",
      "nonexistent            41188 non-null uint8\n",
      "success                41188 non-null uint8\n",
      "Non-subscriber         41188 non-null uint8\n",
      "Subscriber             41188 non-null uint8\n",
      "dtypes: float64(10), uint8(55)\n",
      "memory usage: 5.3 MB\n"
     ]
    }
   ],
   "source": [
    "Banco_mod.info()"
   ]
  },
  {
   "cell_type": "markdown",
   "metadata": {
    "colab_type": "text",
    "id": "szZxS9o87Ajw"
   },
   "source": [
    "### Train-test split"
   ]
  },
  {
   "cell_type": "code",
   "execution_count": null,
   "metadata": {
    "colab": {
     "autoexec": {
      "startup": false,
      "wait_interval": 0
     }
    },
    "colab_type": "code",
    "id": "tNux815o7Aj0"
   },
   "outputs": [],
   "source": [
    "# Get X and y data - Drop the dummy target classes from X\n",
    "# Get the values of X and y as numpy arrays instead of pandas series\n",
    "X = Banco_mod.drop(['Subscriber','Non-subscriber'],axis=1).values\n",
    "y = Banco_mod[['Subscriber', 'Non-subscriber']].values           "
   ]
  },
  {
   "cell_type": "code",
   "execution_count": null,
   "metadata": {
    "colab": {
     "autoexec": {
      "startup": false,
      "wait_interval": 0
     }
    },
    "colab_type": "code",
    "id": "-c8linx-7AkA"
   },
   "outputs": [],
   "source": [
    "# Train-test split - Considering 90:10 ratio for train and test respectively\n",
    "X_train, X_test, y_train, y_test = train_test_split(X, y, test_size= 0.1,random_state = 101)"
   ]
  },
  {
   "cell_type": "markdown",
   "metadata": {
    "colab_type": "text",
    "id": "WNGYF1O07AkQ"
   },
   "source": [
    "### Neural Network - Multi-layer perceptron Model\n",
    "\n",
    "Define a four hidden layer neural network. Activation function used is *tanh* for all the hidden layers and the output layer."
   ]
  },
  {
   "cell_type": "code",
   "execution_count": null,
   "metadata": {
    "colab": {
     "autoexec": {
      "startup": false,
      "wait_interval": 0
     }
    },
    "colab_type": "code",
    "id": "vIg-JoeB7Akk"
   },
   "outputs": [],
   "source": [
    "# Define Multi-layer perceptron model\n",
    "def mlp(_X, _weights, _biases, dropout_keep_prob):\n",
    "    \n",
    "    # Layer 1\n",
    "    layer1 = tf.nn.dropout(tf.nn.tanh(tf.add(tf.matmul(_X, _weights['h1']), _biases['b1'])), dropout_keep_prob)\n",
    "    \n",
    "    # Layer 2\n",
    "    layer2 = tf.nn.dropout(tf.nn.tanh(tf.add(tf.matmul(layer1, _weights['h2']), _biases['b2'])), dropout_keep_prob)\n",
    "    \n",
    "    # Layer 3\n",
    "    layer3 = tf.nn.dropout(tf.nn.tanh(tf.add(tf.matmul(layer2, _weights['h3']), _biases['b3'])), dropout_keep_prob)\n",
    "    \n",
    "    # Layer 4\n",
    "    layer4 = tf.nn.dropout(tf.nn.tanh(tf.add(tf.matmul(layer3, _weights['h4']), _biases['b4'])), dropout_keep_prob)\n",
    "    \n",
    "    # Output layer\n",
    "    out = tf.nn.tanh(tf.add(tf.matmul(layer4, _weights['out']), _biases['out']))\n",
    "    \n",
    "    return out"
   ]
  },
  {
   "cell_type": "code",
   "execution_count": null,
   "metadata": {
    "colab": {
     "autoexec": {
      "startup": false,
      "wait_interval": 0
     }
    },
    "colab_type": "code",
    "id": "P0yVLoHf7AkS"
   },
   "outputs": [],
   "source": [
    "# Network parameters\n",
    "# randomly assign neurons in each layer\n",
    "n_input = Banco_mod.shape[1] - 2   # Input size (There are only 63 input variables)\n",
    "n_hidden_1 = 100                   # 1st layer\n",
    "n_hidden_2 = 200                   # 2nd layer\n",
    "n_hidden_3 = 200                   # 3rd layer\n",
    "n_hidden_4 = 50                    # 4th layer\n",
    "n_classes = 2                      # output m classes\n",
    "\n",
    "# X and y - tf placeholders\n",
    "X = tf.placeholder(tf.float32, [None, n_input])\n",
    "y = tf.placeholder(tf.float32, [None, n_classes])\n",
    "dropout_keep_prob = tf.placeholder(tf.float32)"
   ]
  },
  {
   "cell_type": "code",
   "execution_count": null,
   "metadata": {
    "colab": {
     "autoexec": {
      "startup": false,
      "wait_interval": 0
     }
    },
    "colab_type": "code",
    "id": "DfP5wqkr7Aka"
   },
   "outputs": [],
   "source": [
    "# Define weights and biases for each layer as dictionaries (at random)\n",
    "weights = {\n",
    "    'h1': tf.Variable(tf.random_normal([n_input, n_hidden_1],stddev=0.1)),\n",
    "    'h2': tf.Variable(tf.random_normal([n_hidden_1, n_hidden_2],stddev=0.1)),\n",
    "    'h3': tf.Variable(tf.random_normal([n_hidden_2, n_hidden_3],stddev=0.1)),\n",
    "    'h4': tf.Variable(tf.random_normal([n_hidden_3, n_hidden_4],stddev=0.1)),\n",
    "    'out': tf.Variable(tf.random_normal([n_hidden_4, n_classes],stddev=0.1)),                                   \n",
    "}\n",
    "\n",
    "biases = {\n",
    "    'b1': tf.Variable(tf.random_normal([n_hidden_1])),\n",
    "    'b2': tf.Variable(tf.random_normal([n_hidden_2])),\n",
    "    'b3': tf.Variable(tf.random_normal([n_hidden_3])),\n",
    "    'b4': tf.Variable(tf.random_normal([n_hidden_4])),\n",
    "    'out': tf.Variable(tf.random_normal([n_classes]))\n",
    "}"
   ]
  },
  {
   "cell_type": "markdown",
   "metadata": {
    "colab_type": "text",
    "id": "RDKTU6pe7AlE"
   },
   "source": [
    "### __Model__"
   ]
  },
  {
   "cell_type": "code",
   "execution_count": null,
   "metadata": {
    "colab": {
     "autoexec": {
      "startup": false,
      "wait_interval": 0
     }
    },
    "colab_type": "code",
    "id": "zxEpdgjp7AlI"
   },
   "outputs": [],
   "source": [
    "# Neural Net Parameters\n",
    "LEARNING_RATE = 0.005                                 # Learning rate\n",
    "TRAINING_EPOCHS = 2000                                # Number of epochs\n",
    "BATCH_SIZE = 100                                      # Batch size"
   ]
  },
  {
   "cell_type": "code",
   "execution_count": null,
   "metadata": {
    "colab": {
     "autoexec": {
      "startup": false,
      "wait_interval": 0
     }
    },
    "colab_type": "code",
    "id": "kV5n4Ufr7AlU"
   },
   "outputs": [],
   "source": [
    "# Build model to predict the target classes\n",
    "pred = mlp(X, weights, biases, dropout_keep_prob)"
   ]
  },
  {
   "cell_type": "code",
   "execution_count": 22,
   "metadata": {
    "colab": {
     "autoexec": {
      "startup": false,
      "wait_interval": 0
     },
     "base_uri": "https://localhost:8080/",
     "height": 181
    },
    "colab_type": "code",
    "executionInfo": {
     "elapsed": 1037,
     "status": "ok",
     "timestamp": 1525523063503,
     "user": {
      "displayName": "Sanjiv Ch",
      "photoUrl": "//lh6.googleusercontent.com/-Wy0qQETtEtQ/AAAAAAAAAAI/AAAAAAAAAMs/WyPLp99WGy0/s50-c-k-no/photo.jpg",
      "userId": "103445961096566664337"
     },
     "user_tz": -330
    },
    "id": "ocxXO1QU7Alk",
    "outputId": "8a02cb1c-9276-4ead-c6cb-3fe4b46ea2b0"
   },
   "outputs": [
    {
     "name": "stdout",
     "output_type": "stream",
     "text": [
      "WARNING:tensorflow:From <ipython-input-22-36caf316a2aa>:1: softmax_cross_entropy_with_logits (from tensorflow.python.ops.nn_ops) is deprecated and will be removed in a future version.\n",
      "Instructions for updating:\n",
      "\n",
      "Future major versions of TensorFlow will allow gradients to flow\n",
      "into the labels input on backprop by default.\n",
      "\n",
      "See tf.nn.softmax_cross_entropy_with_logits_v2.\n",
      "\n"
     ]
    }
   ],
   "source": [
    "# Loss/cost function \n",
    "cost = tf.reduce_mean(tf.nn.softmax_cross_entropy_with_logits(logits=pred,labels=y)) \n",
    "\n",
    "# Optimizer to minimise the loss/cost - using Adam Optimizer\n",
    "optimizer = tf.train.AdamOptimizer(learning_rate = LEARNING_RATE).minimize(cost)"
   ]
  },
  {
   "cell_type": "code",
   "execution_count": null,
   "metadata": {
    "colab": {
     "autoexec": {
      "startup": false,
      "wait_interval": 0
     }
    },
    "colab_type": "code",
    "id": "gNclyhq57Alw"
   },
   "outputs": [],
   "source": [
    "# Accuracy of the predicted value\n",
    "correct_prediction = tf.equal(tf.argmax(pred, 1), tf.argmax(y, 1))\n",
    "accuracy = tf.reduce_mean(tf.cast(correct_prediction, tf.float32))"
   ]
  },
  {
   "cell_type": "markdown",
   "metadata": {
    "colab_type": "text",
    "id": "WJzMCLOl7Al4"
   },
   "source": [
    "### Train the model"
   ]
  },
  {
   "cell_type": "code",
   "execution_count": 24,
   "metadata": {
    "colab": {
     "autoexec": {
      "startup": false,
      "wait_interval": 0
     },
     "base_uri": "https://localhost:8080/",
     "height": 91
    },
    "colab_type": "code",
    "executionInfo": {
     "elapsed": 1373,
     "status": "ok",
     "timestamp": 1525523069261,
     "user": {
      "displayName": "Sanjiv Ch",
      "photoUrl": "//lh6.googleusercontent.com/-Wy0qQETtEtQ/AAAAAAAAAAI/AAAAAAAAAMs/WyPLp99WGy0/s50-c-k-no/photo.jpg",
      "userId": "103445961096566664337"
     },
     "user_tz": -330
    },
    "id": "AceZAQGW7AmC",
    "outputId": "21116013-e32f-4999-8b02-2bfa53bed05f"
   },
   "outputs": [
    {
     "name": "stdout",
     "output_type": "stream",
     "text": [
      "WARNING:tensorflow:From /usr/local/lib/python3.6/dist-packages/tensorflow/python/util/tf_should_use.py:118: initialize_all_variables (from tensorflow.python.ops.variables) is deprecated and will be removed after 2017-03-02.\n",
      "Instructions for updating:\n",
      "Use `tf.global_variables_initializer` instead.\n"
     ]
    }
   ],
   "source": [
    "# Initialise variables\n",
    "initialise = tf.initialize_all_variables()\n",
    "\n",
    "# Launch session\n",
    "sess = tf.Session()\n",
    "sess.run(initialise)"
   ]
  },
  {
   "cell_type": "code",
   "execution_count": 25,
   "metadata": {
    "colab": {
     "autoexec": {
      "startup": false,
      "wait_interval": 0
     },
     "base_uri": "https://localhost:8080/",
     "height": 1853
    },
    "colab_type": "code",
    "executionInfo": {
     "elapsed": 3905931,
     "status": "ok",
     "timestamp": 1525526976513,
     "user": {
      "displayName": "Sanjiv Ch",
      "photoUrl": "//lh6.googleusercontent.com/-Wy0qQETtEtQ/AAAAAAAAAAI/AAAAAAAAAMs/WyPLp99WGy0/s50-c-k-no/photo.jpg",
      "userId": "103445961096566664337"
     },
     "user_tz": -330
    },
    "id": "UTZQVlNo7AmO",
    "outputId": "22693515-9d74-4a42-867e-099d5a9fb0a5"
   },
   "outputs": [
    {
     "name": "stdout",
     "output_type": "stream",
     "text": [
      "Epoch\t\tCost\tAccuracy\n",
      "---------------------------------\n",
      "0000/2000\t0.3473\t0.840\n",
      "0020/2000\t0.2714\t0.920\n",
      "0040/2000\t0.2692\t0.910\n",
      "0060/2000\t0.2660\t0.920\n",
      "0080/2000\t0.2677\t0.930\n",
      "0100/2000\t0.2644\t0.920\n",
      "0120/2000\t0.2572\t0.890\n",
      "0140/2000\t0.2615\t0.940\n",
      "0160/2000\t0.2567\t0.920\n",
      "0180/2000\t0.2596\t0.920\n",
      "0200/2000\t0.2581\t0.950\n",
      "0220/2000\t0.2569\t0.910\n",
      "0240/2000\t0.2531\t0.870\n",
      "0260/2000\t0.2566\t0.890\n",
      "0280/2000\t0.2580\t0.910\n",
      "0300/2000\t0.2606\t0.930\n",
      "0320/2000\t0.2598\t0.900\n",
      "0340/2000\t0.2632\t0.870\n",
      "0360/2000\t0.2591\t0.870\n",
      "0380/2000\t0.2609\t0.940\n",
      "0400/2000\t0.2555\t0.930\n",
      "0420/2000\t0.2643\t0.890\n",
      "0440/2000\t0.2581\t0.850\n",
      "0460/2000\t0.2599\t0.950\n",
      "0480/2000\t0.2569\t0.930\n",
      "0500/2000\t0.2553\t0.910\n",
      "0520/2000\t0.2564\t0.940\n",
      "0540/2000\t0.2565\t0.880\n",
      "0560/2000\t0.2593\t0.890\n",
      "0580/2000\t0.2577\t0.950\n",
      "0600/2000\t0.2581\t0.880\n",
      "0620/2000\t0.2541\t0.910\n",
      "0640/2000\t0.2553\t0.880\n",
      "0660/2000\t0.2576\t0.910\n",
      "0680/2000\t0.2556\t0.960\n",
      "0700/2000\t0.2603\t0.900\n",
      "0720/2000\t0.2572\t0.940\n",
      "0740/2000\t0.2596\t0.900\n",
      "0760/2000\t0.2626\t0.920\n",
      "0780/2000\t0.2587\t0.930\n",
      "0800/2000\t0.2606\t0.920\n",
      "0820/2000\t0.2644\t0.910\n",
      "0840/2000\t0.2610\t0.950\n",
      "0860/2000\t0.2593\t0.920\n",
      "0880/2000\t0.2618\t0.950\n",
      "0900/2000\t0.2599\t0.880\n",
      "0920/2000\t0.2574\t0.900\n",
      "0940/2000\t0.2624\t0.950\n",
      "0960/2000\t0.2595\t0.860\n",
      "0980/2000\t0.2565\t0.900\n",
      "1000/2000\t0.2591\t0.940\n",
      "1020/2000\t0.2622\t0.910\n",
      "1040/2000\t0.2637\t0.930\n",
      "1060/2000\t0.2608\t0.900\n",
      "1080/2000\t0.2624\t0.910\n",
      "1100/2000\t0.2577\t0.920\n",
      "1120/2000\t0.2627\t0.880\n",
      "1140/2000\t0.2620\t0.900\n",
      "1160/2000\t0.2639\t0.910\n",
      "1180/2000\t0.2662\t0.910\n",
      "1200/2000\t0.2727\t0.940\n",
      "1220/2000\t0.2612\t0.910\n",
      "1240/2000\t0.2606\t0.920\n",
      "1260/2000\t0.2655\t0.940\n",
      "1280/2000\t0.2629\t0.930\n",
      "1300/2000\t0.2626\t0.890\n",
      "1320/2000\t0.2676\t0.930\n",
      "1340/2000\t0.2652\t0.930\n",
      "1360/2000\t0.2679\t0.930\n",
      "1380/2000\t0.2649\t0.920\n",
      "1400/2000\t0.2616\t0.900\n",
      "1420/2000\t0.2618\t0.920\n",
      "1440/2000\t0.2680\t0.900\n",
      "1460/2000\t0.2589\t0.910\n",
      "1480/2000\t0.2696\t0.950\n",
      "1500/2000\t0.2644\t0.920\n",
      "1520/2000\t0.2619\t0.900\n",
      "1540/2000\t0.2661\t0.930\n",
      "1560/2000\t0.2716\t0.890\n",
      "1580/2000\t0.2596\t0.890\n",
      "1600/2000\t0.2643\t0.920\n",
      "1620/2000\t0.2629\t0.870\n",
      "1640/2000\t0.2669\t0.920\n",
      "1660/2000\t0.2644\t0.930\n",
      "1680/2000\t0.2671\t0.890\n",
      "1700/2000\t0.2670\t0.900\n",
      "1720/2000\t0.2645\t0.900\n",
      "1740/2000\t0.2662\t0.950\n",
      "1760/2000\t0.2634\t0.930\n",
      "1780/2000\t0.2642\t0.920\n",
      "1800/2000\t0.2650\t0.860\n",
      "1820/2000\t0.2717\t0.910\n",
      "1840/2000\t0.2686\t0.930\n",
      "1860/2000\t0.2587\t0.940\n",
      "1880/2000\t0.2675\t0.910\n",
      "1900/2000\t0.2618\t0.910\n",
      "1920/2000\t0.2632\t0.890\n",
      "1940/2000\t0.2753\t0.940\n",
      "1960/2000\t0.2646\t0.920\n",
      "1980/2000\t0.2674\t0.860\n"
     ]
    }
   ],
   "source": [
    "# Training loop\n",
    "print(\"Epoch\\t\\tCost\\tAccuracy\")\n",
    "print(\"---------------------------------\")\n",
    "for epoch in range(TRAINING_EPOCHS):\n",
    "    avg_cost = 0.\n",
    "    total_batch = int(X_train.shape[0] / BATCH_SIZE)\n",
    "    \n",
    "    # Loop over all batches\n",
    "    for i in range(total_batch):\n",
    "        \n",
    "        # Choose random records for each training batch\n",
    "        choice = np.random.randint(X_train.shape[0], size = BATCH_SIZE)\n",
    "        batch_xs = X_train[choice, :]\n",
    "        batch_ys = y_train[choice, :]\n",
    "        \n",
    "        # Fit using batched data\n",
    "        sess.run(optimizer, feed_dict={X: batch_xs, y: batch_ys, dropout_keep_prob: 0.9})\n",
    "        \n",
    "        # Calculate average cost \n",
    "        avg_cost += sess.run(cost, feed_dict={X: batch_xs, y: batch_ys, dropout_keep_prob:1.})/total_batch\n",
    "    \n",
    "    # Display progress after every 20 epochs\n",
    "    \n",
    "    if epoch % 20 == 0:\n",
    "        \n",
    "        training_acc = sess.run(accuracy, feed_dict={X: batch_xs, y: batch_ys, dropout_keep_prob:1.})\n",
    "        print (\"%04d/%04d\\t%.4f\\t%.3f\" % (epoch, TRAINING_EPOCHS, avg_cost,training_acc))\n",
    "        "
   ]
  },
  {
   "cell_type": "markdown",
   "metadata": {
    "colab_type": "text",
    "id": "uu9B6MWz7Ama"
   },
   "source": [
    "### Validation on Test data"
   ]
  },
  {
   "cell_type": "code",
   "execution_count": 26,
   "metadata": {
    "colab": {
     "autoexec": {
      "startup": false,
      "wait_interval": 0
     },
     "base_uri": "https://localhost:8080/",
     "height": 35
    },
    "colab_type": "code",
    "executionInfo": {
     "elapsed": 1118,
     "status": "ok",
     "timestamp": 1525528346751,
     "user": {
      "displayName": "Sanjiv Ch",
      "photoUrl": "//lh6.googleusercontent.com/-Wy0qQETtEtQ/AAAAAAAAAAI/AAAAAAAAAMs/WyPLp99WGy0/s50-c-k-no/photo.jpg",
      "userId": "103445961096566664337"
     },
     "user_tz": -330
    },
    "id": "t36XIcyy7Ame",
    "outputId": "45abf41d-5d1b-4679-a991-fa07eb8821d3"
   },
   "outputs": [
    {
     "name": "stdout",
     "output_type": "stream",
     "text": [
      "Test accuracy: 0.9031\n"
     ]
    }
   ],
   "source": [
    "# Testing\n",
    "\n",
    "testing_acc = sess.run(accuracy, feed_dict={X: X_test, y: y_test, dropout_keep_prob:1.})\n",
    "print (\"Test accuracy: %.4f\" % (testing_acc))"
   ]
  },
  {
   "cell_type": "code",
   "execution_count": null,
   "metadata": {
    "colab": {
     "autoexec": {
      "startup": false,
      "wait_interval": 0
     }
    },
    "colab_type": "code",
    "id": "Kscogdok7Amo"
   },
   "outputs": [],
   "source": [
    "# Close the session\n",
    "sess.close()"
   ]
  },
  {
   "cell_type": "markdown",
   "metadata": {
    "colab_type": "text",
    "id": "4jho5wva7Amy"
   },
   "source": [
    "### Summary\n",
    "\n",
    "| # of Epochs | Learning Rate   |Accuracy (%)|\n",
    "|------|------|------|\n",
    "| 500  |0.001 |89.05 |\n",
    "| 1000 |0.001 |89.68 |\n",
    "| 2000 |0.005 |90.31 |\n",
    "\n",
    "Accuracy is lesser than __*XGBoost*__ model, however, it can improve when training epochs are increased."
   ]
  }
 ],
 "metadata": {
  "accelerator": "GPU",
  "colab": {
   "collapsed_sections": [],
   "default_view": {},
   "name": "UCI_Bank_Marketing_MLP.ipynb",
   "provenance": [],
   "version": "0.3.2",
   "views": {}
  },
  "kernelspec": {
   "display_name": "Python 3",
   "language": "python",
   "name": "python3"
  },
  "language_info": {
   "codemirror_mode": {
    "name": "ipython",
    "version": 3
   },
   "file_extension": ".py",
   "mimetype": "text/x-python",
   "name": "python",
   "nbconvert_exporter": "python",
   "pygments_lexer": "ipython3",
   "version": "3.7.4"
  }
 },
 "nbformat": 4,
 "nbformat_minor": 4
}
