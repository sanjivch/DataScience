{
  "nbformat": 4,
  "nbformat_minor": 0,
  "metadata": {
    "colab": {
      "name": "RNN_Denoising.ipynb",
      "version": "0.3.2",
      "provenance": [],
      "include_colab_link": true
    },
    "kernelspec": {
      "name": "python3",
      "display_name": "Python 3"
    },
    "accelerator": "GPU"
  },
  "cells": [
    {
      "cell_type": "markdown",
      "metadata": {
        "id": "view-in-github",
        "colab_type": "text"
      },
      "source": [
        "<a href=\"https://colab.research.google.com/github/sanjivch/MyML/blob/master/RNN_Denoising.ipynb\" target=\"_parent\"><img src=\"https://colab.research.google.com/assets/colab-badge.svg\" alt=\"Open In Colab\"/></a>"
      ]
    },
    {
      "metadata": {
        "id": "rqfQPdYM1YX6",
        "colab_type": "code",
        "colab": {}
      },
      "cell_type": "code",
      "source": [
        ""
      ],
      "execution_count": 0,
      "outputs": []
    },
    {
      "metadata": {
        "id": "E7fbHWxl1jfM",
        "colab_type": "text"
      },
      "cell_type": "markdown",
      "source": [
        "# Denoising signals with PyTorch"
      ]
    },
    {
      "metadata": {
        "id": "sA4BSyL32FTo",
        "colab_type": "text"
      },
      "cell_type": "markdown",
      "source": [
        "Import libraries"
      ]
    },
    {
      "metadata": {
        "id": "e0H-Q_Zm0Xc0",
        "colab_type": "code",
        "colab": {}
      },
      "cell_type": "code",
      "source": [
        "import numpy as np\n",
        "import math, random\n",
        "import matplotlib.pyplot as plt\n",
        "\n",
        "%matplotlib inline"
      ],
      "execution_count": 0,
      "outputs": []
    },
    {
      "metadata": {
        "id": "3KVY4WXI2L94",
        "colab_type": "code",
        "colab": {}
      },
      "cell_type": "code",
      "source": [
        "def gen_signal(X, freq):\n",
        "  return np.cos(2 * np.pi * X/ freq)\n",
        "  "
      ],
      "execution_count": 0,
      "outputs": []
    },
    {
      "metadata": {
        "id": "TbXIJd0f4VlZ",
        "colab_type": "code",
        "colab": {}
      },
      "cell_type": "code",
      "source": [
        "a = gen_signal(1, 60.0)"
      ],
      "execution_count": 0,
      "outputs": []
    },
    {
      "metadata": {
        "id": "4B1e2ZaT5MYQ",
        "colab_type": "code",
        "colab": {
          "base_uri": "https://localhost:8080/",
          "height": 35
        },
        "outputId": "445361f3-7eaa-463d-b1ea-eac2b7e8ce5e"
      },
      "cell_type": "code",
      "source": [
        "a"
      ],
      "execution_count": 7,
      "outputs": [
        {
          "output_type": "execute_result",
          "data": {
            "text/plain": [
              "0.9945218953682733"
            ]
          },
          "metadata": {
            "tags": []
          },
          "execution_count": 7
        }
      ]
    },
    {
      "metadata": {
        "id": "8gqDT9dc5NFO",
        "colab_type": "code",
        "colab": {}
      },
      "cell_type": "code",
      "source": [
        "def gen_signal_noise(X, _min, _max):\n",
        "  return X + np.random.uniform(_min, _max, size=X.shape)"
      ],
      "execution_count": 0,
      "outputs": []
    },
    {
      "metadata": {
        "id": "GuVvAsX57CPZ",
        "colab_type": "code",
        "colab": {}
      },
      "cell_type": "code",
      "source": [
        "b = gen_signal_noise(np.array([0, 1 , 2]), 0.25, 0.5)"
      ],
      "execution_count": 0,
      "outputs": []
    },
    {
      "metadata": {
        "id": "RbWaFwIe7KUG",
        "colab_type": "code",
        "colab": {
          "base_uri": "https://localhost:8080/",
          "height": 35
        },
        "outputId": "d503a63c-c3ae-49d7-e43e-ce6ebf4f1a0b"
      },
      "cell_type": "code",
      "source": [
        "b"
      ],
      "execution_count": 10,
      "outputs": [
        {
          "output_type": "execute_result",
          "data": {
            "text/plain": [
              "array([0.39039258, 1.36182208, 2.30617201])"
            ]
          },
          "metadata": {
            "tags": []
          },
          "execution_count": 10
        }
      ]
    },
    {
      "metadata": {
        "id": "LFc3HDyS7QXG",
        "colab_type": "code",
        "colab": {}
      },
      "cell_type": "code",
      "source": [
        "def random_sample(_size):\n",
        "  \n",
        "  X = np.arange(_size)  \n",
        "  out_target = gen_signal(X, 45.0)\n",
        "  in_signal = gen_signal_noise(out_target, -0.5, 0.5)\n",
        "  \n",
        "  return in_signal, out_target"
      ],
      "execution_count": 0,
      "outputs": []
    },
    {
      "metadata": {
        "id": "kWiDEo30-AWL",
        "colab_type": "code",
        "colab": {}
      },
      "cell_type": "code",
      "source": [
        "_in, _out = random_sample(20)"
      ],
      "execution_count": 0,
      "outputs": []
    },
    {
      "metadata": {
        "id": "wAABVftD-VAW",
        "colab_type": "code",
        "colab": {
          "base_uri": "https://localhost:8080/",
          "height": 283
        },
        "outputId": "b0ddadc1-d155-44de-8f6e-3a921eed7d38"
      },
      "cell_type": "code",
      "source": [
        "plt.plot(_in)\n",
        "plt.plot(_out)"
      ],
      "execution_count": 13,
      "outputs": [
        {
          "output_type": "execute_result",
          "data": {
            "text/plain": [
              "[<matplotlib.lines.Line2D at 0x7f941ded10f0>]"
            ]
          },
          "metadata": {
            "tags": []
          },
          "execution_count": 13
        },
        {
          "output_type": "display_data",
          "data": {
            "image/png": "[encoded data removed]",
            "text/plain": [
              "<matplotlib.figure.Figure at 0x7f941defa4e0>"
            ]
          },
          "metadata": {
            "tags": []
          }
        }
      ]
    },
    {
      "metadata": {
        "id": "crdYx8as-g7Z",
        "colab_type": "code",
        "colab": {}
      },
      "cell_type": "code",
      "source": [
        "def gen_dataset(num_samples=10000,sample_size=100):\n",
        "  # Create empty arrays - rows by columns\n",
        "  data_in = np.zeros((num_samples, sample_size))\n",
        "  data_out = np.zeros((num_samples, sample_size))\n",
        "  \n",
        "  for i in range(num_samples):\n",
        "    _in, _out = random_sample(sample_size)\n",
        "    \n",
        "    # Create many samples with random noise\n",
        "    data_in[i,:] = _in\n",
        "    data_out[i,:] = _out\n",
        "    \n",
        "  return data_in, data_out"
      ],
      "execution_count": 0,
      "outputs": []
    },
    {
      "metadata": {
        "id": "B6G-X3JdBeGe",
        "colab_type": "code",
        "colab": {}
      },
      "cell_type": "code",
      "source": [
        "# Create a dataset\n",
        "_input, _output = gen_dataset()\n"
      ],
      "execution_count": 0,
      "outputs": []
    },
    {
      "metadata": {
        "id": "er0s5U5ZEb6N",
        "colab_type": "code",
        "colab": {
          "base_uri": "https://localhost:8080/",
          "height": 284
        },
        "outputId": "a1ee4117-e160-416b-bc51-8e7f43df6989"
      },
      "cell_type": "code",
      "source": [
        "# Plot a sample\n",
        "plt.plot(_input[0], 'b')\n",
        "plt.plot(_output[0],'r')"
      ],
      "execution_count": 16,
      "outputs": [
        {
          "output_type": "execute_result",
          "data": {
            "text/plain": [
              "[<matplotlib.lines.Line2D at 0x7f941de972e8>]"
            ]
          },
          "metadata": {
            "tags": []
          },
          "execution_count": 16
        },
        {
          "output_type": "display_data",
          "data": {
            "image/png": "[encoded data removed]",
            "text/plain": [
              "<matplotlib.figure.Figure at 0x7f941de97470>"
            ]
          },
          "metadata": {
            "tags": []
          }
        }
      ]
    },
    {
      "metadata": {
        "id": "C01IIGyVEjw3",
        "colab_type": "code",
        "colab": {}
      },
      "cell_type": "code",
      "source": [
        "# Split the dataset into train test set 70:30 ratio\n",
        "train_input, train_output = _input[:7000],_output[:7000]\n",
        "test_input, test_output = _input[7000:],_output[7000:]"
      ],
      "execution_count": 0,
      "outputs": []
    },
    {
      "metadata": {
        "id": "-y8t9r_sFzLG",
        "colab_type": "code",
        "colab": {
          "base_uri": "https://localhost:8080/",
          "height": 301
        },
        "outputId": "0007cb5d-2a5a-41e2-f68c-072d15b31582"
      },
      "cell_type": "code",
      "source": [
        "import torch"
      ],
      "execution_count": 18,
      "outputs": [
        {
          "output_type": "error",
          "ename": "ModuleNotFoundError",
          "evalue": "ignored",
          "traceback": [
            "\u001b[0;31m---------------------------------------------------------------------------\u001b[0m",
            "\u001b[0;31mModuleNotFoundError\u001b[0m                       Traceback (most recent call last)",
            "\u001b[0;32m<ipython-input-18-eb42ca6e4af3>\u001b[0m in \u001b[0;36m<module>\u001b[0;34m()\u001b[0m\n\u001b[0;32m----> 1\u001b[0;31m \u001b[0;32mimport\u001b[0m \u001b[0mtorch\u001b[0m\u001b[0;34m\u001b[0m\u001b[0;34m\u001b[0m\u001b[0m\n\u001b[0m",
            "\u001b[0;31mModuleNotFoundError\u001b[0m: No module named 'torch'",
            "",
            "\u001b[0;31m---------------------------------------------------------------------------\u001b[0;32m\nNOTE: If your import is failing due to a missing package, you can\nmanually install dependencies using either !pip or !apt.\n\nTo install torch, click the button below.\n\u001b[0;31m---------------------------------------------------------------------------\u001b[0m\n"
          ]
        }
      ]
    },
    {
      "metadata": {
        "id": "EiYqB2xFIHdS",
        "colab_type": "code",
        "colab": {
          "base_uri": "https://localhost:8080/",
          "height": 55
        },
        "outputId": "33ab8c8f-fd60-4836-b1e1-f810e79c2d8a"
      },
      "cell_type": "code",
      "source": [
        "# http://pytorch.org/\n",
        "from os.path import exists\n",
        "from wheel.pep425tags import get_abbr_impl, get_impl_ver, get_abi_tag\n",
        "platform = '{}{}-{}'.format(get_abbr_impl(), get_impl_ver(), get_abi_tag())\n",
        "cuda_output = !ldconfig -p|grep cudart.so|sed -e 's/.*\\.\\([0-9]*\\)\\.\\([0-9]*\\)$/cu\\1\\2/'\n",
        "accelerator = cuda_output[0] if exists('/dev/nvidia0') else 'cpu'\n",
        "\n",
        "!pip install -q http://download.pytorch.org/whl/{accelerator}/torch-0.4.1-{platform}-linux_x86_64.whl torchvision\n",
        " "
      ],
      "execution_count": 21,
      "outputs": [
        {
          "output_type": "stream",
          "text": [
            "tcmalloc: large alloc 1073750016 bytes == 0x58542000 @  0x7fda753642a4 0x591a07 0x5b5d56 0x502e9a 0x506859 0x502209 0x502f3d 0x506859 0x504c28 0x502540 0x502f3d 0x506859 0x504c28 0x502540 0x502f3d 0x506859 0x504c28 0x502540 0x502f3d 0x507641 0x502209 0x502f3d 0x506859 0x504c28 0x502540 0x502f3d 0x507641 0x504c28 0x502540 0x502f3d 0x507641\n"
          ],
          "name": "stdout"
        }
      ]
    },
    {
      "metadata": {
        "id": "GAH5yHZ2F3EN",
        "colab_type": "code",
        "colab": {}
      },
      "cell_type": "code",
      "source": [
        "import torch\n",
        "import torch.nn as nn\n",
        "from torch.autograd import Variable "
      ],
      "execution_count": 0,
      "outputs": []
    },
    {
      "metadata": {
        "id": "N3z1utjkImBp",
        "colab_type": "code",
        "colab": {}
      },
      "cell_type": "code",
      "source": [
        "DIMENSION_IN = 1     # 1-D input\n",
        "HIDDEN_SIZE = 40     # 40 hidden units\n",
        "N_LAYERS = 1         # No. of layers in NN"
      ],
      "execution_count": 0,
      "outputs": []
    },
    {
      "metadata": {
        "id": "SXsscQb3JSTB",
        "colab_type": "code",
        "colab": {}
      },
      "cell_type": "code",
      "source": [
        "class DenoiserRNN(nn.Module):\n",
        "  def __init__(self, input_size, hidden_size, output_size):\n",
        "    super(DenoiserRNN, self).__init__()\n",
        "    self.rnn = nn.RNN(input_size=input_size, hidden_size=hidden_size, batch_first=True)\n",
        "    self.linear = nn.Linear(hidden_size, output_size)\n",
        "    self.activ = nn.Tanh()\n",
        "    \n",
        "  def forward(self, x):\n",
        "    pred, hidden = self.rnn(x, None)\n",
        "    pred = self.activ(self.linear(pred).view(pred.data.shape[0],-1,1))\n",
        "    return pred\n",
        "  \n",
        "    "
      ],
      "execution_count": 0,
      "outputs": []
    },
    {
      "metadata": {
        "id": "toGKGtR0N8dT",
        "colab_type": "code",
        "colab": {}
      },
      "cell_type": "code",
      "source": [
        "model = DenoiserRNN(DIMENSION_IN, HIDDEN_SIZE, N_LAYERS)"
      ],
      "execution_count": 0,
      "outputs": []
    },
    {
      "metadata": {
        "id": "GaM8Rm26UXzN",
        "colab_type": "code",
        "colab": {
          "base_uri": "https://localhost:8080/",
          "height": 109
        },
        "outputId": "36069ac8-2946-4ccf-d2cc-d984f8a3bce4"
      },
      "cell_type": "code",
      "source": [
        "model"
      ],
      "execution_count": 44,
      "outputs": [
        {
          "output_type": "execute_result",
          "data": {
            "text/plain": [
              "DenoiserRNN(\n",
              "  (rnn): RNN(1, 40, batch_first=True)\n",
              "  (linear): Linear(in_features=40, out_features=1, bias=True)\n",
              "  (activ): Tanh()\n",
              ")"
            ]
          },
          "metadata": {
            "tags": []
          },
          "execution_count": 44
        }
      ]
    },
    {
      "metadata": {
        "id": "zGzzuOs6VUJx",
        "colab_type": "code",
        "colab": {
          "base_uri": "https://localhost:8080/",
          "height": 441
        },
        "outputId": "6c69d35c-11ab-4d41-d754-a139888703c6"
      },
      "cell_type": "code",
      "source": [
        "# Training\n",
        "\n",
        "from torch.optim import Adam\n",
        "\n",
        "predictions = []\n",
        "\n",
        "optimizer = Adam(model.parameters(), lr= 0.01)\n",
        "loss_function = nn.L1Loss()\n",
        "\n",
        "for i in range(401):\n",
        "    hidden = None\n",
        "    input = Variable(torch.Tensor(train_input.reshape((train_input.shape[0], -1, 1))), requires_grad=True)\n",
        "    output = Variable(torch.Tensor(train_output.reshape((train_output.shape[0], -1, 1))) )\n",
        "    pred = model(input)\n",
        "    optimizer.zero_grad()\n",
        "    predictions.append(pred.data.numpy())\n",
        "    loss = loss_function(pred, output)\n",
        "    \n",
        "    # print the loss for every cycle\n",
        "    if i%20==0:\n",
        "        print(i, loss.data[0])\n",
        "    loss.backward()\n",
        "    optimizer.step()"
      ],
      "execution_count": 45,
      "outputs": [
        {
          "output_type": "stream",
          "text": [
            "/usr/local/lib/python3.6/dist-packages/ipykernel_launcher.py:20: UserWarning: invalid index of a 0-dim tensor. This will be an error in PyTorch 0.5. Use tensor.item() to convert a 0-dim tensor to a Python number\n"
          ],
          "name": "stderr"
        },
        {
          "output_type": "stream",
          "text": [
            "0 tensor(0.6482)\n",
            "20 tensor(0.1434)\n",
            "40 tensor(0.1284)\n",
            "60 tensor(0.1191)\n",
            "80 tensor(0.1169)\n",
            "100 tensor(0.0871)\n",
            "120 tensor(0.0690)\n",
            "140 tensor(0.0638)\n",
            "160 tensor(0.0564)\n",
            "180 tensor(0.0737)\n",
            "200 tensor(0.0683)\n",
            "220 tensor(0.0726)\n",
            "240 tensor(0.0497)\n",
            "260 tensor(0.0462)\n",
            "280 tensor(0.0594)\n",
            "300 tensor(0.0642)\n",
            "320 tensor(0.0451)\n",
            "340 tensor(0.0379)\n",
            "360 tensor(0.0477)\n",
            "380 tensor(0.0381)\n",
            "400 tensor(0.0481)\n"
          ],
          "name": "stdout"
        }
      ]
    },
    {
      "metadata": {
        "id": "4bfbHBVqXv1d",
        "colab_type": "code",
        "colab": {}
      },
      "cell_type": "code",
      "source": [
        "t_input = Variable(torch.Tensor(test_input.reshape((test_input.shape[0], -1, 1))), requires_grad=True)\n",
        "pred_t = model(t_input)"
      ],
      "execution_count": 0,
      "outputs": []
    },
    {
      "metadata": {
        "id": "XGFZkQd-XpvG",
        "colab_type": "code",
        "colab": {
          "base_uri": "https://localhost:8080/",
          "height": 92
        },
        "outputId": "2bbb3649-7576-4188-ba70-494f48b995b3"
      },
      "cell_type": "code",
      "source": [
        " # Test loss\n",
        "print(loss_function(pred_t, Variable(torch.Tensor(test_output.reshape((test_input.shape[0], -1, 1))))).data[0])\n",
        "\n",
        "\n",
        "\n"
      ],
      "execution_count": 47,
      "outputs": [
        {
          "output_type": "stream",
          "text": [
            "tensor(0.0425)\n"
          ],
          "name": "stdout"
        },
        {
          "output_type": "stream",
          "text": [
            "/usr/local/lib/python3.6/dist-packages/ipykernel_launcher.py:1: UserWarning: invalid index of a 0-dim tensor. This will be an error in PyTorch 0.5. Use tensor.item() to convert a 0-dim tensor to a Python number\n",
            "  \"\"\"Entry point for launching an IPython kernel.\n"
          ],
          "name": "stderr"
        }
      ]
    },
    {
      "metadata": {
        "id": "lQdsGKxidgdN",
        "colab_type": "code",
        "colab": {
          "base_uri": "https://localhost:8080/",
          "height": 298
        },
        "outputId": "6e31d640-44b7-4472-bb7e-a25b84c8921d"
      },
      "cell_type": "code",
      "source": [
        "sample_num = 85\n",
        "plt.plot(pred_t[sample_num].data.numpy(), label='Pred')\n",
        "plt.plot(test_output[sample_num], label='GT')\n",
        "plt.legend()\n",
        "plt.title(\"Sample num: {}\".format(sample_num))"
      ],
      "execution_count": 48,
      "outputs": [
        {
          "output_type": "execute_result",
          "data": {
            "text/plain": [
              "Text(0.5,1,'Sample num: 85')"
            ]
          },
          "metadata": {
            "tags": []
          },
          "execution_count": 48
        },
        {
          "output_type": "display_data",
          "data": {
            "image/png": "[encoded data removed]",
            "text/plain": [
              "<matplotlib.figure.Figure at 0x7f93e5c16ba8>"
            ]
          },
          "metadata": {
            "tags": []
          }
        }
      ]
    },
    {
      "metadata": {
        "id": "-eRDiMbrdteY",
        "colab_type": "code",
        "colab": {}
      },
      "cell_type": "code",
      "source": [
        ""
      ],
      "execution_count": 0,
      "outputs": []
    }
  ]
}