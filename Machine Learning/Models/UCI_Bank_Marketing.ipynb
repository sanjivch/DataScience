{
 "cells": [
  {
   "cell_type": "markdown",
   "metadata": {},
   "source": [
    "# [__UCI Bank Marketing Dataset__](https://archive.ics.uci.edu/ml/datasets/bank+marketing#) - Classification Problem"
   ]
  },
  {
   "cell_type": "markdown",
   "metadata": {},
   "source": [
    "### __Table of Contents__\n",
    "\n",
    "1. Explore dataset\n",
    "2. Feature Summary\n",
    "3. Approach\n",
    "4. Exploratory Data Analysis\n",
    "5. Model Building\n",
    "6. Model evaluation"
   ]
  },
  {
   "cell_type": "markdown",
   "metadata": {},
   "source": [
    "### __Aim__\n",
    "To analyse the input variables from the data set and build a model to __*classify*__ whether a candidate subscribes for a term deposit or not.\n",
    "\n",
    "__Dataset__ - _bank-additional-full.csv_"
   ]
  },
  {
   "cell_type": "markdown",
   "metadata": {},
   "source": [
    "### __Feature Summary__\n",
    "\n",
    "|Variable|Description|Type|Unique values |\n",
    "| :- |:-|:-:|:-|   \n",
    "|age | age in years|numeric||\n",
    "| job | type of job |categorical|admin., blue-collar, entrepreneur, housemaid, management, retired, self-employed, services, student, technician, unemployed, unknown|\n",
    "| education | education |categorical|basic.4y, basic.6y, basic.9y, high.school, illiterate, professional.course, university.degree, unknown|\n",
    "|marital | marital status |categorical|divorced, married, single, unknown|\n",
    "| default| has credit in default? |categorical|no, yes, unknown|\n",
    " |housing| has housing loan? |categorical|no, yes, unknown|\n",
    " |loan| has personal loan? |categorical|no, yes, unknown|\n",
    " |contact| contact communication type |categorical|cellular, telephone| \n",
    " |month| last contact month of year |categorical|jan,  feb,  mar,  ...,  nov,  dec|\n",
    " |day_of_week| last contact day of the week |categorical|mon, tue, wed, thu, fri|\n",
    " |duration| last contact duration, in seconds |numeric||\n",
    " |campaign| number of contacts performed during this campaign and for this client |numeric||\n",
    " |pdays| number of days that passed by after the client was last contacted from a previous campaign |numeric||\n",
    " |previous| number of contacts performed before this campaign and for this client |numeric||\n",
    " |poutcome| outcome of the previous marketing campaign |categorical|failure, nonexistent, success|\n",
    " |emp.var.rate| employment variation rate |numeric||\n",
    " |cons.price.idx| consumer price index |numeric||     \n",
    " |cons.conf.idx| consumer confidence index |numeric||     \n",
    " |euribor3m| euribor 3 month rate |numeric||\n",
    " |nr.employed| number of employees |numeric||\n",
    " |y | has the client subscribed a term deposit? |categorical|yes, no|"
   ]
  },
  {
   "cell_type": "markdown",
   "metadata": {},
   "source": [
    "### __Approach__\n",
    "   \n",
    "   1. Explore the data \n",
    "      - Read the dataset using pandas library. Use *head(), info()* and *describe()*.  \n",
    "   2. Clean the data\n",
    "      - Check for missing/ null/ NaN values in the dataset. Impute values or delete records on a case by case basis. \n",
    "      - Check for skewness on numerical variables. Impute median values for NaNs, if the data is skewed. Otherwise mean values are sufficient.\n",
    "   3. EDA \n",
    "      - Explore categorial variables using seaborn library's countplot.\n",
    "      - Explore each variable on basis of the subscriber to non-subscriber ratio        \n",
    "   4. Model building and evaluation\n",
    "      - Convert categorical values(strings) to numeric\n",
    "      - Split the dataset into train and test datasets\n",
    "      - Define the classifiers from *sklearn* library\n",
    "      - Fit the classifier on the training dataset\n",
    "      - Predict the fitted model on the test dataset\n",
    "      - Evaluate the model on the basis of Area under the Curve\n",
    "      - Summarise the results\n",
    "  "
   ]
  },
  {
   "cell_type": "markdown",
   "metadata": {},
   "source": [
    "### __Libraries__"
   ]
  },
  {
   "cell_type": "code",
   "execution_count": 509,
   "metadata": {
    "collapsed": true,
    "jupyter": {
     "outputs_hidden": true
    }
   },
   "outputs": [],
   "source": [
    "import pandas as pd\n",
    "import numpy as np\n",
    "import matplotlib.pyplot as plt\n",
    "import seaborn as sns\n",
    "\n",
    "from scipy.stats import skew\n",
    "%matplotlib inline"
   ]
  },
  {
   "cell_type": "markdown",
   "metadata": {},
   "source": [
    "### __Explore the dataset__"
   ]
  },
  {
   "cell_type": "code",
   "execution_count": 323,
   "metadata": {
    "collapsed": true,
    "jupyter": {
     "outputs_hidden": true
    }
   },
   "outputs": [],
   "source": [
    "#Read the dataset\n",
    "Banco = pd.read_csv('bank-additional-full.csv',sep=';')"
   ]
  },
  {
   "cell_type": "code",
   "execution_count": 324,
   "metadata": {},
   "outputs": [
    {
     "data": {
      "text/html": [
       "<div>\n",
       "<style scoped>\n",
       "    .dataframe tbody tr th:only-of-type {\n",
       "        vertical-align: middle;\n",
       "    }\n",
       "\n",
       "    .dataframe tbody tr th {\n",
       "        vertical-align: top;\n",
       "    }\n",
       "\n",
       "    .dataframe thead th {\n",
       "        text-align: right;\n",
       "    }\n",
       "</style>\n",
       "<table border=\"1\" class=\"dataframe\">\n",
       "  <thead>\n",
       "    <tr style=\"text-align: right;\">\n",
       "      <th></th>\n",
       "      <th>age</th>\n",
       "      <th>job</th>\n",
       "      <th>marital</th>\n",
       "      <th>education</th>\n",
       "      <th>default</th>\n",
       "      <th>housing</th>\n",
       "      <th>loan</th>\n",
       "      <th>contact</th>\n",
       "      <th>month</th>\n",
       "      <th>day_of_week</th>\n",
       "      <th>...</th>\n",
       "      <th>campaign</th>\n",
       "      <th>pdays</th>\n",
       "      <th>previous</th>\n",
       "      <th>poutcome</th>\n",
       "      <th>emp.var.rate</th>\n",
       "      <th>cons.price.idx</th>\n",
       "      <th>cons.conf.idx</th>\n",
       "      <th>euribor3m</th>\n",
       "      <th>nr.employed</th>\n",
       "      <th>y</th>\n",
       "    </tr>\n",
       "  </thead>\n",
       "  <tbody>\n",
       "    <tr>\n",
       "      <th>0</th>\n",
       "      <td>56</td>\n",
       "      <td>housemaid</td>\n",
       "      <td>married</td>\n",
       "      <td>basic.4y</td>\n",
       "      <td>no</td>\n",
       "      <td>no</td>\n",
       "      <td>no</td>\n",
       "      <td>telephone</td>\n",
       "      <td>may</td>\n",
       "      <td>mon</td>\n",
       "      <td>...</td>\n",
       "      <td>1</td>\n",
       "      <td>999</td>\n",
       "      <td>0</td>\n",
       "      <td>nonexistent</td>\n",
       "      <td>1.1</td>\n",
       "      <td>93.994</td>\n",
       "      <td>-36.4</td>\n",
       "      <td>4.857</td>\n",
       "      <td>5191.0</td>\n",
       "      <td>no</td>\n",
       "    </tr>\n",
       "    <tr>\n",
       "      <th>1</th>\n",
       "      <td>57</td>\n",
       "      <td>services</td>\n",
       "      <td>married</td>\n",
       "      <td>high.school</td>\n",
       "      <td>unknown</td>\n",
       "      <td>no</td>\n",
       "      <td>no</td>\n",
       "      <td>telephone</td>\n",
       "      <td>may</td>\n",
       "      <td>mon</td>\n",
       "      <td>...</td>\n",
       "      <td>1</td>\n",
       "      <td>999</td>\n",
       "      <td>0</td>\n",
       "      <td>nonexistent</td>\n",
       "      <td>1.1</td>\n",
       "      <td>93.994</td>\n",
       "      <td>-36.4</td>\n",
       "      <td>4.857</td>\n",
       "      <td>5191.0</td>\n",
       "      <td>no</td>\n",
       "    </tr>\n",
       "  </tbody>\n",
       "</table>\n",
       "<p>2 rows × 21 columns</p>\n",
       "</div>"
      ],
      "text/plain": [
       "   age        job  marital    education  default housing loan    contact  \\\n",
       "0   56  housemaid  married     basic.4y       no      no   no  telephone   \n",
       "1   57   services  married  high.school  unknown      no   no  telephone   \n",
       "\n",
       "  month day_of_week ...  campaign  pdays  previous     poutcome emp.var.rate  \\\n",
       "0   may         mon ...         1    999         0  nonexistent          1.1   \n",
       "1   may         mon ...         1    999         0  nonexistent          1.1   \n",
       "\n",
       "   cons.price.idx  cons.conf.idx  euribor3m  nr.employed   y  \n",
       "0          93.994          -36.4      4.857       5191.0  no  \n",
       "1          93.994          -36.4      4.857       5191.0  no  \n",
       "\n",
       "[2 rows x 21 columns]"
      ]
     },
     "execution_count": 324,
     "metadata": {},
     "output_type": "execute_result"
    }
   ],
   "source": [
    "Banco.head(2)"
   ]
  },
  {
   "cell_type": "code",
   "execution_count": 325,
   "metadata": {},
   "outputs": [
    {
     "name": "stdout",
     "output_type": "stream",
     "text": [
      "<class 'pandas.core.frame.DataFrame'>\n",
      "RangeIndex: 41188 entries, 0 to 41187\n",
      "Data columns (total 21 columns):\n",
      "age               41188 non-null int64\n",
      "job               41188 non-null object\n",
      "marital           41188 non-null object\n",
      "education         41188 non-null object\n",
      "default           41188 non-null object\n",
      "housing           41188 non-null object\n",
      "loan              41188 non-null object\n",
      "contact           41188 non-null object\n",
      "month             41188 non-null object\n",
      "day_of_week       41188 non-null object\n",
      "duration          41188 non-null int64\n",
      "campaign          41188 non-null int64\n",
      "pdays             41188 non-null int64\n",
      "previous          41188 non-null int64\n",
      "poutcome          41188 non-null object\n",
      "emp.var.rate      41188 non-null float64\n",
      "cons.price.idx    41188 non-null float64\n",
      "cons.conf.idx     41188 non-null float64\n",
      "euribor3m         41188 non-null float64\n",
      "nr.employed       41188 non-null float64\n",
      "y                 41188 non-null object\n",
      "dtypes: float64(5), int64(5), object(11)\n",
      "memory usage: 6.6+ MB\n"
     ]
    }
   ],
   "source": [
    "Banco.info()"
   ]
  },
  {
   "cell_type": "code",
   "execution_count": 326,
   "metadata": {},
   "outputs": [
    {
     "data": {
      "text/html": [
       "<div>\n",
       "<style scoped>\n",
       "    .dataframe tbody tr th:only-of-type {\n",
       "        vertical-align: middle;\n",
       "    }\n",
       "\n",
       "    .dataframe tbody tr th {\n",
       "        vertical-align: top;\n",
       "    }\n",
       "\n",
       "    .dataframe thead th {\n",
       "        text-align: right;\n",
       "    }\n",
       "</style>\n",
       "<table border=\"1\" class=\"dataframe\">\n",
       "  <thead>\n",
       "    <tr style=\"text-align: right;\">\n",
       "      <th></th>\n",
       "      <th>age</th>\n",
       "      <th>duration</th>\n",
       "      <th>campaign</th>\n",
       "      <th>pdays</th>\n",
       "      <th>previous</th>\n",
       "      <th>emp.var.rate</th>\n",
       "      <th>cons.price.idx</th>\n",
       "      <th>cons.conf.idx</th>\n",
       "      <th>euribor3m</th>\n",
       "      <th>nr.employed</th>\n",
       "    </tr>\n",
       "  </thead>\n",
       "  <tbody>\n",
       "    <tr>\n",
       "      <th>count</th>\n",
       "      <td>41188.00000</td>\n",
       "      <td>41188.000000</td>\n",
       "      <td>41188.000000</td>\n",
       "      <td>41188.000000</td>\n",
       "      <td>41188.000000</td>\n",
       "      <td>41188.000000</td>\n",
       "      <td>41188.000000</td>\n",
       "      <td>41188.000000</td>\n",
       "      <td>41188.000000</td>\n",
       "      <td>41188.000000</td>\n",
       "    </tr>\n",
       "    <tr>\n",
       "      <th>mean</th>\n",
       "      <td>40.02406</td>\n",
       "      <td>258.285010</td>\n",
       "      <td>2.567593</td>\n",
       "      <td>962.475454</td>\n",
       "      <td>0.172963</td>\n",
       "      <td>0.081886</td>\n",
       "      <td>93.575664</td>\n",
       "      <td>-40.502600</td>\n",
       "      <td>3.621291</td>\n",
       "      <td>5167.035911</td>\n",
       "    </tr>\n",
       "    <tr>\n",
       "      <th>std</th>\n",
       "      <td>10.42125</td>\n",
       "      <td>259.279249</td>\n",
       "      <td>2.770014</td>\n",
       "      <td>186.910907</td>\n",
       "      <td>0.494901</td>\n",
       "      <td>1.570960</td>\n",
       "      <td>0.578840</td>\n",
       "      <td>4.628198</td>\n",
       "      <td>1.734447</td>\n",
       "      <td>72.251528</td>\n",
       "    </tr>\n",
       "    <tr>\n",
       "      <th>min</th>\n",
       "      <td>17.00000</td>\n",
       "      <td>0.000000</td>\n",
       "      <td>1.000000</td>\n",
       "      <td>0.000000</td>\n",
       "      <td>0.000000</td>\n",
       "      <td>-3.400000</td>\n",
       "      <td>92.201000</td>\n",
       "      <td>-50.800000</td>\n",
       "      <td>0.634000</td>\n",
       "      <td>4963.600000</td>\n",
       "    </tr>\n",
       "    <tr>\n",
       "      <th>25%</th>\n",
       "      <td>32.00000</td>\n",
       "      <td>102.000000</td>\n",
       "      <td>1.000000</td>\n",
       "      <td>999.000000</td>\n",
       "      <td>0.000000</td>\n",
       "      <td>-1.800000</td>\n",
       "      <td>93.075000</td>\n",
       "      <td>-42.700000</td>\n",
       "      <td>1.344000</td>\n",
       "      <td>5099.100000</td>\n",
       "    </tr>\n",
       "    <tr>\n",
       "      <th>50%</th>\n",
       "      <td>38.00000</td>\n",
       "      <td>180.000000</td>\n",
       "      <td>2.000000</td>\n",
       "      <td>999.000000</td>\n",
       "      <td>0.000000</td>\n",
       "      <td>1.100000</td>\n",
       "      <td>93.749000</td>\n",
       "      <td>-41.800000</td>\n",
       "      <td>4.857000</td>\n",
       "      <td>5191.000000</td>\n",
       "    </tr>\n",
       "    <tr>\n",
       "      <th>75%</th>\n",
       "      <td>47.00000</td>\n",
       "      <td>319.000000</td>\n",
       "      <td>3.000000</td>\n",
       "      <td>999.000000</td>\n",
       "      <td>0.000000</td>\n",
       "      <td>1.400000</td>\n",
       "      <td>93.994000</td>\n",
       "      <td>-36.400000</td>\n",
       "      <td>4.961000</td>\n",
       "      <td>5228.100000</td>\n",
       "    </tr>\n",
       "    <tr>\n",
       "      <th>max</th>\n",
       "      <td>98.00000</td>\n",
       "      <td>4918.000000</td>\n",
       "      <td>56.000000</td>\n",
       "      <td>999.000000</td>\n",
       "      <td>7.000000</td>\n",
       "      <td>1.400000</td>\n",
       "      <td>94.767000</td>\n",
       "      <td>-26.900000</td>\n",
       "      <td>5.045000</td>\n",
       "      <td>5228.100000</td>\n",
       "    </tr>\n",
       "  </tbody>\n",
       "</table>\n",
       "</div>"
      ],
      "text/plain": [
       "               age      duration      campaign         pdays      previous  \\\n",
       "count  41188.00000  41188.000000  41188.000000  41188.000000  41188.000000   \n",
       "mean      40.02406    258.285010      2.567593    962.475454      0.172963   \n",
       "std       10.42125    259.279249      2.770014    186.910907      0.494901   \n",
       "min       17.00000      0.000000      1.000000      0.000000      0.000000   \n",
       "25%       32.00000    102.000000      1.000000    999.000000      0.000000   \n",
       "50%       38.00000    180.000000      2.000000    999.000000      0.000000   \n",
       "75%       47.00000    319.000000      3.000000    999.000000      0.000000   \n",
       "max       98.00000   4918.000000     56.000000    999.000000      7.000000   \n",
       "\n",
       "       emp.var.rate  cons.price.idx  cons.conf.idx     euribor3m   nr.employed  \n",
       "count  41188.000000    41188.000000   41188.000000  41188.000000  41188.000000  \n",
       "mean       0.081886       93.575664     -40.502600      3.621291   5167.035911  \n",
       "std        1.570960        0.578840       4.628198      1.734447     72.251528  \n",
       "min       -3.400000       92.201000     -50.800000      0.634000   4963.600000  \n",
       "25%       -1.800000       93.075000     -42.700000      1.344000   5099.100000  \n",
       "50%        1.100000       93.749000     -41.800000      4.857000   5191.000000  \n",
       "75%        1.400000       93.994000     -36.400000      4.961000   5228.100000  \n",
       "max        1.400000       94.767000     -26.900000      5.045000   5228.100000  "
      ]
     },
     "execution_count": 326,
     "metadata": {},
     "output_type": "execute_result"
    }
   ],
   "source": [
    "Banco.describe()"
   ]
  },
  {
   "cell_type": "markdown",
   "metadata": {},
   "source": [
    "### __Exploratory Data Analysis__"
   ]
  },
  {
   "cell_type": "code",
   "execution_count": 327,
   "metadata": {},
   "outputs": [
    {
     "data": {
      "text/plain": [
       "age               0\n",
       "job               0\n",
       "marital           0\n",
       "education         0\n",
       "default           0\n",
       "housing           0\n",
       "loan              0\n",
       "contact           0\n",
       "month             0\n",
       "day_of_week       0\n",
       "duration          0\n",
       "campaign          0\n",
       "pdays             0\n",
       "previous          0\n",
       "poutcome          0\n",
       "emp.var.rate      0\n",
       "cons.price.idx    0\n",
       "cons.conf.idx     0\n",
       "euribor3m         0\n",
       "nr.employed       0\n",
       "y                 0\n",
       "dtype: int64"
      ]
     },
     "execution_count": 327,
     "metadata": {},
     "output_type": "execute_result"
    }
   ],
   "source": [
    "#Check the missing/ NaN values for each column\n",
    "Banco.isnull().sum()"
   ]
  },
  {
   "cell_type": "markdown",
   "metadata": {},
   "source": [
    "> Missing values are reported as _unknown_ in the dataset. Hence, there are no NaNs. "
   ]
  },
  {
   "cell_type": "code",
   "execution_count": 328,
   "metadata": {},
   "outputs": [
    {
     "data": {
      "text/plain": [
       "pdays             4.922190\n",
       "campaign          4.762507\n",
       "previous          3.832042\n",
       "duration          3.263141\n",
       "nr.employed       1.044262\n",
       "age               0.784697\n",
       "emp.var.rate      0.724096\n",
       "euribor3m         0.709188\n",
       "cons.conf.idx     0.303180\n",
       "cons.price.idx    0.230888\n",
       "dtype: float64"
      ]
     },
     "execution_count": 328,
     "metadata": {},
     "output_type": "execute_result"
    }
   ],
   "source": [
    "#Check the skewness - Numerical features only - sorted the absolute values\n",
    "Banco.skew().abs().sort_values(ascending= False)"
   ]
  },
  {
   "cell_type": "markdown",
   "metadata": {},
   "source": [
    "> All the economic indicators and *age* are mildly skewed. All the other remaining features hihgly skewed. "
   ]
  },
  {
   "cell_type": "markdown",
   "metadata": {},
   "source": [
    "#### __Custom Functions__\n",
    "\n",
    "- Define *feature_ratio*, *feature_count* and *feature_count2* functions to extract the ratio of subscribers to non-subscribers for each unique value in a column. \n",
    "- Define *replace_unknown* function to impute/ replace unknowns in a column\n",
    "- Define *range_count* to get the count of subcribers, non-subscribers and subscription ratio for a user-defined range in numerical features\n",
    "- Define *stack_plot* to plot a stacked plot for a column on the target variable"
   ]
  },
  {
   "cell_type": "code",
   "execution_count": 329,
   "metadata": {
    "collapsed": true,
    "jupyter": {
     "outputs_hidden": true
    }
   },
   "outputs": [],
   "source": [
    "#Feature ratio - Ratio of subscribers to non-subscribers for each unique value in a given column\n",
    "def feature_ratio(colname):\n",
    "    '''feature_ratio(colname)\n",
    "    Feature ratio - Ratio of subscribers to non-subscribers for each unique value in a given column\n",
    "    '''\n",
    "    col_types = Banco[colname].dropna().unique()\n",
    "    for col in col_types:\n",
    "        a = Banco[(Banco[colname] == col) & (Banco['y'] == 'yes')][colname].count()\n",
    "        b = Banco[(Banco[colname] == col) & (Banco['y'] == 'no')][colname].count()\n",
    "        \n",
    "        print col, \" \\t%.3f\" % (a/float(b))"
   ]
  },
  {
   "cell_type": "code",
   "execution_count": 330,
   "metadata": {
    "collapsed": true,
    "jupyter": {
     "outputs_hidden": true
    }
   },
   "outputs": [],
   "source": [
    "#Feature count - Count of subscribers and non-subscribers for each unique value in a given column\n",
    "def feature_count(colname):\n",
    "    '''feature_count(colname)\n",
    "    Feature count - Count of subscribers and non-subscribers for each unique value in a given column\n",
    "    '''\n",
    "    x = []\n",
    "    a = []\n",
    "    b = []\n",
    "    c = []\n",
    "    \n",
    "    col_types = Banco[colname].dropna().unique()\n",
    "    \n",
    "    for col in col_types:\n",
    "        x.append(col)\n",
    "        a.append(Banco[(Banco[colname] == col) & (Banco['y'] == 'yes')][colname].count())\n",
    "        b.append(Banco[(Banco[colname] == col) & (Banco['y'] == 'no')][colname].count())\n",
    "        \n",
    "    c = [i/float(j) for i,j in zip(a, b)]\n",
    "    print pd.DataFrame(list(zip(x,c,a,b)),columns=[colname,'Ratio','Yes' ,'No']).sort_values(by=['Ratio'], ascending= False)\n",
    "       "
   ]
  },
  {
   "cell_type": "code",
   "execution_count": 331,
   "metadata": {
    "collapsed": true,
    "jupyter": {
     "outputs_hidden": true
    }
   },
   "outputs": [],
   "source": [
    "#Feature count2 - Count of subscribers and non-subscribers for each unique value in two different columns\n",
    "def feature_count2(colname1, colname2):\n",
    "    '''feature_count(colname1, colname)\n",
    "    Feature count - Count of subscribers and non-subscribers for each unique value in two different columns\n",
    "    '''\n",
    "    col_type1 = Banco[colname1].dropna().unique()\n",
    "    col_type2 = Banco[colname2].dropna().unique()\n",
    "    print colname1,\"\\tDay\\tYes\\tNo\\tRatio\"\n",
    "    print \"--------------------------------------\"\n",
    "    for col1 in col_type1:\n",
    "        for col2 in col_type2:\n",
    "            \n",
    "            a = Banco[(Banco[colname1] == col1) & (Banco[colname2] == col2) & (Banco['y'] == 'yes')][colname1].count()\n",
    "            b = Banco[(Banco[colname1] == col1) & (Banco[colname2] == col2) & (Banco['y'] == 'no')][colname1].count()\n",
    "        \n",
    "            print col1,\"\\t\",col2, \"\\t\",a,\"\\t\", b, \"\\t%.3f\" % (a/float(b))\n",
    "        print \"--------------------------------------\""
   ]
  },
  {
   "cell_type": "code",
   "execution_count": 332,
   "metadata": {
    "collapsed": true,
    "jupyter": {
     "outputs_hidden": true
    }
   },
   "outputs": [],
   "source": [
    "#Function to impute unknown with Mode.\n",
    "def replace_unknown(var, col):\n",
    "    '''replace_unknown(var, col)\n",
    "    Function to impute 'unknown' with Mode.\n",
    "    '''\n",
    "    if var == 'unknown':\n",
    "        #Index is used to pick the string from the series\n",
    "        return Banco[col].mode()[0] \n",
    "    else:\n",
    "        return var"
   ]
  },
  {
   "cell_type": "code",
   "execution_count": 333,
   "metadata": {
    "collapsed": true,
    "jupyter": {
     "outputs_hidden": true
    }
   },
   "outputs": [],
   "source": [
    "#Function to get the count of subcribers, non-subscribers and subscription ratio for a user-defined range in numerical features\n",
    "def range_count(start, end, split, col_name):\n",
    "    '''range_count(start, end, split, col_name)\n",
    "    Function to get the count of subcribers, non-subscribers and subscription ratio for a user-defined range in numerical features\n",
    "    '''\n",
    "    print \"Range\\t\\tRatio\\tYes\\tNo\"\n",
    "    print \"----------------------------------\"\n",
    "    num = np.arange(start,end+1,split)\n",
    "    for i in range(len(num)):\n",
    "        \n",
    "        if i==0:\n",
    "            pass\n",
    "        else:        \n",
    "            a = Banco[(Banco[col_name] > num[i-1]) & (Banco[col_name] < num[i]) & (Banco['y'] == 'yes')][col_name].count()\n",
    "            b = Banco[(Banco[col_name] > num[i-1]) & (Banco[col_name] < num[i]) & (Banco['y'] == 'no')][col_name].count()\n",
    "            if b == 0:\n",
    "                print num[i-1],\"-\",num[i],\"\\t\",np.nan,\"\\t\" ,a,\"\\t\", b\n",
    "            else:\n",
    "                print num[i-1],\"-\",num[i],\"  \\t%.3f\" % (a/float(b)),\"\\t\" ,a,\"\\t\", b"
   ]
  },
  {
   "cell_type": "code",
   "execution_count": 334,
   "metadata": {
    "collapsed": true,
    "jupyter": {
     "outputs_hidden": true
    }
   },
   "outputs": [],
   "source": [
    "#Function to plot the stacked plot for a column\n",
    "def stack_plot(col_name, target, nbins):\n",
    "    '''stack_plot(col_name, target, nbins)\n",
    "    Function to plot the stacked plot for a column\n",
    "    '''\n",
    "    dct = {}\n",
    "    for name in Banco[target].unique():\n",
    "        dct[name] = Banco.groupby(target).get_group(name)[col_name]\n",
    "    \n",
    "    pd.DataFrame(dct).plot.hist(stacked=True, bins = nbins)\n",
    "    "
   ]
  },
  {
   "cell_type": "code",
   "execution_count": 335,
   "metadata": {},
   "outputs": [
    {
     "data": {
      "text/plain": [
       "<matplotlib.axes._subplots.AxesSubplot at 0x7f56db8f5ad0>"
      ]
     },
     "execution_count": 335,
     "metadata": {},
     "output_type": "execute_result"
    },
    {
     "data": {
      "image/png": "[encoded data removed]",
      "text/plain": [
       "<matplotlib.figure.Figure at 0x7f56e8548cd0>"
      ]
     },
     "metadata": {},
     "output_type": "display_data"
    }
   ],
   "source": [
    "#Distribution of unique values of Job feature on the target variable\n",
    "sns.countplot(y = Banco['job'], hue = Banco['y'])"
   ]
  },
  {
   "cell_type": "code",
   "execution_count": 336,
   "metadata": {},
   "outputs": [
    {
     "name": "stdout",
     "output_type": "stream",
     "text": [
      "              job     Ratio   Yes    No\n",
      "11        student  0.458333   275   600\n",
      "5         retired  0.337481   434  1286\n",
      "7      unemployed  0.165517   144   870\n",
      "2          admin.  0.149063  1352  9070\n",
      "6      management  0.126348   328  2596\n",
      "9         unknown  0.126280    37   293\n",
      "4      technician  0.121404   730  6013\n",
      "8   self-employed  0.117138   149  1272\n",
      "0       housemaid  0.111111   106   954\n",
      "10   entrepreneur  0.093093   124  1332\n",
      "1        services  0.088590   323  3646\n",
      "3     blue-collar  0.074048   638  8616\n"
     ]
    }
   ],
   "source": [
    "feature_count('job')"
   ]
  },
  {
   "cell_type": "markdown",
   "metadata": {},
   "source": [
    "> People with Admin jobs have the highest subscription (1389 subscriptions). Also, students and retired people have high subcription ratio. "
   ]
  },
  {
   "cell_type": "code",
   "execution_count": 337,
   "metadata": {
    "collapsed": true,
    "jupyter": {
     "outputs_hidden": true
    }
   },
   "outputs": [],
   "source": [
    "#Impute unknowns with Mode \n",
    "Banco['job'] = Banco['job'].apply(lambda x: replace_unknown(x,'job'))"
   ]
  },
  {
   "cell_type": "code",
   "execution_count": 338,
   "metadata": {},
   "outputs": [
    {
     "name": "stdout",
     "output_type": "stream",
     "text": [
      "              job     Ratio   Yes    No\n",
      "10        student  0.458333   275   600\n",
      "5         retired  0.337481   434  1286\n",
      "7      unemployed  0.165517   144   870\n",
      "2          admin.  0.148350  1389  9363\n",
      "6      management  0.126348   328  2596\n",
      "4      technician  0.121404   730  6013\n",
      "8   self-employed  0.117138   149  1272\n",
      "0       housemaid  0.111111   106   954\n",
      "9    entrepreneur  0.093093   124  1332\n",
      "1        services  0.088590   323  3646\n",
      "3     blue-collar  0.074048   638  8616\n"
     ]
    }
   ],
   "source": [
    "#Check if there is any change in ratios after imputing mode\n",
    "feature_count('job')"
   ]
  },
  {
   "cell_type": "markdown",
   "metadata": {},
   "source": [
    "> There is not a lot of change in the yes/no ratio for the Admin jobs after the replacement"
   ]
  },
  {
   "cell_type": "code",
   "execution_count": 339,
   "metadata": {},
   "outputs": [
    {
     "data": {
      "text/plain": [
       "married     24928\n",
       "single      11568\n",
       "divorced     4612\n",
       "unknown        80\n",
       "Name: marital, dtype: int64"
      ]
     },
     "execution_count": 339,
     "metadata": {},
     "output_type": "execute_result"
    }
   ],
   "source": [
    "Banco['marital'].value_counts()"
   ]
  },
  {
   "cell_type": "code",
   "execution_count": 340,
   "metadata": {},
   "outputs": [
    {
     "data": {
      "text/plain": [
       "<matplotlib.axes._subplots.AxesSubplot at 0x7f56db98e810>"
      ]
     },
     "execution_count": 340,
     "metadata": {},
     "output_type": "execute_result"
    },
    {
     "data": {
      "image/png": "[encoded data removed]",
      "text/plain": [
       "<matplotlib.figure.Figure at 0x7f56db4ea450>"
      ]
     },
     "metadata": {},
     "output_type": "display_data"
    }
   ],
   "source": [
    "sns.countplot(x = Banco['marital'], hue = Banco['y'])"
   ]
  },
  {
   "cell_type": "code",
   "execution_count": 341,
   "metadata": {},
   "outputs": [
    {
     "name": "stdout",
     "output_type": "stream",
     "text": [
      "    marital     Ratio   Yes     No\n",
      "3   unknown  0.176471    12     68\n",
      "1    single  0.162847  1620   9948\n",
      "2  divorced  0.115087   476   4136\n",
      "0   married  0.113056  2532  22396\n"
     ]
    }
   ],
   "source": [
    "feature_count('marital')"
   ]
  },
  {
   "cell_type": "markdown",
   "metadata": {},
   "source": [
    "> People who are _Single_ have a better subscription ratio compared to others.   "
   ]
  },
  {
   "cell_type": "code",
   "execution_count": 342,
   "metadata": {
    "collapsed": true,
    "jupyter": {
     "outputs_hidden": true
    }
   },
   "outputs": [],
   "source": [
    "#Impute unknowns with Mode in marital column\n",
    "Banco['marital'] = Banco['marital'].apply(lambda x: replace_unknown(x,'marital'))"
   ]
  },
  {
   "cell_type": "code",
   "execution_count": 343,
   "metadata": {},
   "outputs": [
    {
     "name": "stdout",
     "output_type": "stream",
     "text": [
      "    marital     Ratio   Yes     No\n",
      "1    single  0.162847  1620   9948\n",
      "2  divorced  0.115087   476   4136\n",
      "0   married  0.113248  2544  22464\n"
     ]
    }
   ],
   "source": [
    "feature_count('marital')"
   ]
  },
  {
   "cell_type": "markdown",
   "metadata": {},
   "source": [
    "> Again, no significant change noticed in the ratio after replacement"
   ]
  },
  {
   "cell_type": "code",
   "execution_count": 344,
   "metadata": {},
   "outputs": [
    {
     "data": {
      "text/plain": [
       "<matplotlib.axes._subplots.AxesSubplot at 0x7f56db9a2150>"
      ]
     },
     "execution_count": 344,
     "metadata": {},
     "output_type": "execute_result"
    },
    {
     "data": {
      "image/png": "[encoded data removed]",
      "text/plain": [
       "<matplotlib.figure.Figure at 0x7f56db61a7d0>"
      ]
     },
     "metadata": {},
     "output_type": "display_data"
    }
   ],
   "source": [
    "sns.countplot(y = Banco['education'], hue = Banco['y']) "
   ]
  },
  {
   "cell_type": "markdown",
   "metadata": {},
   "source": [
    "> University Degree and High School completed people have high subscriptions "
   ]
  },
  {
   "cell_type": "code",
   "execution_count": 345,
   "metadata": {},
   "outputs": [
    {
     "name": "stdout",
     "output_type": "stream",
     "text": [
      "             education     Ratio   Yes     No\n",
      "7           illiterate  0.285714     4     14\n",
      "5              unknown  0.169595   251   1480\n",
      "6    university.degree  0.159078  1670  10498\n",
      "4  professional.course  0.128012   595   4648\n",
      "1          high.school  0.121523  1031   8484\n",
      "0             basic.4y  0.114194   428   3748\n",
      "2             basic.6y  0.089354   188   2104\n",
      "3             basic.9y  0.084889   473   5572\n"
     ]
    }
   ],
   "source": [
    "feature_count('education')    "
   ]
  },
  {
   "cell_type": "markdown",
   "metadata": {},
   "source": [
    "There are ~1700 unknowns for the education column. We will consider _unknown_ as another unique value."
   ]
  },
  {
   "cell_type": "markdown",
   "metadata": {},
   "source": [
    "> In addition to these, Professional course completed students also have good subscription rates. Illiterates have the highest ratio, but the frequency is low. "
   ]
  },
  {
   "cell_type": "code",
   "execution_count": 346,
   "metadata": {},
   "outputs": [
    {
     "data": {
      "text/plain": [
       "<matplotlib.axes._subplots.AxesSubplot at 0x7f56db5c4350>"
      ]
     },
     "execution_count": 346,
     "metadata": {},
     "output_type": "execute_result"
    },
    {
     "data": {
      "image/png": "[encoded data removed]",
      "text/plain": [
       "<matplotlib.figure.Figure at 0x7f56db89c210>"
      ]
     },
     "metadata": {},
     "output_type": "display_data"
    }
   ],
   "source": [
    "sns.countplot(x=Banco['default'], hue=Banco['y'])"
   ]
  },
  {
   "cell_type": "code",
   "execution_count": 347,
   "metadata": {},
   "outputs": [
    {
     "name": "stdout",
     "output_type": "stream",
     "text": [
      "   default     Ratio   Yes     No\n",
      "0       no  0.147829  4197  28391\n",
      "1  unknown  0.054329   443   8154\n",
      "2      yes  0.000000     0      3\n"
     ]
    }
   ],
   "source": [
    "feature_count('default')"
   ]
  },
  {
   "cell_type": "markdown",
   "metadata": {},
   "source": [
    "> A lot of samples are unknown. However, only 3 samples have defaulted. "
   ]
  },
  {
   "cell_type": "markdown",
   "metadata": {},
   "source": [
    "Since the *unknown* values are around 8600, imputing mode for the unknowns in this column can alter the model fit. We can let the unknown be a another unique value for this column."
   ]
  },
  {
   "cell_type": "code",
   "execution_count": 348,
   "metadata": {},
   "outputs": [
    {
     "data": {
      "text/plain": [
       "no         32588\n",
       "unknown     8597\n",
       "yes            3\n",
       "Name: default, dtype: int64"
      ]
     },
     "execution_count": 348,
     "metadata": {},
     "output_type": "execute_result"
    }
   ],
   "source": [
    "Banco['default'].value_counts()"
   ]
  },
  {
   "cell_type": "code",
   "execution_count": 349,
   "metadata": {},
   "outputs": [
    {
     "data": {
      "text/plain": [
       "21580    no\n",
       "21581    no\n",
       "24866    no\n",
       "Name: y, dtype: object"
      ]
     },
     "execution_count": 349,
     "metadata": {},
     "output_type": "execute_result"
    }
   ],
   "source": [
    "Banco[Banco['default']=='yes']['y']"
   ]
  },
  {
   "cell_type": "markdown",
   "metadata": {},
   "source": [
    "> All 3 cases of loan defaulters did not subscribe. Possibly, no savings -> no subscription? "
   ]
  },
  {
   "cell_type": "code",
   "execution_count": 352,
   "metadata": {},
   "outputs": [
    {
     "data": {
      "text/plain": [
       "<matplotlib.axes._subplots.AxesSubplot at 0x7f56dbaca210>"
      ]
     },
     "execution_count": 352,
     "metadata": {},
     "output_type": "execute_result"
    },
    {
     "data": {
      "image/png": "[encoded data removed]",
      "text/plain": [
       "<matplotlib.figure.Figure at 0x7f56db937550>"
      ]
     },
     "metadata": {},
     "output_type": "display_data"
    }
   ],
   "source": [
    "sns.countplot(x = Banco['housing'], hue=Banco['y'])"
   ]
  },
  {
   "cell_type": "code",
   "execution_count": 353,
   "metadata": {},
   "outputs": [
    {
     "name": "stdout",
     "output_type": "stream",
     "text": [
      "   housing     Ratio   Yes     No\n",
      "1      yes  0.131470  2507  19069\n",
      "0       no  0.122078  2026  16596\n",
      "2  unknown  0.121178   107    883\n"
     ]
    }
   ],
   "source": [
    "feature_count('housing')"
   ]
  },
  {
   "cell_type": "markdown",
   "metadata": {},
   "source": [
    "Since there are around 1000 records of unknowns, we will not impute the mode."
   ]
  },
  {
   "cell_type": "markdown",
   "metadata": {},
   "source": [
    "> People with housing loan have a slightly higher subscription rate compare to ones without."
   ]
  },
  {
   "cell_type": "code",
   "execution_count": 354,
   "metadata": {},
   "outputs": [
    {
     "data": {
      "text/plain": [
       "<matplotlib.axes._subplots.AxesSubplot at 0x7f56dbab4310>"
      ]
     },
     "execution_count": 354,
     "metadata": {},
     "output_type": "execute_result"
    },
    {
     "data": {
      "image/png": "[encoded data removed]",
      "text/plain": [
       "<matplotlib.figure.Figure at 0x7f56e8394ed0>"
      ]
     },
     "metadata": {},
     "output_type": "display_data"
    }
   ],
   "source": [
    "sns.countplot(x=Banco['loan'], hue=Banco['y'])"
   ]
  },
  {
   "cell_type": "code",
   "execution_count": 355,
   "metadata": {},
   "outputs": [
    {
     "name": "stdout",
     "output_type": "stream",
     "text": [
      "      loan     Ratio   Yes     No\n",
      "0       no  0.127907  3850  30100\n",
      "1      yes  0.122731   683   5565\n",
      "2  unknown  0.121178   107    883\n"
     ]
    }
   ],
   "source": [
    "feature_count('loan')"
   ]
  },
  {
   "cell_type": "markdown",
   "metadata": {},
   "source": [
    "> Subscription ratio is same for all three values. Non-loan takers have slightly better ratio."
   ]
  },
  {
   "cell_type": "code",
   "execution_count": 356,
   "metadata": {},
   "outputs": [
    {
     "data": {
      "text/plain": [
       "<matplotlib.axes._subplots.AxesSubplot at 0x7f56db2d2a90>"
      ]
     },
     "execution_count": 356,
     "metadata": {},
     "output_type": "execute_result"
    },
    {
     "data": {
      "image/png": "[encoded data removed]",
      "text/plain": [
       "<matplotlib.figure.Figure at 0x7f56dba13410>"
      ]
     },
     "metadata": {},
     "output_type": "display_data"
    }
   ],
   "source": [
    "sns.countplot(x=Banco['contact'], hue=Banco['y'])"
   ]
  },
  {
   "cell_type": "code",
   "execution_count": 357,
   "metadata": {},
   "outputs": [
    {
     "name": "stdout",
     "output_type": "stream",
     "text": [
      "     contact     Ratio   Yes     No\n",
      "1   cellular  0.172850  3853  22291\n",
      "0  telephone  0.055201   787  14257\n"
     ]
    }
   ],
   "source": [
    "feature_count('contact')"
   ]
  },
  {
   "cell_type": "markdown",
   "metadata": {},
   "source": [
    " > Cellular contact to users resulted in a relatively better subcription"
   ]
  },
  {
   "cell_type": "code",
   "execution_count": 359,
   "metadata": {},
   "outputs": [
    {
     "data": {
      "text/plain": [
       "<matplotlib.axes._subplots.AxesSubplot at 0x7f56db03a310>"
      ]
     },
     "execution_count": 359,
     "metadata": {},
     "output_type": "execute_result"
    },
    {
     "data": {
      "image/png": "[encoded data removed]",
      "text/plain": [
       "<matplotlib.figure.Figure at 0x7f56db239110>"
      ]
     },
     "metadata": {},
     "output_type": "display_data"
    }
   ],
   "source": [
    "sns.countplot(x=Banco['month'], hue= Banco['y'])"
   ]
  },
  {
   "cell_type": "markdown",
   "metadata": {},
   "source": [
    "> _May_ has the highest number of subscriptions and non-takers as well"
   ]
  },
  {
   "cell_type": "code",
   "execution_count": 360,
   "metadata": {},
   "outputs": [
    {
     "name": "stdout",
     "output_type": "stream",
     "text": [
      "  month     Ratio  Yes     No\n",
      "7   mar  1.022222  276    270\n",
      "6   dec  0.956989   89     93\n",
      "9   sep  0.815287  256    314\n",
      "4   oct  0.781638  315    403\n",
      "8   apr  0.257525  539   2093\n",
      "3   aug  0.118595  655   5523\n",
      "1   jun  0.117462  559   4759\n",
      "5   nov  0.112890  416   3685\n",
      "2   jul  0.099464  649   6525\n",
      "0   may  0.068773  886  12883\n"
     ]
    }
   ],
   "source": [
    "feature_count('month')"
   ]
  },
  {
   "cell_type": "markdown",
   "metadata": {},
   "source": [
    "> Mar, Dec, Sep, Oct have better subscription ratios. However, the volumes are very less."
   ]
  },
  {
   "cell_type": "code",
   "execution_count": 361,
   "metadata": {},
   "outputs": [
    {
     "data": {
      "text/plain": [
       "<matplotlib.axes._subplots.AxesSubplot at 0x7f56daee0490>"
      ]
     },
     "execution_count": 361,
     "metadata": {},
     "output_type": "execute_result"
    },
    {
     "data": {
      "image/png": "[encoded data removed]",
      "text/plain": [
       "<matplotlib.figure.Figure at 0x7f56daf3acd0>"
      ]
     },
     "metadata": {},
     "output_type": "display_data"
    }
   ],
   "source": [
    "sns.countplot(x=Banco['day_of_week'], hue=Banco['y'])"
   ]
  },
  {
   "cell_type": "code",
   "execution_count": 362,
   "metadata": {},
   "outputs": [
    {
     "name": "stdout",
     "output_type": "stream",
     "text": [
      "  day_of_week     Ratio   Yes    No\n",
      "3         thu  0.137899  1045  7578\n",
      "1         tue  0.133529   953  7137\n",
      "2         wed  0.132081   949  7185\n",
      "4         fri  0.121186   846  6981\n",
      "0         mon  0.110473   847  7667\n"
     ]
    }
   ],
   "source": [
    "feature_count('day_of_week')"
   ]
  },
  {
   "cell_type": "markdown",
   "metadata": {},
   "source": [
    "> Subscription ratios are good mid-week i.e., Tuesday to Thursday"
   ]
  },
  {
   "cell_type": "code",
   "execution_count": 266,
   "metadata": {},
   "outputs": [
    {
     "name": "stdout",
     "output_type": "stream",
     "text": [
      "month \tDay\tYes\tNo\tRatio\n",
      "--------------------------------------\n",
      "may \tmon \t191 \t2451 \t0.078\n",
      "may \ttue \t149 \t2660 \t0.056\n",
      "may \twed \t186 \t2737 \t0.068\n",
      "may \tthu \t161 \t2376 \t0.068\n",
      "may \tfri \t199 \t2659 \t0.075\n",
      "--------------------------------------\n",
      "jun \tmon \t136 \t1115 \t0.122\n",
      "jun \ttue \t125 \t845 \t0.148\n",
      "jun \twed \t118 \t865 \t0.136\n",
      "jun \tthu \t91 \t876 \t0.104\n",
      "jun \tfri \t89 \t1058 \t0.084\n",
      "--------------------------------------\n",
      "jul \tmon \t120 \t1396 \t0.086\n",
      "jul \ttue \t133 \t1384 \t0.096\n",
      "jul \twed \t135 \t1322 \t0.102\n",
      "jul \tthu \t143 \t1529 \t0.094\n",
      "jul \tfri \t118 \t894 \t0.132\n",
      "--------------------------------------\n",
      "aug \tmon \t107 \t1115 \t0.096\n",
      "aug \ttue \t148 \t1148 \t0.129\n",
      "aug \twed \t147 \t1096 \t0.134\n",
      "aug \tthu \t131 \t1216 \t0.108\n",
      "aug \tfri \t122 \t948 \t0.129\n",
      "--------------------------------------\n",
      "oct \tmon \t42 \t87 \t0.483\n",
      "oct \ttue \t67 \t82 \t0.817\n",
      "oct \twed \t63 \t72 \t0.875\n",
      "oct \tthu \t74 \t89 \t0.831\n",
      "oct \tfri \t69 \t73 \t0.945\n",
      "--------------------------------------\n",
      "nov \tmon \t67 \t699 \t0.096\n",
      "nov \ttue \t90 \t724 \t0.124\n",
      "nov \twed \t84 \t779 \t0.108\n",
      "nov \tthu \t92 \t811 \t0.113\n",
      "nov \tfri \t83 \t672 \t0.124\n",
      "--------------------------------------\n",
      "dec \tmon \t23 \t30 \t0.767\n",
      "dec \ttue \t15 \t10 \t1.500\n",
      "dec \twed \t21 \t14 \t1.500\n",
      "dec \tthu \t21 \t24 \t0.875\n",
      "dec \tfri \t9 \t15 \t0.600\n",
      "--------------------------------------\n",
      "mar \tmon \t57 \t86 \t0.663\n",
      "mar \ttue \t84 \t56 \t1.500\n",
      "mar \twed \t42 \t28 \t1.500\n",
      "mar \tthu \t44 \t55 \t0.800\n",
      "mar \tfri \t49 \t45 \t1.089\n",
      "--------------------------------------\n",
      "apr \tmon \t77 \t625 \t0.123\n",
      "apr \ttue \t81 \t171 \t0.474\n",
      "apr \twed \t89 \t211 \t0.422\n",
      "apr \tthu \t230 \t538 \t0.428\n",
      "apr \tfri \t62 \t548 \t0.113\n",
      "--------------------------------------\n",
      "sep \tmon \t27 \t63 \t0.429\n",
      "sep \ttue \t61 \t57 \t1.070\n",
      "sep \twed \t64 \t61 \t1.049\n",
      "sep \tthu \t58 \t64 \t0.906\n",
      "sep \tfri \t46 \t69 \t0.667\n",
      "--------------------------------------\n"
     ]
    }
   ],
   "source": [
    "#Compare the subscription ratios for  month and Day_of_week columns. \n",
    "#To see if there is any pattern for weekday in every month\n",
    "feature_count2('month','day_of_week')"
   ]
  },
  {
   "cell_type": "code",
   "execution_count": 366,
   "metadata": {},
   "outputs": [
    {
     "data": {
      "image/png": "[encoded data removed]",
      "text/plain": [
       "<matplotlib.figure.Figure at 0x7f56dae7bbd0>"
      ]
     },
     "metadata": {},
     "output_type": "display_data"
    }
   ],
   "source": [
    "#Plot a stacked plot \n",
    "stack_plot('campaign','y', 60)"
   ]
  },
  {
   "cell_type": "code",
   "execution_count": 369,
   "metadata": {},
   "outputs": [
    {
     "name": "stdout",
     "output_type": "stream",
     "text": [
      "Range\t\tRatio\tYes\tNo\n",
      "----------------------------------\n",
      "0 - 2   \t0.150 \t2300 \t15342\n",
      "2 - 4   \t0.120 \t574 \t4767\n",
      "4 - 6   \t0.081 \t120 \t1479\n",
      "6 - 8   \t0.064 \t38 \t591\n",
      "8 - 10   \t0.064 \t17 \t266\n",
      "10 - 12   \t0.073 \t12 \t165\n",
      "12 - 14   \t0.045 \t4 \t88\n",
      "14 - 16   \t0.041 \t2 \t49\n",
      "16 - 18   \t0.074 \t4 \t54\n",
      "18 - 20   \t0.000 \t0 \t26\n",
      "20 - 22   \t0.000 \t0 \t24\n",
      "22 - 24   \t0.067 \t1 \t15\n",
      "24 - 26   \t0.000 \t0 \t8\n",
      "26 - 28   \t0.000 \t0 \t11\n",
      "28 - 30   \t0.000 \t0 \t10\n",
      "30 - 32   \t0.000 \t0 \t7\n",
      "32 - 34   \t0.000 \t0 \t4\n",
      "34 - 36   \t0.000 \t0 \t5\n",
      "36 - 38   \t0.000 \t0 \t1\n",
      "38 - 40   \t0.000 \t0 \t1\n",
      "40 - 42   \t0.000 \t0 \t1\n",
      "42 - 44   \t0.000 \t0 \t2\n",
      "44 - 46 \tnan \t0 \t0\n",
      "46 - 48 \tnan \t0 \t0\n",
      "48 - 50 \tnan \t0 \t0\n",
      "50 - 52 \tnan \t0 \t0\n",
      "52 - 54 \tnan \t0 \t0\n",
      "54 - 56 \tnan \t0 \t0\n",
      "56 - 58 \tnan \t0 \t0\n",
      "58 - 60 \tnan \t0 \t0\n"
     ]
    }
   ],
   "source": [
    "range_count(0,60,2,'campaign')"
   ]
  },
  {
   "cell_type": "markdown",
   "metadata": {},
   "source": [
    "> Ratio is more when the number of times contacted is below 5. Infact, the subscribers are maximum when the contacted once. If the contact is more than 20, usually the subscription is not taken (Only single outlier). "
   ]
  },
  {
   "cell_type": "code",
   "execution_count": 269,
   "metadata": {},
   "outputs": [
    {
     "data": {
      "image/png": "[encoded data removed]",
      "text/plain": [
       "<matplotlib.figure.Figure at 0x7f56db98e250>"
      ]
     },
     "metadata": {},
     "output_type": "display_data"
    }
   ],
   "source": [
    "stack_plot('duration','y',20)"
   ]
  },
  {
   "cell_type": "code",
   "execution_count": 370,
   "metadata": {},
   "outputs": [
    {
     "name": "stdout",
     "output_type": "stream",
     "text": [
      "Range\t\tRatio\tYes\tNo\n",
      "----------------------------------\n",
      "0 - 250   \t0.043 \t1116 \t25747\n",
      "250 - 500   \t0.179 \t1409 \t7879\n",
      "500 - 750   \t0.508 \t963 \t1896\n",
      "750 - 1000   \t1.043 \t563 \t540\n",
      "1000 - 1250   \t1.301 \t294 \t226\n",
      "1250 - 1500   \t1.621 \t141 \t87\n",
      "1500 - 1750   \t1.941 \t66 \t34\n",
      "1750 - 2000   \t1.190 \t25 \t21\n",
      "2000 - 2250   \t2.429 \t17 \t7\n",
      "2250 - 2500   \t2.000 \t8 \t4\n",
      "2500 - 2750   \t5.000 \t5 \t1\n",
      "2750 - 3000   \t2.000 \t2 \t1\n",
      "3000 - 3250   \t3.000 \t3 \t1\n",
      "3250 - 3500   \t0.000 \t0 \t5\n",
      "3500 - 3750   \t2.000 \t2 \t1\n",
      "3750 - 4000   \t0.000 \t0 \t1\n",
      "4000 - 4250 \tnan \t1 \t0\n",
      "4250 - 4500 \tnan \t0 \t0\n",
      "4500 - 4750 \tnan \t0 \t0\n",
      "4750 - 5000   \t0.000 \t0 \t1\n"
     ]
    }
   ],
   "source": [
    "#Distribution of duration column\n",
    "range_count(0,5000,250,'duration')"
   ]
  },
  {
   "cell_type": "markdown",
   "metadata": {},
   "source": [
    "> 500-1500 call duration range indicates good conversion i.e., good subscription. Beyond that range, the frequency is low to have any significance"
   ]
  },
  {
   "cell_type": "code",
   "execution_count": 271,
   "metadata": {},
   "outputs": [
    {
     "data": {
      "text/plain": [
       "<matplotlib.axes._subplots.AxesSubplot at 0x7f56db829590>"
      ]
     },
     "execution_count": 271,
     "metadata": {},
     "output_type": "execute_result"
    },
    {
     "data": {
      "image/png": "[encoded data removed]",
      "text/plain": [
       "<matplotlib.figure.Figure at 0x7f56db8cb5d0>"
      ]
     },
     "metadata": {},
     "output_type": "display_data"
    }
   ],
   "source": [
    "sns.countplot(x = Banco['poutcome'], hue=Banco['y'])"
   ]
  },
  {
   "cell_type": "code",
   "execution_count": 272,
   "metadata": {},
   "outputs": [
    {
     "name": "stdout",
     "output_type": "stream",
     "text": [
      "      poutcome     Ratio   Yes     No\n",
      "2      success  1.866388   894    479\n",
      "1      failure  0.165890   605   3647\n",
      "0  nonexistent  0.096879  3141  32422\n"
     ]
    }
   ],
   "source": [
    "feature_count('poutcome')"
   ]
  },
  {
   "cell_type": "markdown",
   "metadata": {},
   "source": [
    "> For fresh campaign, it was not very successful. For previously successful campaigns, subscription rates are good"
   ]
  },
  {
   "cell_type": "code",
   "execution_count": 273,
   "metadata": {},
   "outputs": [
    {
     "data": {
      "text/plain": [
       "<matplotlib.axes._subplots.AxesSubplot at 0x7f56db7f7e10>"
      ]
     },
     "execution_count": 273,
     "metadata": {},
     "output_type": "execute_result"
    },
    {
     "data": {
      "image/png": "[encoded data removed]",
      "text/plain": [
       "<matplotlib.figure.Figure at 0x7f56db81ee90>"
      ]
     },
     "metadata": {},
     "output_type": "display_data"
    }
   ],
   "source": [
    "sns.countplot(x=Banco['previous'], hue=Banco['y'])"
   ]
  },
  {
   "cell_type": "code",
   "execution_count": 274,
   "metadata": {},
   "outputs": [
    {
     "name": "stdout",
     "output_type": "stream",
     "text": [
      "   previous     Ratio   Yes     No\n",
      "5         5  2.600000    13      5\n",
      "6         6  1.500000     3      2\n",
      "3         3  1.454545   128     88\n",
      "4         4  1.187500    38     32\n",
      "2         2  0.866337   350    404\n",
      "1         1  0.269060   967   3594\n",
      "0         0  0.096879  3141  32422\n",
      "7         7  0.000000     0      1\n"
     ]
    }
   ],
   "source": [
    "feature_count('previous')"
   ]
  },
  {
   "cell_type": "markdown",
   "metadata": {},
   "source": [
    "> Maximum subscribers are fresh. They have not been contacted previously. People subsribe better if the previous contact is more than or equal to 2 days. The frequency is low, though, for more than 2 days."
   ]
  },
  {
   "cell_type": "code",
   "execution_count": 371,
   "metadata": {},
   "outputs": [
    {
     "data": {
      "text/plain": [
       "no     36548\n",
       "yes     4640\n",
       "Name: y, dtype: int64"
      ]
     },
     "execution_count": 371,
     "metadata": {},
     "output_type": "execute_result"
    }
   ],
   "source": [
    "#Total number of subscribers and non-subscribers for the given dataset\n",
    "Banco['y'].value_counts()"
   ]
  },
  {
   "cell_type": "code",
   "execution_count": 372,
   "metadata": {},
   "outputs": [
    {
     "name": "stdout",
     "output_type": "stream",
     "text": [
      "0.1127\n"
     ]
    }
   ],
   "source": [
    "#Percentage of subscribers in the data set\n",
    "print \"%0.4f\" % (4640/float(4640+36548))"
   ]
  },
  {
   "cell_type": "markdown",
   "metadata": {},
   "source": [
    "> 11.27% - Subscribers 88.73% of non-subscribers - Dataset is __imbalanced__"
   ]
  },
  {
   "cell_type": "markdown",
   "metadata": {},
   "source": [
    "### __Model Building__"
   ]
  },
  {
   "cell_type": "markdown",
   "metadata": {},
   "source": [
    "We will model the training dataset with these classifiers\n",
    "- Logistic Regression\n",
    "- Random Forest\n",
    "- XGBoost"
   ]
  },
  {
   "cell_type": "markdown",
   "metadata": {},
   "source": [
    "#### __Convert the categorical values to numeric values__"
   ]
  },
  {
   "cell_type": "markdown",
   "metadata": {},
   "source": [
    "_scikit-learn_ models do not work with categorial variables(String). Hence, converting them to numeric values.  "
   ]
  },
  {
   "cell_type": "code",
   "execution_count": 373,
   "metadata": {
    "collapsed": true,
    "jupyter": {
     "outputs_hidden": true
    }
   },
   "outputs": [],
   "source": [
    "#Convert categorical values to numeric for each categorical feature\n",
    "for col in Banco.columns:\n",
    "    if Banco[col].dtype == object:\n",
    "        Banco[col] = Banco[col].astype('category').cat.codes"
   ]
  },
  {
   "cell_type": "code",
   "execution_count": 375,
   "metadata": {},
   "outputs": [
    {
     "data": {
      "text/html": [
       "<div>\n",
       "<style scoped>\n",
       "    .dataframe tbody tr th:only-of-type {\n",
       "        vertical-align: middle;\n",
       "    }\n",
       "\n",
       "    .dataframe tbody tr th {\n",
       "        vertical-align: top;\n",
       "    }\n",
       "\n",
       "    .dataframe thead th {\n",
       "        text-align: right;\n",
       "    }\n",
       "</style>\n",
       "<table border=\"1\" class=\"dataframe\">\n",
       "  <thead>\n",
       "    <tr style=\"text-align: right;\">\n",
       "      <th></th>\n",
       "      <th>age</th>\n",
       "      <th>job</th>\n",
       "      <th>marital</th>\n",
       "      <th>education</th>\n",
       "      <th>default</th>\n",
       "      <th>housing</th>\n",
       "      <th>loan</th>\n",
       "      <th>contact</th>\n",
       "      <th>month</th>\n",
       "      <th>day_of_week</th>\n",
       "      <th>...</th>\n",
       "      <th>campaign</th>\n",
       "      <th>pdays</th>\n",
       "      <th>previous</th>\n",
       "      <th>poutcome</th>\n",
       "      <th>emp.var.rate</th>\n",
       "      <th>cons.price.idx</th>\n",
       "      <th>cons.conf.idx</th>\n",
       "      <th>euribor3m</th>\n",
       "      <th>nr.employed</th>\n",
       "      <th>y</th>\n",
       "    </tr>\n",
       "  </thead>\n",
       "  <tbody>\n",
       "    <tr>\n",
       "      <th>0</th>\n",
       "      <td>56</td>\n",
       "      <td>3</td>\n",
       "      <td>1</td>\n",
       "      <td>0</td>\n",
       "      <td>0</td>\n",
       "      <td>0</td>\n",
       "      <td>0</td>\n",
       "      <td>1</td>\n",
       "      <td>6</td>\n",
       "      <td>1</td>\n",
       "      <td>...</td>\n",
       "      <td>1</td>\n",
       "      <td>999</td>\n",
       "      <td>0</td>\n",
       "      <td>1</td>\n",
       "      <td>1.1</td>\n",
       "      <td>93.994</td>\n",
       "      <td>-36.4</td>\n",
       "      <td>4.857</td>\n",
       "      <td>5191.0</td>\n",
       "      <td>0</td>\n",
       "    </tr>\n",
       "    <tr>\n",
       "      <th>1</th>\n",
       "      <td>57</td>\n",
       "      <td>7</td>\n",
       "      <td>1</td>\n",
       "      <td>3</td>\n",
       "      <td>1</td>\n",
       "      <td>0</td>\n",
       "      <td>0</td>\n",
       "      <td>1</td>\n",
       "      <td>6</td>\n",
       "      <td>1</td>\n",
       "      <td>...</td>\n",
       "      <td>1</td>\n",
       "      <td>999</td>\n",
       "      <td>0</td>\n",
       "      <td>1</td>\n",
       "      <td>1.1</td>\n",
       "      <td>93.994</td>\n",
       "      <td>-36.4</td>\n",
       "      <td>4.857</td>\n",
       "      <td>5191.0</td>\n",
       "      <td>0</td>\n",
       "    </tr>\n",
       "    <tr>\n",
       "      <th>2</th>\n",
       "      <td>37</td>\n",
       "      <td>7</td>\n",
       "      <td>1</td>\n",
       "      <td>3</td>\n",
       "      <td>0</td>\n",
       "      <td>2</td>\n",
       "      <td>0</td>\n",
       "      <td>1</td>\n",
       "      <td>6</td>\n",
       "      <td>1</td>\n",
       "      <td>...</td>\n",
       "      <td>1</td>\n",
       "      <td>999</td>\n",
       "      <td>0</td>\n",
       "      <td>1</td>\n",
       "      <td>1.1</td>\n",
       "      <td>93.994</td>\n",
       "      <td>-36.4</td>\n",
       "      <td>4.857</td>\n",
       "      <td>5191.0</td>\n",
       "      <td>0</td>\n",
       "    </tr>\n",
       "    <tr>\n",
       "      <th>3</th>\n",
       "      <td>40</td>\n",
       "      <td>0</td>\n",
       "      <td>1</td>\n",
       "      <td>1</td>\n",
       "      <td>0</td>\n",
       "      <td>0</td>\n",
       "      <td>0</td>\n",
       "      <td>1</td>\n",
       "      <td>6</td>\n",
       "      <td>1</td>\n",
       "      <td>...</td>\n",
       "      <td>1</td>\n",
       "      <td>999</td>\n",
       "      <td>0</td>\n",
       "      <td>1</td>\n",
       "      <td>1.1</td>\n",
       "      <td>93.994</td>\n",
       "      <td>-36.4</td>\n",
       "      <td>4.857</td>\n",
       "      <td>5191.0</td>\n",
       "      <td>0</td>\n",
       "    </tr>\n",
       "    <tr>\n",
       "      <th>4</th>\n",
       "      <td>56</td>\n",
       "      <td>7</td>\n",
       "      <td>1</td>\n",
       "      <td>3</td>\n",
       "      <td>0</td>\n",
       "      <td>0</td>\n",
       "      <td>2</td>\n",
       "      <td>1</td>\n",
       "      <td>6</td>\n",
       "      <td>1</td>\n",
       "      <td>...</td>\n",
       "      <td>1</td>\n",
       "      <td>999</td>\n",
       "      <td>0</td>\n",
       "      <td>1</td>\n",
       "      <td>1.1</td>\n",
       "      <td>93.994</td>\n",
       "      <td>-36.4</td>\n",
       "      <td>4.857</td>\n",
       "      <td>5191.0</td>\n",
       "      <td>0</td>\n",
       "    </tr>\n",
       "  </tbody>\n",
       "</table>\n",
       "<p>5 rows × 21 columns</p>\n",
       "</div>"
      ],
      "text/plain": [
       "   age  job  marital  education  default  housing  loan  contact  month  \\\n",
       "0   56    3        1          0        0        0     0        1      6   \n",
       "1   57    7        1          3        1        0     0        1      6   \n",
       "2   37    7        1          3        0        2     0        1      6   \n",
       "3   40    0        1          1        0        0     0        1      6   \n",
       "4   56    7        1          3        0        0     2        1      6   \n",
       "\n",
       "   day_of_week ...  campaign  pdays  previous  poutcome  emp.var.rate  \\\n",
       "0            1 ...         1    999         0         1           1.1   \n",
       "1            1 ...         1    999         0         1           1.1   \n",
       "2            1 ...         1    999         0         1           1.1   \n",
       "3            1 ...         1    999         0         1           1.1   \n",
       "4            1 ...         1    999         0         1           1.1   \n",
       "\n",
       "   cons.price.idx  cons.conf.idx  euribor3m  nr.employed  y  \n",
       "0          93.994          -36.4      4.857       5191.0  0  \n",
       "1          93.994          -36.4      4.857       5191.0  0  \n",
       "2          93.994          -36.4      4.857       5191.0  0  \n",
       "3          93.994          -36.4      4.857       5191.0  0  \n",
       "4          93.994          -36.4      4.857       5191.0  0  \n",
       "\n",
       "[5 rows x 21 columns]"
      ]
     },
     "execution_count": 375,
     "metadata": {},
     "output_type": "execute_result"
    }
   ],
   "source": [
    "#Check the dataset to see the changed dataset\n",
    "Banco.head(5)"
   ]
  },
  {
   "cell_type": "code",
   "execution_count": 445,
   "metadata": {
    "collapsed": true,
    "jupyter": {
     "outputs_hidden": true
    }
   },
   "outputs": [],
   "source": [
    "#Define function to get all the model metrics\n",
    "from sklearn.metrics import confusion_matrix, classification_report, accuracy_score, roc_curve, auc\n",
    "def model_metrics(X_test,y_test,y_model,obj):\n",
    "    \n",
    "    conf = confusion_matrix(y_test, y_model)\n",
    "    tp = conf[0][0]\n",
    "    fn = conf[1][0]\n",
    "    tn = conf[1][1]\n",
    "    fp = conf[0][1]\n",
    "    \n",
    "    sens = tp/float(tp+fn)\n",
    "    spec = tn/float(tn+fp)\n",
    "    mcc = (tp*tn - fp*fn)/float((tp+fp)*(tp+fn)*(fp+tn)*(tn+fn))**0.5\n",
    "    \n",
    "        \n",
    "    \n",
    "    y_pred_proba = obj.predict_proba(X_test)[::,1]\n",
    "    fpr, tpr, threshold = roc_curve(y_test,  y_pred_proba)\n",
    "    roc_auc = auc(fpr, tpr)\n",
    "    \n",
    "    \n",
    "    \n",
    "    print \"Classifier:\",obj\n",
    "    print \"----------------------------------------------------------------------------\"\n",
    "    print \"Accuracy\\t\\t: %0.4f\" % accuracy_score(y_test, y_model)\n",
    "    print \"Sensitivity\\t\\t: %0.4f\" % sens\n",
    "    print \"Specificity\\t\\t: %0.4f\" % spec\n",
    "    print \"Matthews Corr. Coeff.\\t: %0.4f\" % mcc\n",
    "    print \"----------------------------------------------------------------------------\"\n",
    "    print \"Confusion Matrix: \\n\", conf\n",
    "    print \"----------------------------------------------------------------------------\"\n",
    "    print \"Classification Report: \\n\",classification_report(y_test, y_model)\n",
    "    print \"----------------------------------------------------------------------------\"\n",
    "    \n",
    "    plt.title('Receiver Operating Characteristic Curve')\n",
    "    plt.plot(fpr, tpr, 'b', label = 'AUC = %0.4f' % roc_auc)\n",
    "    plt.legend(loc = 'best')\n",
    "    plt.plot([0, 1], [0, 1],'r--')\n",
    "    #plt.xlim([0, 1])\n",
    "    #plt.ylim([0, 1])\n",
    "    plt.ylabel('True Positive Rate')\n",
    "    plt.xlabel('False Positive Rate')\n",
    "    \n",
    "    "
   ]
  },
  {
   "cell_type": "markdown",
   "metadata": {},
   "source": [
    "#### __Predictor, Taget variables__"
   ]
  },
  {
   "cell_type": "code",
   "execution_count": 446,
   "metadata": {
    "collapsed": true,
    "jupyter": {
     "outputs_hidden": true
    }
   },
   "outputs": [],
   "source": [
    "#Define the predictors and the target variable. No column is being dropped from the predictors.\n",
    "X = Banco.drop('y', axis=1)\n",
    "y = Banco['y']"
   ]
  },
  {
   "cell_type": "markdown",
   "metadata": {},
   "source": [
    "#### __Split the data__"
   ]
  },
  {
   "cell_type": "code",
   "execution_count": 447,
   "metadata": {
    "collapsed": true,
    "jupyter": {
     "outputs_hidden": true
    }
   },
   "outputs": [],
   "source": [
    "#Split the data in 70:30 train-test ratio. We will train the model on X-train, y_train set\n",
    "from sklearn.model_selection import train_test_split\n",
    "X_train, X_test, y_train, y_test = train_test_split(X, y, test_size = 0.3, random_state = 101)"
   ]
  },
  {
   "cell_type": "code",
   "execution_count": 448,
   "metadata": {},
   "outputs": [
    {
     "data": {
      "text/plain": [
       "(28831, 20)"
      ]
     },
     "execution_count": 448,
     "metadata": {},
     "output_type": "execute_result"
    }
   ],
   "source": [
    "#Check the size of the training data\n",
    "X_train.shape"
   ]
  },
  {
   "cell_type": "markdown",
   "metadata": {},
   "source": [
    "#### __Logistic Regression__"
   ]
  },
  {
   "cell_type": "code",
   "execution_count": 449,
   "metadata": {
    "collapsed": true,
    "jupyter": {
     "outputs_hidden": true
    }
   },
   "outputs": [],
   "source": [
    "from sklearn.linear_model import LogisticRegression"
   ]
  },
  {
   "cell_type": "code",
   "execution_count": 500,
   "metadata": {
    "collapsed": true,
    "jupyter": {
     "outputs_hidden": true
    }
   },
   "outputs": [],
   "source": [
    "#Define classifier\n",
    "lr = LogisticRegression(random_state=101)"
   ]
  },
  {
   "cell_type": "code",
   "execution_count": 501,
   "metadata": {
    "collapsed": true,
    "jupyter": {
     "outputs_hidden": true
    }
   },
   "outputs": [],
   "source": [
    "#Fit the model on training set\n",
    "model_lr = lr.fit(X_train, y_train)"
   ]
  },
  {
   "cell_type": "code",
   "execution_count": 502,
   "metadata": {
    "collapsed": true,
    "jupyter": {
     "outputs_hidden": true
    }
   },
   "outputs": [],
   "source": [
    "#Predict on the test set \n",
    "pred_lr = model_lr.predict(X_test)"
   ]
  },
  {
   "cell_type": "code",
   "execution_count": 503,
   "metadata": {},
   "outputs": [
    {
     "name": "stdout",
     "output_type": "stream",
     "text": [
      "Classifier: LogisticRegression(C=1.0, class_weight=None, dual=False, fit_intercept=True,\n",
      "          intercept_scaling=1, max_iter=100, multi_class='ovr', n_jobs=1,\n",
      "          penalty='l2', random_state=101, solver='liblinear', tol=0.0001,\n",
      "          verbose=0, warm_start=False)\n",
      "----------------------------------------------------------------------------\n",
      "Accuracy\t\t: 0.9091\n",
      "Sensitivity\t\t: 0.9264\n",
      "Specificity\t\t: 0.6596\n",
      "Matthews Corr. Coeff.\t: 0.4585\n",
      "----------------------------------------------------------------------------\n",
      "Confusion Matrix: \n",
      "[[10705   273]\n",
      " [  850   529]]\n",
      "----------------------------------------------------------------------------\n",
      "Classification Report: \n",
      "             precision    recall  f1-score   support\n",
      "\n",
      "          0       0.93      0.98      0.95     10978\n",
      "          1       0.66      0.38      0.49      1379\n",
      "\n",
      "avg / total       0.90      0.91      0.90     12357\n",
      "\n",
      "----------------------------------------------------------------------------\n"
     ]
    },
    {
     "data": {
      "image/png": "[encoded data removed]",
      "text/plain": [
       "<matplotlib.figure.Figure at 0x7f56db81ef50>"
      ]
     },
     "metadata": {},
     "output_type": "display_data"
    }
   ],
   "source": [
    "model_metrics(X_test,y_test, pred_lr, model_lr)"
   ]
  },
  {
   "cell_type": "code",
   "execution_count": 468,
   "metadata": {
    "collapsed": true,
    "jupyter": {
     "outputs_hidden": true
    }
   },
   "outputs": [],
   "source": [
    "#Get the importance of each feature \n",
    "def feature_imp(obj):\n",
    "    print pd.DataFrame(obj.feature_importances_,index = Banco.drop('y', axis=1).columns, columns=['imp']).sort_values('imp', ascending = False)"
   ]
  },
  {
   "cell_type": "code",
   "execution_count": 469,
   "metadata": {},
   "outputs": [
    {
     "name": "stdout",
     "output_type": "stream",
     "text": [
      "                     imp\n",
      "duration        0.318308\n",
      "euribor3m       0.109813\n",
      "age             0.094466\n",
      "nr.employed     0.066805\n",
      "pdays           0.048765\n",
      "job             0.046629\n",
      "education       0.044428\n",
      "day_of_week     0.039977\n",
      "campaign        0.039871\n",
      "cons.conf.idx   0.031380\n",
      "cons.price.idx  0.029143\n",
      "marital         0.024690\n",
      "housing         0.019158\n",
      "poutcome        0.017385\n",
      "month           0.015425\n",
      "loan            0.014822\n",
      "default         0.010316\n",
      "contact         0.010231\n",
      "previous        0.009888\n",
      "emp.var.rate    0.008498\n"
     ]
    }
   ],
   "source": [
    "feature_imp(model_rf)"
   ]
  },
  {
   "cell_type": "markdown",
   "metadata": {},
   "source": [
    "> As mentioned in the dataset summary, __duration__ has the largest importance"
   ]
  },
  {
   "cell_type": "markdown",
   "metadata": {},
   "source": [
    "#### __Oversampling with SMOTE __\n",
    "\n",
    " The target variable is heavily skewed. We will perform SMOTE to oversample the training dataset. "
   ]
  },
  {
   "cell_type": "code",
   "execution_count": 470,
   "metadata": {
    "collapsed": true,
    "jupyter": {
     "outputs_hidden": true
    }
   },
   "outputs": [],
   "source": [
    "from imblearn.over_sampling import SMOTE"
   ]
  },
  {
   "cell_type": "code",
   "execution_count": 506,
   "metadata": {
    "collapsed": true,
    "jupyter": {
     "outputs_hidden": true
    }
   },
   "outputs": [],
   "source": [
    "#define the SMOTE object\n",
    "sm = SMOTE(random_state=101)"
   ]
  },
  {
   "cell_type": "code",
   "execution_count": 507,
   "metadata": {
    "collapsed": true,
    "jupyter": {
     "outputs_hidden": true
    }
   },
   "outputs": [],
   "source": [
    "#Fit the sample on the training dataset\n",
    "X_sm, y_sm = sm.fit_sample(X_train,y_train)"
   ]
  },
  {
   "cell_type": "code",
   "execution_count": 508,
   "metadata": {},
   "outputs": [
    {
     "data": {
      "text/plain": [
       "(array([[ 4.00000000e+01,  9.00000000e+00,  1.00000000e+00, ...,\n",
       "         -3.64000000e+01,  4.86000000e+00,  5.19100000e+03],\n",
       "        [ 2.50000000e+01,  3.00000000e+00,  2.00000000e+00, ...,\n",
       "         -4.27000000e+01,  4.96200000e+00,  5.22810000e+03],\n",
       "        [ 4.80000000e+01,  1.00000000e+00,  1.00000000e+00, ...,\n",
       "         -4.18000000e+01,  4.95900000e+00,  5.22810000e+03],\n",
       "        ...,\n",
       "        [ 2.95824629e+01,  0.00000000e+00,  2.00000000e+00, ...,\n",
       "         -4.63310541e+01,  1.33355271e+00,  5.09910000e+03],\n",
       "        [ 2.80949479e+01,  5.52526035e+00,  1.09494793e+00, ...,\n",
       "         -3.05462553e+01,  7.13543541e-01,  5.01666446e+03],\n",
       "        [ 6.08137480e+01,  4.96895800e+00,  1.00000000e+00, ...,\n",
       "         -3.14682924e+01,  8.66015492e-01,  5.07620000e+03]]),\n",
       " array([0, 0, 0, ..., 1, 1, 1], dtype=int8))"
      ]
     },
     "execution_count": 508,
     "metadata": {},
     "output_type": "execute_result"
    }
   ],
   "source": [
    "#Check the fitted sample\n",
    "X_sm, y_sm"
   ]
  },
  {
   "cell_type": "code",
   "execution_count": 498,
   "metadata": {},
   "outputs": [
    {
     "data": {
      "text/plain": [
       "((51140, 20), (51140,))"
      ]
     },
     "execution_count": 498,
     "metadata": {},
     "output_type": "execute_result"
    }
   ],
   "source": [
    "#Size of the training set after SMOTE\n",
    "X_sm.shape, y_sm.shape"
   ]
  },
  {
   "cell_type": "code",
   "execution_count": 497,
   "metadata": {},
   "outputs": [
    {
     "data": {
      "text/plain": [
       "25570"
      ]
     },
     "execution_count": 497,
     "metadata": {},
     "output_type": "execute_result"
    }
   ],
   "source": [
    "#Count of subscribers in Train set after SMOTE\n",
    "np.count_nonzero(y_sm == 1)"
   ]
  },
  {
   "cell_type": "markdown",
   "metadata": {},
   "source": [
    "#### __Logistic Regression with SMOTE on training dataset__"
   ]
  },
  {
   "cell_type": "code",
   "execution_count": 476,
   "metadata": {
    "collapsed": true,
    "jupyter": {
     "outputs_hidden": true
    }
   },
   "outputs": [],
   "source": [
    "#Define classifier\n",
    "lr_sm = LogisticRegression()"
   ]
  },
  {
   "cell_type": "code",
   "execution_count": 477,
   "metadata": {
    "collapsed": true,
    "jupyter": {
     "outputs_hidden": true
    }
   },
   "outputs": [],
   "source": [
    "#Fit the model on SMOTE modified training set\n",
    "model_lr_sm = lr_sm.fit(X_sm, y_sm)"
   ]
  },
  {
   "cell_type": "markdown",
   "metadata": {},
   "source": [
    "##### __kFold Cross Validation__"
   ]
  },
  {
   "cell_type": "markdown",
   "metadata": {},
   "source": [
    "Perform a kFold Cross validation on the model to see if the model is overfitting the data. Applying SMOTE can sometimes overfit the model."
   ]
  },
  {
   "cell_type": "code",
   "execution_count": 478,
   "metadata": {
    "collapsed": true,
    "jupyter": {
     "outputs_hidden": true
    }
   },
   "outputs": [],
   "source": [
    "from sklearn.model_selection import cross_val_score\n",
    "cvs_lr_sm = cross_val_score(model_lr_sm, X_sm, y_sm, cv=5, n_jobs=3).mean()"
   ]
  },
  {
   "cell_type": "code",
   "execution_count": 479,
   "metadata": {},
   "outputs": [
    {
     "name": "stdout",
     "output_type": "stream",
     "text": [
      "0.8637\n"
     ]
    }
   ],
   "source": [
    "print \"%0.4f\" % cvs_lr_sm"
   ]
  },
  {
   "cell_type": "markdown",
   "metadata": {},
   "source": [
    "> Validation accuracy is 86.37%"
   ]
  },
  {
   "cell_type": "code",
   "execution_count": 480,
   "metadata": {
    "collapsed": true,
    "jupyter": {
     "outputs_hidden": true
    }
   },
   "outputs": [],
   "source": [
    "#Prediction on the test set\n",
    "pred_lr_sm = model_lr_sm.predict(X_test)"
   ]
  },
  {
   "cell_type": "code",
   "execution_count": 505,
   "metadata": {},
   "outputs": [
    {
     "name": "stdout",
     "output_type": "stream",
     "text": [
      "Classifier: LogisticRegression(C=1.0, class_weight=None, dual=False, fit_intercept=True,\n",
      "          intercept_scaling=1, max_iter=100, multi_class='ovr', n_jobs=1,\n",
      "          penalty='l2', random_state=None, solver='liblinear', tol=0.0001,\n",
      "          verbose=0, warm_start=False)\n",
      "----------------------------------------------------------------------------\n",
      "Accuracy\t\t: 0.8555\n",
      "Sensitivity\t\t: 0.9811\n",
      "Specificity\t\t: 0.4276\n",
      "Matthews Corr. Coeff.\t: 0.5434\n",
      "----------------------------------------------------------------------------\n",
      "Confusion Matrix: \n",
      "[[9374 1604]\n",
      " [ 181 1198]]\n",
      "----------------------------------------------------------------------------\n",
      "Classification Report: \n",
      "             precision    recall  f1-score   support\n",
      "\n",
      "          0       0.98      0.85      0.91     10978\n",
      "          1       0.43      0.87      0.57      1379\n",
      "\n",
      "avg / total       0.92      0.86      0.88     12357\n",
      "\n",
      "----------------------------------------------------------------------------\n"
     ]
    },
    {
     "data": {
      "image/png": "[encoded data removed]",
      "text/plain": [
       "<matplotlib.figure.Figure at 0x7f56db6e11d0>"
      ]
     },
     "metadata": {},
     "output_type": "display_data"
    }
   ],
   "source": [
    "#Model Evaluation\n",
    "model_metrics(X_test,y_test, pred_lr_sm, model_lr_sm)"
   ]
  },
  {
   "cell_type": "markdown",
   "metadata": {},
   "source": [
    "#### __Random Forest Classifier__"
   ]
  },
  {
   "cell_type": "code",
   "execution_count": 463,
   "metadata": {
    "collapsed": true,
    "jupyter": {
     "outputs_hidden": true
    }
   },
   "outputs": [],
   "source": [
    "from sklearn.ensemble import RandomForestClassifier"
   ]
  },
  {
   "cell_type": "code",
   "execution_count": 493,
   "metadata": {
    "collapsed": true,
    "jupyter": {
     "outputs_hidden": true
    }
   },
   "outputs": [],
   "source": [
    "#Define the classifier - 100 trees\n",
    "rf = RandomForestClassifier(n_estimators=100, random_state=101)"
   ]
  },
  {
   "cell_type": "code",
   "execution_count": 494,
   "metadata": {
    "collapsed": true,
    "jupyter": {
     "outputs_hidden": true
    }
   },
   "outputs": [],
   "source": [
    "#Fit the model on training set\n",
    "model_rf = rf.fit(X_train, y_train)"
   ]
  },
  {
   "cell_type": "code",
   "execution_count": 495,
   "metadata": {
    "collapsed": true,
    "jupyter": {
     "outputs_hidden": true
    }
   },
   "outputs": [],
   "source": [
    "# Predict the outcome\n",
    "pred_rf = model_rf.predict(X_test)"
   ]
  },
  {
   "cell_type": "code",
   "execution_count": 504,
   "metadata": {},
   "outputs": [
    {
     "name": "stdout",
     "output_type": "stream",
     "text": [
      "Classifier: RandomForestClassifier(bootstrap=True, class_weight=None, criterion='gini',\n",
      "            max_depth=None, max_features='auto', max_leaf_nodes=None,\n",
      "            min_impurity_decrease=0.0, min_impurity_split=None,\n",
      "            min_samples_leaf=1, min_samples_split=2,\n",
      "            min_weight_fraction_leaf=0.0, n_estimators=100, n_jobs=1,\n",
      "            oob_score=False, random_state=101, verbose=0, warm_start=False)\n",
      "----------------------------------------------------------------------------\n",
      "Accuracy\t\t: 0.9137\n",
      "Sensitivity\t\t: 0.9391\n",
      "Specificity\t\t: 0.6455\n",
      "Matthews Corr. Coeff.\t: 0.5226\n",
      "----------------------------------------------------------------------------\n",
      "Confusion Matrix: \n",
      "[[10598   380]\n",
      " [  687   692]]\n",
      "----------------------------------------------------------------------------\n",
      "Classification Report: \n",
      "             precision    recall  f1-score   support\n",
      "\n",
      "          0       0.94      0.97      0.95     10978\n",
      "          1       0.65      0.50      0.56      1379\n",
      "\n",
      "avg / total       0.91      0.91      0.91     12357\n",
      "\n",
      "----------------------------------------------------------------------------\n"
     ]
    },
    {
     "data": {
      "image/png": "[encoded data removed]",
      "text/plain": [
       "<matplotlib.figure.Figure at 0x7f56db81e110>"
      ]
     },
     "metadata": {},
     "output_type": "display_data"
    }
   ],
   "source": [
    "#Model Evaluation\n",
    "model_metrics(X_test,y_test, pred_rf, model_rf)"
   ]
  },
  {
   "cell_type": "markdown",
   "metadata": {},
   "source": [
    "#### __XGBoost Classifier__"
   ]
  },
  {
   "cell_type": "code",
   "execution_count": 482,
   "metadata": {
    "collapsed": true,
    "jupyter": {
     "outputs_hidden": true
    }
   },
   "outputs": [],
   "source": [
    "from xgboost import XGBClassifier "
   ]
  },
  {
   "cell_type": "code",
   "execution_count": 483,
   "metadata": {
    "collapsed": true,
    "jupyter": {
     "outputs_hidden": true
    }
   },
   "outputs": [],
   "source": [
    "#MDefine classifier\n",
    "xgb = XGBClassifier(learning_rate=0.05, colsample_bylevel=1,colsample_bytree=0.8, max_depth=6, max_delta_step=0.9, n_estimators=300, scale_pos_weight=1, reg_lambda=0.1)"
   ]
  },
  {
   "cell_type": "code",
   "execution_count": 484,
   "metadata": {
    "collapsed": true,
    "jupyter": {
     "outputs_hidden": true
    }
   },
   "outputs": [],
   "source": [
    "#Fit the model on training set\n",
    "model_xgb = xgb.fit(X_train, y_train)"
   ]
  },
  {
   "cell_type": "code",
   "execution_count": 485,
   "metadata": {},
   "outputs": [
    {
     "name": "stderr",
     "output_type": "stream",
     "text": [
      "/usr/local/lib/python2.7/dist-packages/sklearn/preprocessing/label.py:151: DeprecationWarning: The truth value of an empty array is ambiguous. Returning False, but in future this will result in an error. Use `array.size > 0` to check that an array is not empty.\n",
      "  if diff:\n"
     ]
    }
   ],
   "source": [
    "#Predict the values for the test set\n",
    "pred_xgb = model_xgb.predict(X_test)"
   ]
  },
  {
   "cell_type": "code",
   "execution_count": 486,
   "metadata": {},
   "outputs": [
    {
     "name": "stdout",
     "output_type": "stream",
     "text": [
      "Classifier: XGBClassifier(base_score=0.5, colsample_bylevel=1, colsample_bytree=0.8,\n",
      "       gamma=0, learning_rate=0.05, max_delta_step=0.9, max_depth=6,\n",
      "       min_child_weight=1, missing=None, n_estimators=300, nthread=-1,\n",
      "       objective='binary:logistic', reg_alpha=0, reg_lambda=0.1,\n",
      "       scale_pos_weight=1, seed=0, silent=True, subsample=1)\n",
      "----------------------------------------------------------------------------\n",
      "Accuracy\t\t: 0.9168\n",
      "Sensitivity\t\t: 0.9447\n",
      "Specificity\t\t: 0.6501\n",
      "Matthews Corr. Coeff.\t: 0.5529\n",
      "----------------------------------------------------------------------------\n",
      "Confusion Matrix: \n",
      "[[10569   409]\n",
      " [  619   760]]\n",
      "----------------------------------------------------------------------------\n",
      "Classification Report: \n",
      "             precision    recall  f1-score   support\n",
      "\n",
      "          0       0.94      0.96      0.95     10978\n",
      "          1       0.65      0.55      0.60      1379\n",
      "\n",
      "avg / total       0.91      0.92      0.91     12357\n",
      "\n",
      "----------------------------------------------------------------------------\n"
     ]
    },
    {
     "data": {
      "image/png": "[encoded data removed]",
      "text/plain": [
       "<matplotlib.figure.Figure at 0x7f56dac4cf10>"
      ]
     },
     "metadata": {},
     "output_type": "display_data"
    }
   ],
   "source": [
    "#Model Evaluation\n",
    "model_metrics(X_test,y_test, pred_xgb, model_xgb)"
   ]
  },
  {
   "cell_type": "markdown",
   "metadata": {},
   "source": [
    "### __Summary__\n",
    "\n",
    "| Classifier | Accuracy | AUC |\n",
    "|------|------|------|------|\n",
    "| Logistic Regression  | 0.9091| 0.9250|\n",
    "| Logistic Regression + SMOTE | 0.8555| 0.9326|\n",
    "| Random Forest | 0.9137| 0.9399|\n",
    "| XGBoost | 0.9168| 0.9483|\n",
    "\n",
    "- Based on the table above we find that both in terms of *accuracy* and *Area Under the Curve (AUC)*, __XGBoost__ model performs well, followed closely by Random Forest.\n",
    "- Logistic Regression with SMOTE gives better AUC, however, performs worse when compared to Logistic regression in terms of accuracy. "
   ]
  },
  {
   "cell_type": "code",
   "execution_count": 1,
   "metadata": {
    "collapsed": true,
    "jupyter": {
     "outputs_hidden": true
    }
   },
   "outputs": [],
   "source": [
    "import tensorflow as tf\n",
    "import pandas as pd\n",
    "from sklearn.cross_validation import train_test_split\n",
    "\n",
    "FILE_PATH = 'C:/Users/campus/Downloads/TensorFlow_Tutorials/bank_normalised.csv'           # Path to .csv dataset\n",
    "raw_data = pd.read_csv(FILE_PATH)                  # Open raw .csv\n",
    "\n",
    "print(\"Raw data loaded successfully...\\n\")\n",
    "#------------------------------------------------------------------------------\n",
    "# Variables\n",
    "\n",
    "Y_LABEL = 'y'                                          # Name of the variable to be predicted\n",
    "KEYS = [i for i in raw_data.keys().tolist() if i != Y_LABEL]# Name of predictors\n",
    "N_INSTANCES = raw_data.shape[0]                        # Number of instances\n",
    "N_INPUT = raw_data.shape[1] - 1                        # Input size\n",
    "N_CLASSES = raw_data[Y_LABEL].unique().shape[0]        # Number of classes (output size)\n",
    "TEST_SIZE = 0.1                                          # Test set size (% of dataset)\n",
    "TRAIN_SIZE = int(N_INSTANCES * (1 - TEST_SIZE))         # Train size\n",
    "LEARNING_RATE = 0.001                                 # Learning rate\n",
    "TRAINING_EPOCHS = 4000                                   # Number of epochs\n",
    "BATCH_SIZE = 100                                        # Batch size\n",
    "DISPLAY_STEP = 20                                     # Display progress each x epochs\n",
    "HIDDEN_SIZE = 200                                     # Number of hidden neurons 256\n",
    "ACTIVATION_FUNCTION_OUT = tf.nn.tanh                          # Last layer act fct\n",
    "STDDEV = 0.1                                           # Standard deviation (for weights random init)\n",
    "RANDOM_STATE = 100\n",
    "print(\"Variables loaded successfully...\\n\")\n",
    "print(\"Number of predictors \\t%s\" %(N_INPUT))\n",
    "print(\"Number of classes \\t%s\" %(N_CLASSES))\n",
    "print(\"Number of instances \\t%s\" %(N_INSTANCES))\n",
    "print(\"\\n\")\n",
    "print(\"Metrics displayed:\\tPrecision\\n\")\n",
    "#------------------------------------------------------------------------------\n",
    "# Loading data\n",
    "\n",
    "# Load data\n",
    "X1 = raw_data[KEYS].get_values()                 # X data\n",
    "y = raw_data[Y_LABEL].get_values()              # y data\n",
    "\n",
    "X = raw_data.drop('y',axis=1).values\n",
    "print(type(X))\n",
    "print(type(X1))\n",
    "\n",
    "\n",
    "# One hot encoding for labels\n",
    "labels_ = np.zeros((N_INSTANCES, N_CLASSES))\n",
    "labels_[np.arange(N_INSTANCES), labels] = 1\n",
    "\n",
    "y = labels_\n",
    "\n",
    "# Train-test split\n",
    "X_train, X_test, y_train, y_test = train_test_split(X, y,test_size = TEST_SIZE,random_state = 101)\n",
    "\n",
    "print(\"Data loaded and splitted successfully...\\n\")\n",
    "#------------------------------------------------------------------------------\n",
    "# Neural net construction\n",
    "\n",
    "# Net params\n",
    "n_input = N_INPUT                   # input n labels\n",
    "n_hidden_1 = HIDDEN_SIZE            # 1st layer\n",
    "n_hidden_2 = HIDDEN_SIZE            # 2nd layer\n",
    "n_hidden_3 = HIDDEN_SIZE            # 3rd layer\n",
    "n_hidden_4 = HIDDEN_SIZE            # 4th layer\n",
    "n_classes = N_CLASSES               # output m classes\n",
    "\n",
    "# Tf placeholders\n",
    "X = tf.placeholder(tf.float32, [None, n_input])\n",
    "y = tf.placeholder(tf.float32, [None, n_classes])\n",
    "dropout_keep_prob = tf.placeholder(tf.float32)\n",
    "\n",
    "\n",
    "def mlp(_X, _weights, _biases, dropout_keep_prob):\n",
    "    layer1 = tf.nn.dropout(tf.nn.tanh(tf.add(tf.matmul(_X, _weights['h1']), _biases['b1'])), dropout_keep_prob)\n",
    "    layer2 = tf.nn.dropout(tf.nn.tanh(tf.add(tf.matmul(layer1, _weights['h2']), _biases['b2'])), dropout_keep_prob)\n",
    "    layer3 = tf.nn.dropout(tf.nn.tanh(tf.add(tf.matmul(layer2, _weights['h3']), _biases['b3'])), dropout_keep_prob)\n",
    "    layer4 = tf.nn.dropout(tf.nn.tanh(tf.add(tf.matmul(layer3, _weights['h4']), _biases['b4'])), dropout_keep_prob)\n",
    "    out = ACTIVATION_FUNCTION_OUT(tf.add(tf.matmul(layer4, _weights['out']), _biases['out']))\n",
    "    return out\n",
    "\n",
    "weights = {\n",
    "    'h1': tf.Variable(tf.random_normal([n_input, n_hidden_1],stddev=STDDEV)),\n",
    "    'h2': tf.Variable(tf.random_normal([n_hidden_1, n_hidden_2],stddev=STDDEV)),\n",
    "    'h3': tf.Variable(tf.random_normal([n_hidden_2, n_hidden_3],stddev=STDDEV)),\n",
    "    'h4': tf.Variable(tf.random_normal([n_hidden_3, n_hidden_4],stddev=STDDEV)),\n",
    "    'out': tf.Variable(tf.random_normal([n_hidden_4, n_classes],stddev=STDDEV)),                                   \n",
    "}\n",
    "\n",
    "biases = {\n",
    "    'b1': tf.Variable(tf.random_normal([n_hidden_1])),\n",
    "    'b2': tf.Variable(tf.random_normal([n_hidden_2])),\n",
    "    'b3': tf.Variable(tf.random_normal([n_hidden_3])),\n",
    "    'b4': tf.Variable(tf.random_normal([n_hidden_4])),\n",
    "    'out': tf.Variable(tf.random_normal([n_classes]))\n",
    "}\n",
    "\n",
    "# Build model\n",
    "pred = mlp(X, weights, biases, dropout_keep_prob)\n",
    "\n",
    "# Loss and optimizer\n",
    "cost = tf.reduce_mean(tf.nn.softmax_cross_entropy_with_logits(logits=pred,labels=y)) # softmax loss\n",
    "optimizer = tf.train.AdamOptimizer(learning_rate = LEARNING_RATE).minimize(cost)\n",
    "\n",
    "# Accuracy\n",
    "correct_prediction = tf.equal(tf.argmax(pred, 1), tf.argmax(y, 1))\n",
    "accuracy = tf.reduce_mean(tf.cast(correct_prediction, tf.float32))\n",
    "                                    \n",
    "print(\"Net built successfully...\\n\")\n",
    "print(\"Starting training...\\n\")\n",
    "#------------------------------------------------------------------------------\n",
    "# Training\n",
    "\n",
    "# Initialize variables\n",
    "init_all = tf.initialize_all_variables()\n",
    "\n",
    "# Launch session\n",
    "sess = tf.Session()\n",
    "sess.run(init_all)\n",
    "\n",
    "# Training loop\n",
    "for epoch in range(TRAINING_EPOCHS):\n",
    "    avg_cost = 0.\n",
    "    total_batch = int(data_train.shape[0] / BATCH_SIZE)\n",
    "    # Loop over all batches\n",
    "    for i in range(total_batch):\n",
    "        randidx = np.random.randint(int(TRAIN_SIZE), size = BATCH_SIZE)\n",
    "        batch_xs = X_train[randidx, :]\n",
    "        batch_ys = y_train[randidx, :]\n",
    "        #print(batch_xs.shape)\n",
    "        #print(batch_ys.shape)\n",
    "        # Fit using batched data\n",
    "        sess.run(optimizer, feed_dict={X: batch_xs, y: batch_ys, dropout_keep_prob: 0.9})\n",
    "        # Calculate average cost\n",
    "        avg_cost += sess.run(cost, feed_dict={X: batch_xs, y: batch_ys, dropout_keep_prob:1.})/total_batch\n",
    "    # Display progress\n",
    "    if epoch % DISPLAY_STEP == 0:\n",
    "        print (\"Epoch: %04d/%04d cost: %.9f\" % (epoch, TRAINING_EPOCHS, avg_cost))\n",
    "        train_acc = sess.run(accuracy, feed_dict={X: batch_xs, y: batch_ys, dropout_keep_prob:1.})\n",
    "        print (\"Training accuracy: %.3f\" % (train_acc))\n",
    "\n",
    "\n",
    "print (\"End of training.\\n\")\n",
    "print(\"Testing...\\n\")\n",
    "#------------------------------------------------------------------------------\n",
    "# Testing\n",
    "\n",
    "test_acc = sess.run(accuracy, feed_dict={X: data_test, y: labels_test, dropout_keep_prob:1.})\n",
    "print (\"Test accuracy: %.3f\" % (test_acc))\n",
    "\n",
    "sess.close()\n",
    "print(\"Session closed!\")"
   ]
  },
  {
   "cell_type": "code",
   "execution_count": 3,
   "metadata": {},
   "outputs": [
    {
     "data": {
      "text/plain": [
       "3"
      ]
     },
     "execution_count": 3,
     "metadata": {},
     "output_type": "execute_result"
    }
   ],
   "source": [
    "a"
   ]
  },
  {
   "cell_type": "code",
   "execution_count": null,
   "metadata": {
    "collapsed": true,
    "jupyter": {
     "outputs_hidden": true
    }
   },
   "outputs": [],
   "source": []
  }
 ],
 "metadata": {
  "kernelspec": {
   "display_name": "Python 3",
   "language": "python",
   "name": "python3"
  },
  "language_info": {
   "codemirror_mode": {
    "name": "ipython",
    "version": 3
   },
   "file_extension": ".py",
   "mimetype": "text/x-python",
   "name": "python",
   "nbconvert_exporter": "python",
   "pygments_lexer": "ipython3",
   "version": "3.7.4"
  }
 },
 "nbformat": 4,
 "nbformat_minor": 4
}
