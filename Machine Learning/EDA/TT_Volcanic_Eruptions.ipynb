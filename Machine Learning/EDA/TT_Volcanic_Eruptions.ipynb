{
 "cells": [
  {
   "cell_type": "code",
   "execution_count": 1,
   "metadata": {},
   "outputs": [],
   "source": [
    "from datetime import datetime\n",
    "import pandas as pd\n",
    "import numpy as np\n",
    "import matplotlib.pyplot as plt\n",
    "import seaborn as sns\n",
    "import matplotlib.style as style\n",
    "import warnings"
   ]
  },
  {
   "cell_type": "code",
   "execution_count": 2,
   "metadata": {},
   "outputs": [],
   "source": [
    "volcano = pd.read_csv('https://raw.githubusercontent.com/rfordatascience/tidytuesday/master/data/2020/2020-05-12/volcano.csv')\n",
    "eruptions = pd.read_csv('https://raw.githubusercontent.com/rfordatascience/tidytuesday/master/data/2020/2020-05-12/eruptions.csv')\n",
    "events = pd.read_csv('https://raw.githubusercontent.com/rfordatascience/tidytuesday/master/data/2020/2020-05-12/events.csv')\n",
    "tree_rings = pd.read_csv('https://raw.githubusercontent.com/rfordatascience/tidytuesday/master/data/2020/2020-05-12/tree_rings.csv')\n",
    "sulfur = pd.read_csv('https://raw.githubusercontent.com/rfordatascience/tidytuesday/master/data/2020/2020-05-12/sulfur.csv')\n",
    "\n",
    "# Or read in with tidytuesdayR package (https://github.com"
   ]
  },
  {
   "cell_type": "code",
   "execution_count": 7,
   "metadata": {},
   "outputs": [],
   "source": [
    "volcano.to_csv(r\"C:\\Users\\sanjiv\\Documents\\Datasets\\TidyTuesday\\VolcanoEruptions\\volcano.csv\")\n",
    "eruptions.to_csv(r\"C:\\Users\\sanjiv\\Documents\\Datasets\\TidyTuesday\\VolcanoEruptions\\eruptions.csv\")\n",
    "events.to_csv(r\"C:\\Users\\sanjiv\\Documents\\Datasets\\TidyTuesday\\VolcanoEruptions\\events.csv\")\n",
    "tree_rings.to_csv(r\"C:\\Users\\sanjiv\\Documents\\Datasets\\TidyTuesday\\VolcanoEruptions\\tree_rings.csv\")\n",
    "sulfur.to_csv(r\"C:\\Users\\sanjiv\\Documents\\Datasets\\TidyTuesday\\VolcanoEruptions\\sulfur.csv\")"
   ]
  },
  {
   "cell_type": "code",
   "execution_count": 5,
   "metadata": {},
   "outputs": [
    {
     "data": {
      "text/html": [
       "<div>\n",
       "<style scoped>\n",
       "    .dataframe tbody tr th:only-of-type {\n",
       "        vertical-align: middle;\n",
       "    }\n",
       "\n",
       "    .dataframe tbody tr th {\n",
       "        vertical-align: top;\n",
       "    }\n",
       "\n",
       "    .dataframe thead th {\n",
       "        text-align: right;\n",
       "    }\n",
       "</style>\n",
       "<table border=\"1\" class=\"dataframe\">\n",
       "  <thead>\n",
       "    <tr style=\"text-align: right;\">\n",
       "      <th></th>\n",
       "      <th>volcano_number</th>\n",
       "      <th>volcano_name</th>\n",
       "      <th>eruption_number</th>\n",
       "      <th>eruption_category</th>\n",
       "      <th>area_of_activity</th>\n",
       "      <th>vei</th>\n",
       "      <th>start_year</th>\n",
       "      <th>start_month</th>\n",
       "      <th>start_day</th>\n",
       "      <th>evidence_method_dating</th>\n",
       "      <th>end_year</th>\n",
       "      <th>end_month</th>\n",
       "      <th>end_day</th>\n",
       "      <th>latitude</th>\n",
       "      <th>longitude</th>\n",
       "    </tr>\n",
       "  </thead>\n",
       "  <tbody>\n",
       "    <tr>\n",
       "      <td>0</td>\n",
       "      <td>266030</td>\n",
       "      <td>Soputan</td>\n",
       "      <td>22354</td>\n",
       "      <td>Confirmed Eruption</td>\n",
       "      <td>NaN</td>\n",
       "      <td>NaN</td>\n",
       "      <td>2020.0</td>\n",
       "      <td>3.0</td>\n",
       "      <td>23.0</td>\n",
       "      <td>Historical Observations</td>\n",
       "      <td>2020.0</td>\n",
       "      <td>4.0</td>\n",
       "      <td>2.0</td>\n",
       "      <td>1.112</td>\n",
       "      <td>124.737</td>\n",
       "    </tr>\n",
       "    <tr>\n",
       "      <td>1</td>\n",
       "      <td>343100</td>\n",
       "      <td>San Miguel</td>\n",
       "      <td>22355</td>\n",
       "      <td>Confirmed Eruption</td>\n",
       "      <td>NaN</td>\n",
       "      <td>NaN</td>\n",
       "      <td>2020.0</td>\n",
       "      <td>2.0</td>\n",
       "      <td>22.0</td>\n",
       "      <td>Historical Observations</td>\n",
       "      <td>2020.0</td>\n",
       "      <td>2.0</td>\n",
       "      <td>22.0</td>\n",
       "      <td>13.434</td>\n",
       "      <td>-88.269</td>\n",
       "    </tr>\n",
       "    <tr>\n",
       "      <td>2</td>\n",
       "      <td>233020</td>\n",
       "      <td>Fournaise, Piton de la</td>\n",
       "      <td>22343</td>\n",
       "      <td>Confirmed Eruption</td>\n",
       "      <td>NaN</td>\n",
       "      <td>NaN</td>\n",
       "      <td>2020.0</td>\n",
       "      <td>2.0</td>\n",
       "      <td>10.0</td>\n",
       "      <td>Historical Observations</td>\n",
       "      <td>2020.0</td>\n",
       "      <td>4.0</td>\n",
       "      <td>6.0</td>\n",
       "      <td>-21.244</td>\n",
       "      <td>55.708</td>\n",
       "    </tr>\n",
       "    <tr>\n",
       "      <td>3</td>\n",
       "      <td>345020</td>\n",
       "      <td>Rincon de la Vieja</td>\n",
       "      <td>22346</td>\n",
       "      <td>Confirmed Eruption</td>\n",
       "      <td>NaN</td>\n",
       "      <td>NaN</td>\n",
       "      <td>2020.0</td>\n",
       "      <td>1.0</td>\n",
       "      <td>31.0</td>\n",
       "      <td>Historical Observations</td>\n",
       "      <td>2020.0</td>\n",
       "      <td>4.0</td>\n",
       "      <td>17.0</td>\n",
       "      <td>10.830</td>\n",
       "      <td>-85.324</td>\n",
       "    </tr>\n",
       "    <tr>\n",
       "      <td>4</td>\n",
       "      <td>353010</td>\n",
       "      <td>Fernandina</td>\n",
       "      <td>22347</td>\n",
       "      <td>Confirmed Eruption</td>\n",
       "      <td>NaN</td>\n",
       "      <td>NaN</td>\n",
       "      <td>2020.0</td>\n",
       "      <td>1.0</td>\n",
       "      <td>12.0</td>\n",
       "      <td>Historical Observations</td>\n",
       "      <td>2020.0</td>\n",
       "      <td>1.0</td>\n",
       "      <td>12.0</td>\n",
       "      <td>-0.370</td>\n",
       "      <td>-91.550</td>\n",
       "    </tr>\n",
       "  </tbody>\n",
       "</table>\n",
       "</div>"
      ],
      "text/plain": [
       "   volcano_number            volcano_name  eruption_number  \\\n",
       "0          266030                 Soputan            22354   \n",
       "1          343100              San Miguel            22355   \n",
       "2          233020  Fournaise, Piton de la            22343   \n",
       "3          345020      Rincon de la Vieja            22346   \n",
       "4          353010              Fernandina            22347   \n",
       "\n",
       "    eruption_category area_of_activity  vei  start_year  start_month  \\\n",
       "0  Confirmed Eruption              NaN  NaN      2020.0          3.0   \n",
       "1  Confirmed Eruption              NaN  NaN      2020.0          2.0   \n",
       "2  Confirmed Eruption              NaN  NaN      2020.0          2.0   \n",
       "3  Confirmed Eruption              NaN  NaN      2020.0          1.0   \n",
       "4  Confirmed Eruption              NaN  NaN      2020.0          1.0   \n",
       "\n",
       "   start_day   evidence_method_dating  end_year  end_month  end_day  latitude  \\\n",
       "0       23.0  Historical Observations    2020.0        4.0      2.0     1.112   \n",
       "1       22.0  Historical Observations    2020.0        2.0     22.0    13.434   \n",
       "2       10.0  Historical Observations    2020.0        4.0      6.0   -21.244   \n",
       "3       31.0  Historical Observations    2020.0        4.0     17.0    10.830   \n",
       "4       12.0  Historical Observations    2020.0        1.0     12.0    -0.370   \n",
       "\n",
       "   longitude  \n",
       "0    124.737  \n",
       "1    -88.269  \n",
       "2     55.708  \n",
       "3    -85.324  \n",
       "4    -91.550  "
      ]
     },
     "execution_count": 5,
     "metadata": {},
     "output_type": "execute_result"
    }
   ],
   "source": [
    "eruptions.head()"
   ]
  },
  {
   "cell_type": "code",
   "execution_count": 6,
   "metadata": {},
   "outputs": [
    {
     "data": {
      "text/html": [
       "<div>\n",
       "<style scoped>\n",
       "    .dataframe tbody tr th:only-of-type {\n",
       "        vertical-align: middle;\n",
       "    }\n",
       "\n",
       "    .dataframe tbody tr th {\n",
       "        vertical-align: top;\n",
       "    }\n",
       "\n",
       "    .dataframe thead th {\n",
       "        text-align: right;\n",
       "    }\n",
       "</style>\n",
       "<table border=\"1\" class=\"dataframe\">\n",
       "  <thead>\n",
       "    <tr style=\"text-align: right;\">\n",
       "      <th></th>\n",
       "      <th>volcano_number</th>\n",
       "      <th>volcano_name</th>\n",
       "      <th>eruption_number</th>\n",
       "      <th>eruption_start_year</th>\n",
       "      <th>event_number</th>\n",
       "      <th>event_type</th>\n",
       "      <th>event_remarks</th>\n",
       "      <th>event_date_year</th>\n",
       "      <th>event_date_month</th>\n",
       "      <th>event_date_day</th>\n",
       "    </tr>\n",
       "  </thead>\n",
       "  <tbody>\n",
       "    <tr>\n",
       "      <td>0</td>\n",
       "      <td>210020</td>\n",
       "      <td>Chaine des Puys</td>\n",
       "      <td>10011</td>\n",
       "      <td>-4040</td>\n",
       "      <td>100001</td>\n",
       "      <td>Explosion</td>\n",
       "      <td>NaN</td>\n",
       "      <td>NaN</td>\n",
       "      <td>NaN</td>\n",
       "      <td>NaN</td>\n",
       "    </tr>\n",
       "    <tr>\n",
       "      <td>1</td>\n",
       "      <td>210020</td>\n",
       "      <td>Chaine des Puys</td>\n",
       "      <td>10011</td>\n",
       "      <td>-4040</td>\n",
       "      <td>100002</td>\n",
       "      <td>Scoria</td>\n",
       "      <td>NaN</td>\n",
       "      <td>NaN</td>\n",
       "      <td>NaN</td>\n",
       "      <td>NaN</td>\n",
       "    </tr>\n",
       "    <tr>\n",
       "      <td>2</td>\n",
       "      <td>210020</td>\n",
       "      <td>Chaine des Puys</td>\n",
       "      <td>10011</td>\n",
       "      <td>-4040</td>\n",
       "      <td>100003</td>\n",
       "      <td>Pyroclastic flow</td>\n",
       "      <td>NaN</td>\n",
       "      <td>NaN</td>\n",
       "      <td>NaN</td>\n",
       "      <td>NaN</td>\n",
       "    </tr>\n",
       "    <tr>\n",
       "      <td>3</td>\n",
       "      <td>210020</td>\n",
       "      <td>Chaine des Puys</td>\n",
       "      <td>10011</td>\n",
       "      <td>-4040</td>\n",
       "      <td>100004</td>\n",
       "      <td>Lava flow(s)</td>\n",
       "      <td>NaN</td>\n",
       "      <td>NaN</td>\n",
       "      <td>NaN</td>\n",
       "      <td>NaN</td>\n",
       "    </tr>\n",
       "    <tr>\n",
       "      <td>4</td>\n",
       "      <td>210020</td>\n",
       "      <td>Chaine des Puys</td>\n",
       "      <td>10011</td>\n",
       "      <td>-4040</td>\n",
       "      <td>100005</td>\n",
       "      <td>Cinder cone formation</td>\n",
       "      <td>NaN</td>\n",
       "      <td>NaN</td>\n",
       "      <td>NaN</td>\n",
       "      <td>NaN</td>\n",
       "    </tr>\n",
       "  </tbody>\n",
       "</table>\n",
       "</div>"
      ],
      "text/plain": [
       "   volcano_number     volcano_name  eruption_number  eruption_start_year  \\\n",
       "0          210020  Chaine des Puys            10011                -4040   \n",
       "1          210020  Chaine des Puys            10011                -4040   \n",
       "2          210020  Chaine des Puys            10011                -4040   \n",
       "3          210020  Chaine des Puys            10011                -4040   \n",
       "4          210020  Chaine des Puys            10011                -4040   \n",
       "\n",
       "   event_number             event_type event_remarks  event_date_year  \\\n",
       "0        100001              Explosion           NaN              NaN   \n",
       "1        100002                 Scoria           NaN              NaN   \n",
       "2        100003       Pyroclastic flow           NaN              NaN   \n",
       "3        100004           Lava flow(s)           NaN              NaN   \n",
       "4        100005  Cinder cone formation           NaN              NaN   \n",
       "\n",
       "   event_date_month  event_date_day  \n",
       "0               NaN             NaN  \n",
       "1               NaN             NaN  \n",
       "2               NaN             NaN  \n",
       "3               NaN             NaN  \n",
       "4               NaN             NaN  "
      ]
     },
     "execution_count": 6,
     "metadata": {},
     "output_type": "execute_result"
    }
   ],
   "source": [
    "events.head()"
   ]
  },
  {
   "cell_type": "code",
   "execution_count": 1,
   "metadata": {},
   "outputs": [
    {
     "name": "stdout",
     "output_type": "stream",
     "text": [
      "[3, 5, 4, 3]\n"
     ]
    }
   ],
   "source": [
    "a = [3, 5, 4, 2 , 3]\n",
    "a.pop(3)\n",
    "print(a)"
   ]
  },
  {
   "cell_type": "code",
   "execution_count": 2,
   "metadata": {},
   "outputs": [],
   "source": [
    "a.remove(3)"
   ]
  },
  {
   "cell_type": "code",
   "execution_count": 3,
   "metadata": {},
   "outputs": [
    {
     "name": "stdout",
     "output_type": "stream",
     "text": [
      "[5, 4, 3]\n"
     ]
    }
   ],
   "source": [
    "print(a)"
   ]
  },
  {
   "cell_type": "code",
   "execution_count": 5,
   "metadata": {},
   "outputs": [
    {
     "data": {
      "text/plain": [
       "5"
      ]
     },
     "execution_count": 5,
     "metadata": {},
     "output_type": "execute_result"
    }
   ],
   "source": [
    "4^7^18^16^4\n"
   ]
  },
  {
   "cell_type": "code",
   "execution_count": 1,
   "metadata": {},
   "outputs": [
    {
     "ename": "TypeError",
     "evalue": "__init__() takes 1 positional argument but 2 were given",
     "output_type": "error",
     "traceback": [
      "\u001b[1;31m---------------------------------------------------------------------------\u001b[0m",
      "\u001b[1;31mTypeError\u001b[0m                                 Traceback (most recent call last)",
      "\u001b[1;32m<ipython-input-1-6ecf09499ce2>\u001b[0m in \u001b[0;36m<module>\u001b[1;34m\u001b[0m\n\u001b[0;32m      6\u001b[0m         \u001b[1;32mpass\u001b[0m\u001b[1;33m\u001b[0m\u001b[1;33m\u001b[0m\u001b[0m\n\u001b[0;32m      7\u001b[0m \u001b[1;33m\u001b[0m\u001b[0m\n\u001b[1;32m----> 8\u001b[1;33m \u001b[0ma\u001b[0m \u001b[1;33m=\u001b[0m \u001b[0mA\u001b[0m\u001b[1;33m(\u001b[0m\u001b[1;34m'John'\u001b[0m\u001b[1;33m)\u001b[0m\u001b[1;33m\u001b[0m\u001b[1;33m\u001b[0m\u001b[0m\n\u001b[0m\u001b[0;32m      9\u001b[0m \u001b[0ma\u001b[0m\u001b[1;33m.\u001b[0m\u001b[0mprint\u001b[0m\u001b[1;33m(\u001b[0m\u001b[1;33m)\u001b[0m\u001b[1;33m\u001b[0m\u001b[1;33m\u001b[0m\u001b[0m\n\u001b[0;32m     10\u001b[0m \u001b[1;33m\u001b[0m\u001b[0m\n",
      "\u001b[1;31mTypeError\u001b[0m: __init__() takes 1 positional argument but 2 were given"
     ]
    }
   ],
   "source": [
    "class A:\n",
    "    def __init__(s):\n",
    "        self.s = s\n",
    "        \n",
    "    def print():\n",
    "        pass\n",
    "    \n",
    "a = A('John')\n",
    "a.print()\n",
    "    "
   ]
  },
  {
   "cell_type": "code",
   "execution_count": null,
   "metadata": {},
   "outputs": [],
   "source": []
  }
 ],
 "metadata": {
  "kernelspec": {
   "display_name": "Python 3",
   "language": "python",
   "name": "python3"
  },
  "language_info": {
   "codemirror_mode": {
    "name": "ipython",
    "version": 3
   },
   "file_extension": ".py",
   "mimetype": "text/x-python",
   "name": "python",
   "nbconvert_exporter": "python",
   "pygments_lexer": "ipython3",
   "version": "3.7.4"
  }
 },
 "nbformat": 4,
 "nbformat_minor": 4
}
