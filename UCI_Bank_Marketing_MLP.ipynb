{
 "cells": [
  {
   "cell_type": "markdown",
   "metadata": {},
   "source": [
    "## UCI_Bank_Marketing Dataset - Classification problem\n",
    "### Multi-layer Perceptron approach"
   ]
  },
  {
   "cell_type": "markdown",
   "metadata": {},
   "source": [
    "### Libraries"
   ]
  },
  {
   "cell_type": "code",
   "execution_count": 210,
   "metadata": {
    "collapsed": true
   },
   "outputs": [],
   "source": [
    "import tensorflow as tf\n",
    "import pandas as pd\n",
    "from sklearn.cross_validation import train_test_split\n",
    "from sklearn.preprocessing import MinMaxScaler"
   ]
  },
  {
   "cell_type": "markdown",
   "metadata": {},
   "source": [
    "### Load the dataset"
   ]
  },
  {
   "cell_type": "code",
   "execution_count": 211,
   "metadata": {},
   "outputs": [],
   "source": [
    "#Read the dataset\n",
    "Banco = pd.read_csv('C:/Users/campus/Downloads/TensorFlow_Tutorials/bank-additional-full.csv', sep=';')"
   ]
  },
  {
   "cell_type": "code",
   "execution_count": 212,
   "metadata": {},
   "outputs": [],
   "source": [
    "#Replace the 'yes' and 'no' in the target variable to 'Subscriber' and 'non-subscriber'\n",
    "#Doing so will help us during the train-test split phase\n",
    "Banco['y'].replace('yes','Subscriber', inplace=True)\n",
    "Banco['y'].replace('no', 'Non-subscriber', inplace=True)"
   ]
  },
  {
   "cell_type": "code",
   "execution_count": 213,
   "metadata": {
    "collapsed": true
   },
   "outputs": [],
   "source": [
    "#Create two seperate dataframes - categorial and numeric\n",
    "Banco_cat = Banco.select_dtypes(exclude=[np.number])\n",
    "Banco_num = Banco.select_dtypes(include=[np.number])"
   ]
  },
  {
   "cell_type": "markdown",
   "metadata": {},
   "source": [
    "### Scale the variables"
   ]
  },
  {
   "cell_type": "code",
   "execution_count": 214,
   "metadata": {
    "collapsed": true
   },
   "outputs": [],
   "source": [
    "#Scale the numerical variables\n",
    "min_max_scaler = MinMaxScaler()\n",
    "\n",
    "Banco_num = pd.DataFrame(min_max_scaler.fit_transform(Banco_num), columns=Banco_num.columns)"
   ]
  },
  {
   "cell_type": "code",
   "execution_count": 215,
   "metadata": {
    "collapsed": true
   },
   "outputs": [],
   "source": [
    "Banco_mod = Banco_num"
   ]
  },
  {
   "cell_type": "markdown",
   "metadata": {},
   "source": [
    "### Get dummies - categorical variables"
   ]
  },
  {
   "cell_type": "code",
   "execution_count": 216,
   "metadata": {},
   "outputs": [],
   "source": [
    "#Get dummies for all categorical variables and concatenate the dataframes\n",
    "for col in Banco_cat.columns:\n",
    "        Banco_mod = pd.concat([Banco_mod,pd.get_dummies(Banco_cat[col])], axis=1)"
   ]
  },
  {
   "cell_type": "code",
   "execution_count": 217,
   "metadata": {},
   "outputs": [
    {
     "data": {
      "text/html": [
       "<div>\n",
       "<style>\n",
       "    .dataframe thead tr:only-child th {\n",
       "        text-align: right;\n",
       "    }\n",
       "\n",
       "    .dataframe thead th {\n",
       "        text-align: left;\n",
       "    }\n",
       "\n",
       "    .dataframe tbody tr th {\n",
       "        vertical-align: top;\n",
       "    }\n",
       "</style>\n",
       "<table border=\"1\" class=\"dataframe\">\n",
       "  <thead>\n",
       "    <tr style=\"text-align: right;\">\n",
       "      <th></th>\n",
       "      <th>age</th>\n",
       "      <th>duration</th>\n",
       "      <th>campaign</th>\n",
       "      <th>pdays</th>\n",
       "      <th>previous</th>\n",
       "      <th>emp.var.rate</th>\n",
       "      <th>cons.price.idx</th>\n",
       "      <th>cons.conf.idx</th>\n",
       "      <th>euribor3m</th>\n",
       "      <th>nr.employed</th>\n",
       "      <th>...</th>\n",
       "      <th>fri</th>\n",
       "      <th>mon</th>\n",
       "      <th>thu</th>\n",
       "      <th>tue</th>\n",
       "      <th>wed</th>\n",
       "      <th>failure</th>\n",
       "      <th>nonexistent</th>\n",
       "      <th>success</th>\n",
       "      <th>Non-subscriber</th>\n",
       "      <th>Subscriber</th>\n",
       "    </tr>\n",
       "  </thead>\n",
       "  <tbody>\n",
       "    <tr>\n",
       "      <th>0</th>\n",
       "      <td>0.481481</td>\n",
       "      <td>0.053070</td>\n",
       "      <td>0.0</td>\n",
       "      <td>1.0</td>\n",
       "      <td>0.0</td>\n",
       "      <td>0.9375</td>\n",
       "      <td>0.698753</td>\n",
       "      <td>0.60251</td>\n",
       "      <td>0.957379</td>\n",
       "      <td>0.859735</td>\n",
       "      <td>...</td>\n",
       "      <td>0</td>\n",
       "      <td>1</td>\n",
       "      <td>0</td>\n",
       "      <td>0</td>\n",
       "      <td>0</td>\n",
       "      <td>0</td>\n",
       "      <td>1</td>\n",
       "      <td>0</td>\n",
       "      <td>1</td>\n",
       "      <td>0</td>\n",
       "    </tr>\n",
       "    <tr>\n",
       "      <th>1</th>\n",
       "      <td>0.493827</td>\n",
       "      <td>0.030297</td>\n",
       "      <td>0.0</td>\n",
       "      <td>1.0</td>\n",
       "      <td>0.0</td>\n",
       "      <td>0.9375</td>\n",
       "      <td>0.698753</td>\n",
       "      <td>0.60251</td>\n",
       "      <td>0.957379</td>\n",
       "      <td>0.859735</td>\n",
       "      <td>...</td>\n",
       "      <td>0</td>\n",
       "      <td>1</td>\n",
       "      <td>0</td>\n",
       "      <td>0</td>\n",
       "      <td>0</td>\n",
       "      <td>0</td>\n",
       "      <td>1</td>\n",
       "      <td>0</td>\n",
       "      <td>1</td>\n",
       "      <td>0</td>\n",
       "    </tr>\n",
       "  </tbody>\n",
       "</table>\n",
       "<p>2 rows × 65 columns</p>\n",
       "</div>"
      ],
      "text/plain": [
       "        age  duration  campaign  pdays  previous  emp.var.rate  \\\n",
       "0  0.481481  0.053070       0.0    1.0       0.0        0.9375   \n",
       "1  0.493827  0.030297       0.0    1.0       0.0        0.9375   \n",
       "\n",
       "   cons.price.idx  cons.conf.idx  euribor3m  nr.employed     ...      fri  \\\n",
       "0        0.698753        0.60251   0.957379     0.859735     ...        0   \n",
       "1        0.698753        0.60251   0.957379     0.859735     ...        0   \n",
       "\n",
       "   mon  thu  tue  wed  failure  nonexistent  success  Non-subscriber  \\\n",
       "0    1    0    0    0        0            1        0               1   \n",
       "1    1    0    0    0        0            1        0               1   \n",
       "\n",
       "   Subscriber  \n",
       "0           0  \n",
       "1           0  \n",
       "\n",
       "[2 rows x 65 columns]"
      ]
     },
     "execution_count": 217,
     "metadata": {},
     "output_type": "execute_result"
    }
   ],
   "source": [
    "#Check the concatenated dataframe\n",
    "Banco_mod.head(2)"
   ]
  },
  {
   "cell_type": "code",
   "execution_count": 218,
   "metadata": {},
   "outputs": [
    {
     "name": "stdout",
     "output_type": "stream",
     "text": [
      "<class 'pandas.core.frame.DataFrame'>\n",
      "RangeIndex: 41188 entries, 0 to 41187\n",
      "Data columns (total 65 columns):\n",
      "age                    41188 non-null float64\n",
      "duration               41188 non-null float64\n",
      "campaign               41188 non-null float64\n",
      "pdays                  41188 non-null float64\n",
      "previous               41188 non-null float64\n",
      "emp.var.rate           41188 non-null float64\n",
      "cons.price.idx         41188 non-null float64\n",
      "cons.conf.idx          41188 non-null float64\n",
      "euribor3m              41188 non-null float64\n",
      "nr.employed            41188 non-null float64\n",
      "admin.                 41188 non-null uint8\n",
      "blue-collar            41188 non-null uint8\n",
      "entrepreneur           41188 non-null uint8\n",
      "housemaid              41188 non-null uint8\n",
      "management             41188 non-null uint8\n",
      "retired                41188 non-null uint8\n",
      "self-employed          41188 non-null uint8\n",
      "services               41188 non-null uint8\n",
      "student                41188 non-null uint8\n",
      "technician             41188 non-null uint8\n",
      "unemployed             41188 non-null uint8\n",
      "unknown                41188 non-null uint8\n",
      "divorced               41188 non-null uint8\n",
      "married                41188 non-null uint8\n",
      "single                 41188 non-null uint8\n",
      "unknown                41188 non-null uint8\n",
      "basic.4y               41188 non-null uint8\n",
      "basic.6y               41188 non-null uint8\n",
      "basic.9y               41188 non-null uint8\n",
      "high.school            41188 non-null uint8\n",
      "illiterate             41188 non-null uint8\n",
      "professional.course    41188 non-null uint8\n",
      "university.degree      41188 non-null uint8\n",
      "unknown                41188 non-null uint8\n",
      "no                     41188 non-null uint8\n",
      "unknown                41188 non-null uint8\n",
      "yes                    41188 non-null uint8\n",
      "no                     41188 non-null uint8\n",
      "unknown                41188 non-null uint8\n",
      "yes                    41188 non-null uint8\n",
      "no                     41188 non-null uint8\n",
      "unknown                41188 non-null uint8\n",
      "yes                    41188 non-null uint8\n",
      "cellular               41188 non-null uint8\n",
      "telephone              41188 non-null uint8\n",
      "apr                    41188 non-null uint8\n",
      "aug                    41188 non-null uint8\n",
      "dec                    41188 non-null uint8\n",
      "jul                    41188 non-null uint8\n",
      "jun                    41188 non-null uint8\n",
      "mar                    41188 non-null uint8\n",
      "may                    41188 non-null uint8\n",
      "nov                    41188 non-null uint8\n",
      "oct                    41188 non-null uint8\n",
      "sep                    41188 non-null uint8\n",
      "fri                    41188 non-null uint8\n",
      "mon                    41188 non-null uint8\n",
      "thu                    41188 non-null uint8\n",
      "tue                    41188 non-null uint8\n",
      "wed                    41188 non-null uint8\n",
      "failure                41188 non-null uint8\n",
      "nonexistent            41188 non-null uint8\n",
      "success                41188 non-null uint8\n",
      "Non-subscriber         41188 non-null uint8\n",
      "Subscriber             41188 non-null uint8\n",
      "dtypes: float64(10), uint8(55)\n",
      "memory usage: 5.3 MB\n"
     ]
    }
   ],
   "source": [
    "Banco_mod.info()"
   ]
  },
  {
   "cell_type": "markdown",
   "metadata": {},
   "source": [
    "### Train-test split"
   ]
  },
  {
   "cell_type": "code",
   "execution_count": 219,
   "metadata": {},
   "outputs": [],
   "source": [
    "# Get X and y data - Drop the one hot encoded target classes from X\n",
    "# Get the values of X and y as numpy arrays instead of pandas series\n",
    "X = Banco_mod.drop(['Subscriber','Non-subscriber'],axis=1).values\n",
    "y = Banco_mod[['Subscriber', 'Non-subscriber']].values           "
   ]
  },
  {
   "cell_type": "code",
   "execution_count": 220,
   "metadata": {
    "collapsed": true
   },
   "outputs": [],
   "source": [
    "# Train-test split - Considering 90:10 ratio for train and test respectively\n",
    "X_train, X_test, y_train, y_test = train_test_split(X, y, test_size= 0.1,random_state = 101)"
   ]
  },
  {
   "cell_type": "markdown",
   "metadata": {},
   "source": [
    "### Neural Network "
   ]
  },
  {
   "cell_type": "code",
   "execution_count": 221,
   "metadata": {
    "collapsed": true
   },
   "outputs": [],
   "source": [
    "# Network parameters\n",
    "# randomly assign neurons in each layer\n",
    "n_input = Banco_mod.shape[1] - 2   # Input size (There are only 63 input variables)\n",
    "n_hidden_1 = 100                   # 1st layer\n",
    "n_hidden_2 = 200                   # 2nd layer\n",
    "n_hidden_3 = 200                   # 3rd layer\n",
    "n_hidden_4 = 50                    # 4th layer\n",
    "n_classes = 2                      # output m classes\n",
    "\n",
    "# X and y - tf placeholders\n",
    "X = tf.placeholder(tf.float32, [None, n_input])\n",
    "y = tf.placeholder(tf.float32, [None, n_classes])\n",
    "dropout_keep_prob = tf.placeholder(tf.float32)"
   ]
  },
  {
   "cell_type": "code",
   "execution_count": 222,
   "metadata": {
    "collapsed": true
   },
   "outputs": [],
   "source": [
    "#Define weights and biases for each layer as dictionaries\n",
    "weights = {\n",
    "    'h1': tf.Variable(tf.random_normal([n_input, n_hidden_1],stddev=0.1)),\n",
    "    'h2': tf.Variable(tf.random_normal([n_hidden_1, n_hidden_2],stddev=0.1)),\n",
    "    'h3': tf.Variable(tf.random_normal([n_hidden_2, n_hidden_3],stddev=0.1)),\n",
    "    'h4': tf.Variable(tf.random_normal([n_hidden_3, n_hidden_4],stddev=0.1)),\n",
    "    'out': tf.Variable(tf.random_normal([n_hidden_4, n_classes],stddev=0.1)),                                   \n",
    "}\n",
    "\n",
    "biases = {\n",
    "    'b1': tf.Variable(tf.random_normal([n_hidden_1])),\n",
    "    'b2': tf.Variable(tf.random_normal([n_hidden_2])),\n",
    "    'b3': tf.Variable(tf.random_normal([n_hidden_3])),\n",
    "    'b4': tf.Variable(tf.random_normal([n_hidden_4])),\n",
    "    'out': tf.Variable(tf.random_normal([n_classes]))\n",
    "}"
   ]
  },
  {
   "cell_type": "markdown",
   "metadata": {},
   "source": [
    "### Multi-layer perceptron Model"
   ]
  },
  {
   "cell_type": "code",
   "execution_count": 223,
   "metadata": {
    "collapsed": true
   },
   "outputs": [],
   "source": [
    "#Define Multi-layer perceptron model\n",
    "def mlp(_X, _weights, _biases, dropout_keep_prob):\n",
    "    \n",
    "    #Layer 1\n",
    "    layer1 = tf.nn.dropout(tf.nn.tanh(tf.add(tf.matmul(_X, _weights['h1']), _biases['b1'])), dropout_keep_prob)\n",
    "    \n",
    "    #Layer 2\n",
    "    layer2 = tf.nn.dropout(tf.nn.tanh(tf.add(tf.matmul(layer1, _weights['h2']), _biases['b2'])), dropout_keep_prob)\n",
    "    \n",
    "    #layer 3\n",
    "    layer3 = tf.nn.dropout(tf.nn.tanh(tf.add(tf.matmul(layer2, _weights['h3']), _biases['b3'])), dropout_keep_prob)\n",
    "    \n",
    "    #layer 4\n",
    "    layer4 = tf.nn.dropout(tf.nn.tanh(tf.add(tf.matmul(layer3, _weights['h4']), _biases['b4'])), dropout_keep_prob)\n",
    "    \n",
    "    #Output layer\n",
    "    out = tf.nn.tanh(tf.add(tf.matmul(layer4, _weights['out']), _biases['out']))\n",
    "    \n",
    "    return out"
   ]
  },
  {
   "cell_type": "markdown",
   "metadata": {},
   "source": [
    "### __Model__"
   ]
  },
  {
   "cell_type": "code",
   "execution_count": 237,
   "metadata": {
    "collapsed": true
   },
   "outputs": [],
   "source": [
    "#Neural Net Parameters\n",
    "LEARNING_RATE = 0.001                                 # Learning rate\n",
    "TRAINING_EPOCHS = 500                                # Number of epochs\n",
    "BATCH_SIZE = 100                                      # Batch size"
   ]
  },
  {
   "cell_type": "code",
   "execution_count": 225,
   "metadata": {
    "collapsed": true
   },
   "outputs": [],
   "source": [
    "# Build model to predict the target classes\n",
    "pred = mlp(X, weights, biases, dropout_keep_prob)"
   ]
  },
  {
   "cell_type": "code",
   "execution_count": 226,
   "metadata": {
    "collapsed": true
   },
   "outputs": [],
   "source": [
    "# Loss/cost function \n",
    "cost = tf.reduce_mean(tf.nn.softmax_cross_entropy_with_logits(logits=pred,labels=y)) \n",
    "\n",
    "# Optimizer to minimise the loss/cost - using Adam Optimizer\n",
    "optimizer = tf.train.AdamOptimizer(learning_rate = LEARNING_RATE).minimize(cost)"
   ]
  },
  {
   "cell_type": "code",
   "execution_count": 227,
   "metadata": {
    "collapsed": true
   },
   "outputs": [],
   "source": [
    "# Accuracy of the predicted value\n",
    "correct_prediction = tf.equal(tf.argmax(pred, 1), tf.argmax(y, 1))\n",
    "accuracy = tf.reduce_mean(tf.cast(correct_prediction, tf.float32))"
   ]
  },
  {
   "cell_type": "markdown",
   "metadata": {},
   "source": [
    "### Train the model"
   ]
  },
  {
   "cell_type": "code",
   "execution_count": 242,
   "metadata": {
    "collapsed": true
   },
   "outputs": [],
   "source": [
    "# Initialize variables\n",
    "initialise = tf.initialize_all_variables()\n",
    "\n",
    "# Launch session\n",
    "sess = tf.Session()\n",
    "sess.run(initialise)"
   ]
  },
  {
   "cell_type": "code",
   "execution_count": 238,
   "metadata": {},
   "outputs": [
    {
     "name": "stdout",
     "output_type": "stream",
     "text": [
      "Epoch\t\tCost\tAccuracy\n",
      "---------------------------------\n",
      "0000/0500\t0.3251\t0.940\n",
      "0020/0500\t0.2555\t0.860\n",
      "0040/0500\t0.2467\t0.930\n",
      "0060/0500\t0.2268\t0.950\n",
      "0080/0500\t0.2104\t0.960\n",
      "0100/0500\t0.1966\t0.970\n",
      "0120/0500\t0.1861\t0.980\n",
      "0140/0500\t0.1825\t0.960\n",
      "0160/0500\t0.1723\t0.990\n",
      "0180/0500\t0.1711\t0.980\n",
      "0200/0500\t0.1699\t1.000\n",
      "0220/0500\t0.1679\t0.980\n",
      "0240/0500\t0.1627\t1.000\n",
      "0260/0500\t0.1639\t0.990\n",
      "0280/0500\t0.1641\t0.970\n",
      "0300/0500\t0.1637\t1.000\n",
      "0320/0500\t0.1626\t0.980\n",
      "0340/0500\t0.1629\t0.950\n",
      "0360/0500\t0.1586\t0.960\n",
      "0380/0500\t0.1609\t0.970\n",
      "0400/0500\t0.1601\t0.950\n",
      "0420/0500\t0.1578\t0.990\n",
      "0440/0500\t0.1597\t0.980\n",
      "0460/0500\t0.1556\t1.000\n",
      "0480/0500\t0.1588\t0.980\n"
     ]
    }
   ],
   "source": [
    "# Training loop\n",
    "print(\"Epoch\\t\\tCost\\tAccuracy\")\n",
    "print(\"---------------------------------\")\n",
    "for epoch in range(TRAINING_EPOCHS):\n",
    "    avg_cost = 0.\n",
    "    total_batch = int(X_train.shape[0] / BATCH_SIZE)\n",
    "    \n",
    "    # Loop over all batches\n",
    "    for i in range(total_batch):\n",
    "        \n",
    "        # Choose random records for each training batch\n",
    "        choice = np.random.randint(X_train.shape[0], size = BATCH_SIZE)\n",
    "        batch_xs = X_train[choice, :]\n",
    "        batch_ys = y_train[choice, :]\n",
    "        \n",
    "        # Fit using batched data\n",
    "        sess.run(optimizer, feed_dict={X: batch_xs, y: batch_ys, dropout_keep_prob: 0.9})\n",
    "        \n",
    "        # Calculate average cost \n",
    "        avg_cost += sess.run(cost, feed_dict={X: batch_xs, y: batch_ys, dropout_keep_prob:1.})/total_batch\n",
    "    \n",
    "    # Display progress after every 20 epochs\n",
    "    \n",
    "    if epoch % 20 == 0:\n",
    "        \n",
    "        training_acc = sess.run(accuracy, feed_dict={X: batch_xs, y: batch_ys, dropout_keep_prob:1.})\n",
    "        print (\"%04d/%04d\\t%.4f\\t%.3f\" % (epoch, TRAINING_EPOCHS, avg_cost,training_acc))\n",
    "        "
   ]
  },
  {
   "cell_type": "markdown",
   "metadata": {},
   "source": [
    "### Validation on Test data"
   ]
  },
  {
   "cell_type": "code",
   "execution_count": 243,
   "metadata": {},
   "outputs": [
    {
     "name": "stdout",
     "output_type": "stream",
     "text": [
      "Test accuracy: 0.1194\n"
     ]
    }
   ],
   "source": [
    "# Testing\n",
    "\n",
    "testing_acc = sess.run(accuracy, feed_dict={X: X_test, y: y_test, dropout_keep_prob:1.})\n",
    "print (\"Test accuracy: %.4f\" % (testing_acc))"
   ]
  },
  {
   "cell_type": "code",
   "execution_count": 240,
   "metadata": {},
   "outputs": [],
   "source": [
    "sess.close()"
   ]
  },
  {
   "cell_type": "markdown",
   "metadata": {},
   "source": [
    "### Summary\n",
    "\n",
    "An accuracy of __89.6%__ for 500 epochs. Accuracy is lesser than XGBoost model, however, it can improved when training epochs are increased "
   ]
  },
  {
   "cell_type": "code",
   "execution_count": null,
   "metadata": {
    "collapsed": true
   },
   "outputs": [],
   "source": []
  },
  {
   "cell_type": "code",
   "execution_count": null,
   "metadata": {
    "collapsed": true
   },
   "outputs": [],
   "source": []
  }
 ],
 "metadata": {
  "kernelspec": {
   "display_name": "Python 3",
   "language": "python",
   "name": "python3"
  },
  "language_info": {
   "codemirror_mode": {
    "name": "ipython",
    "version": 3
   },
   "file_extension": ".py",
   "mimetype": "text/x-python",
   "name": "python",
   "nbconvert_exporter": "python",
   "pygments_lexer": "ipython3",
   "version": "3.6.3"
  }
 },
 "nbformat": 4,
 "nbformat_minor": 2
}
