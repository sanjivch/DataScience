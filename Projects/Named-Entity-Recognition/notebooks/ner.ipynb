{
 "metadata": {
  "language_info": {
   "codemirror_mode": {
    "name": "ipython",
    "version": 3
   },
   "file_extension": ".py",
   "mimetype": "text/x-python",
   "name": "python",
   "nbconvert_exporter": "python",
   "pygments_lexer": "ipython3",
   "version": "3.7.4"
  },
  "orig_nbformat": 2,
  "kernelspec": {
   "name": "python374jvsc74a57bd0b080221bbfcc22139d6f403b5aa156ef25a7f222d4aca0a73dd8f558f29b42b4",
   "display_name": "Python 3.7.4 64-bit (conda)"
  }
 },
 "nbformat": 4,
 "nbformat_minor": 2,
 "cells": [
  {
   "cell_type": "code",
   "execution_count": 2,
   "metadata": {},
   "outputs": [],
   "source": [
    "import nltk\n",
    "from nltk.tokenize import word_tokenize\n",
    "from nltk.tag import pos_tag"
   ]
  },
  {
   "cell_type": "code",
   "execution_count": 7,
   "metadata": {},
   "outputs": [
    {
     "output_type": "stream",
     "name": "stderr",
     "text": [
      "[nltk_data] Downloading package averaged_perceptron_tagger to\n",
      "[nltk_data]     C:\\Users\\sanjiv\\AppData\\Roaming\\nltk_data...\n",
      "[nltk_data]   Unzipping taggers\\averaged_perceptron_tagger.zip.\n"
     ]
    },
    {
     "output_type": "execute_result",
     "data": {
      "text/plain": [
       "True"
      ]
     },
     "metadata": {},
     "execution_count": 7
    }
   ],
   "source": [
    "nltk.download('averaged_perceptron_tagger')"
   ]
  },
  {
   "cell_type": "code",
   "execution_count": 3,
   "metadata": {},
   "outputs": [],
   "source": [
    "def preprocess(sentence):\n",
    "    tokens = word_tokenize(sentence)\n",
    "    tokens_pos = pos_tag(tokens)\n",
    "\n",
    "    return tokens_pos"
   ]
  },
  {
   "cell_type": "code",
   "execution_count": 4,
   "metadata": {},
   "outputs": [],
   "source": [
    "ex = 'European authorities fined Google a record $5.1 billion on Wednesday for abusing its power in the mobile phone market and ordered the company to alter its practices'"
   ]
  },
  {
   "cell_type": "code",
   "execution_count": 8,
   "metadata": {},
   "outputs": [],
   "source": [
    "pos_words = preprocess(ex)"
   ]
  },
  {
   "cell_type": "code",
   "execution_count": 9,
   "metadata": {},
   "outputs": [
    {
     "output_type": "execute_result",
     "data": {
      "text/plain": [
       "[('European', 'JJ'),\n",
       " ('authorities', 'NNS'),\n",
       " ('fined', 'VBD'),\n",
       " ('Google', 'NNP'),\n",
       " ('a', 'DT'),\n",
       " ('record', 'NN'),\n",
       " ('$', '$'),\n",
       " ('5.1', 'CD'),\n",
       " ('billion', 'CD'),\n",
       " ('on', 'IN'),\n",
       " ('Wednesday', 'NNP'),\n",
       " ('for', 'IN'),\n",
       " ('abusing', 'VBG'),\n",
       " ('its', 'PRP$'),\n",
       " ('power', 'NN'),\n",
       " ('in', 'IN'),\n",
       " ('the', 'DT'),\n",
       " ('mobile', 'JJ'),\n",
       " ('phone', 'NN'),\n",
       " ('market', 'NN'),\n",
       " ('and', 'CC'),\n",
       " ('ordered', 'VBD'),\n",
       " ('the', 'DT'),\n",
       " ('company', 'NN'),\n",
       " ('to', 'TO'),\n",
       " ('alter', 'VB'),\n",
       " ('its', 'PRP$'),\n",
       " ('practices', 'NNS')]"
      ]
     },
     "metadata": {},
     "execution_count": 9
    }
   ],
   "source": [
    "pos_words"
   ]
  },
  {
   "cell_type": "code",
   "execution_count": 12,
   "metadata": {},
   "outputs": [],
   "source": [
    "import spacy\n",
    "from spacy import displacy\n",
    "from collections import Counter\n",
    "import en_core_web_sm\n",
    "nlp = en_core_web_sm.load()"
   ]
  },
  {
   "cell_type": "code",
   "execution_count": 13,
   "metadata": {},
   "outputs": [],
   "source": [
    "doc = nlp('European authorities fined Google a record $5.1 billion on Wednesday for abusing its power in the mobile phone market and ordered the company to alter its practices')"
   ]
  },
  {
   "cell_type": "code",
   "execution_count": 14,
   "metadata": {},
   "outputs": [
    {
     "output_type": "execute_result",
     "data": {
      "text/plain": [
       "European authorities fined Google a record $5.1 billion on Wednesday for abusing its power in the mobile phone market and ordered the company to alter its practices"
      ]
     },
     "metadata": {},
     "execution_count": 14
    }
   ],
   "source": [
    "doc"
   ]
  },
  {
   "cell_type": "code",
   "execution_count": 15,
   "metadata": {},
   "outputs": [
    {
     "output_type": "stream",
     "name": "stdout",
     "text": [
      "[('European', 'NORP'), ('Google', 'ORG'), ('$5.1 billion', 'MONEY'), ('Wednesday', 'DATE')]\n"
     ]
    }
   ],
   "source": [
    "print([(X.text, X.label_) for X in doc.ents])"
   ]
  },
  {
   "cell_type": "code",
   "execution_count": 16,
   "metadata": {},
   "outputs": [],
   "source": [
    "ipl = '''The Indian Premier League (IPL) is a professional Twenty20 cricket league, contested by eight teams based out of eight different Indian cities.[3] The league was founded by the Board of Control for Cricket in India (BCCI) in 2007. It is usually held between March and May of every year and has an exclusive window in the ICC Future Tours Programme.[4]\n",
    "\n",
    "The IPL is the most-attended cricket league in the world and in 2014 was ranked sixth by average attendance among all sports leagues.[5] In 2010, the IPL became the first sporting event in the world to be broadcast live on YouTube.[6][7] The brand value of the IPL in 2019 was ₹475 billion (US$6.7 billion), according to Duff & Phelps.[8] According to BCCI, the 2015 IPL season contributed ₹11.5 billion (US$160 million) to the GDP of the Indian economy.[9] '''"
   ]
  },
  {
   "cell_type": "code",
   "execution_count": 18,
   "metadata": {},
   "outputs": [],
   "source": [
    "doc2 = nlp(ipl)"
   ]
  },
  {
   "cell_type": "code",
   "execution_count": 19,
   "metadata": {},
   "outputs": [
    {
     "output_type": "execute_result",
     "data": {
      "text/plain": [
       "[('Indian', 'NORP'),\n",
       " ('Twenty20', 'CARDINAL'),\n",
       " ('eight', 'CARDINAL'),\n",
       " ('eight', 'CARDINAL'),\n",
       " ('Indian', 'NORP'),\n",
       " ('the Board of Control for Cricket', 'ORG'),\n",
       " ('India', 'GPE'),\n",
       " ('BCCI', 'ORG'),\n",
       " ('2007', 'DATE'),\n",
       " ('between March and May of every year', 'DATE'),\n",
       " ('the ICC Future Tours', 'ORG'),\n",
       " ('2014', 'DATE'),\n",
       " ('sixth', 'ORDINAL'),\n",
       " ('2010', 'DATE'),\n",
       " ('first', 'ORDINAL'),\n",
       " ('2019', 'DATE'),\n",
       " ('US$6.7 billion', 'MONEY'),\n",
       " ('Duff &', 'ORG'),\n",
       " ('BCCI', 'ORG'),\n",
       " ('2015', 'DATE'),\n",
       " ('₹11.5 billion', 'MONEY'),\n",
       " ('US$160 million', 'MONEY'),\n",
       " ('Indian', 'NORP')]"
      ]
     },
     "metadata": {},
     "execution_count": 19
    }
   ],
   "source": [
    "[(X.text, X.label_) for X in doc2.ents]"
   ]
  },
  {
   "cell_type": "code",
   "execution_count": 22,
   "metadata": {},
   "outputs": [
    {
     "output_type": "stream",
     "name": "stdout",
     "text": [
      "[(The, 'O', ''), (Indian, 'B', 'NORP'), (Premier, 'O', ''), (League, 'O', ''), ((, 'O', ''), (IPL, 'O', ''), (), 'O', ''), (is, 'O', ''), (a, 'O', ''), (professional, 'O', ''), (Twenty20, 'B', 'CARDINAL'), (cricket, 'O', ''), (league, 'O', ''), (,, 'O', ''), (contested, 'O', ''), (by, 'O', ''), (eight, 'B', 'CARDINAL'), (teams, 'O', ''), (based, 'O', ''), (out, 'O', ''), (of, 'O', ''), (eight, 'B', 'CARDINAL'), (different, 'O', ''), (Indian, 'B', 'NORP'), (cities.[3, 'O', ''), (], 'O', ''), (The, 'O', ''), (league, 'O', ''), (was, 'O', ''), (founded, 'O', ''), (by, 'O', ''), (the, 'B', 'ORG'), (Board, 'I', 'ORG'), (of, 'I', 'ORG'), (Control, 'I', 'ORG'), (for, 'I', 'ORG'), (Cricket, 'I', 'ORG'), (in, 'O', ''), (India, 'B', 'GPE'), ((, 'O', ''), (BCCI, 'B', 'ORG'), (), 'O', ''), (in, 'O', ''), (2007, 'B', 'DATE'), (., 'O', ''), (It, 'O', ''), (is, 'O', ''), (usually, 'O', ''), (held, 'O', ''), (between, 'B', 'DATE'), (March, 'I', 'DATE'), (and, 'I', 'DATE'), (May, 'I', 'DATE'), (of, 'I', 'DATE'), (every, 'I', 'DATE'), (year, 'I', 'DATE'), (and, 'O', ''), (has, 'O', ''), (an, 'O', ''), (exclusive, 'O', ''), (window, 'O', ''), (in, 'O', ''), (the, 'B', 'ORG'), (ICC, 'I', 'ORG'), (Future, 'I', 'ORG'), (Tours, 'I', 'ORG'), (Programme.[4, 'O', ''), (], 'O', ''), (\n\n, 'O', ''), (The, 'O', ''), (IPL, 'O', ''), (is, 'O', ''), (the, 'O', ''), (most, 'O', ''), (-, 'O', ''), (attended, 'O', ''), (cricket, 'O', ''), (league, 'O', ''), (in, 'O', ''), (the, 'O', ''), (world, 'O', ''), (and, 'O', ''), (in, 'O', ''), (2014, 'B', 'DATE'), (was, 'O', ''), (ranked, 'O', ''), (sixth, 'B', 'ORDINAL'), (by, 'O', ''), (average, 'O', ''), (attendance, 'O', ''), (among, 'O', ''), (all, 'O', ''), (sports, 'O', ''), (leagues.[5, 'O', ''), (], 'O', ''), (In, 'O', ''), (2010, 'B', 'DATE'), (,, 'O', ''), (the, 'O', ''), (IPL, 'O', ''), (became, 'O', ''), (the, 'O', ''), (first, 'B', 'ORDINAL'), (sporting, 'O', ''), (event, 'O', ''), (in, 'O', ''), (the, 'O', ''), (world, 'O', ''), (to, 'O', ''), (be, 'O', ''), (broadcast, 'O', ''), (live, 'O', ''), (on, 'O', ''), (YouTube.[6][7, 'O', ''), (], 'O', ''), (The, 'O', ''), (brand, 'O', ''), (value, 'O', ''), (of, 'O', ''), (the, 'O', ''), (IPL, 'O', ''), (in, 'O', ''), (2019, 'B', 'DATE'), (was, 'O', ''), (₹475, 'O', ''), (billion, 'O', ''), ((, 'O', ''), (US$, 'B', 'MONEY'), (6.7, 'I', 'MONEY'), (billion, 'I', 'MONEY'), (), 'O', ''), (,, 'O', ''), (according, 'O', ''), (to, 'O', ''), (Duff, 'B', 'ORG'), (&, 'I', 'ORG'), (Phelps.[8, 'O', ''), (], 'O', ''), (According, 'O', ''), (to, 'O', ''), (BCCI, 'B', 'ORG'), (,, 'O', ''), (the, 'O', ''), (2015, 'B', 'DATE'), (IPL, 'O', ''), (season, 'O', ''), (contributed, 'O', ''), (₹11.5, 'B', 'MONEY'), (billion, 'I', 'MONEY'), ((, 'O', ''), (US$, 'B', 'MONEY'), (160, 'I', 'MONEY'), (million, 'I', 'MONEY'), (), 'O', ''), (to, 'O', ''), (the, 'O', ''), (GDP, 'O', ''), (of, 'O', ''), (the, 'O', ''), (Indian, 'B', 'NORP'), (economy.[9, 'O', ''), (], 'O', '')]\n"
     ]
    }
   ],
   "source": [
    "print([(X, X.ent_iob_, X.ent_type_) for X in doc2])"
   ]
  },
  {
   "cell_type": "code",
   "execution_count": null,
   "metadata": {},
   "outputs": [],
   "source": []
  }
 ]
}