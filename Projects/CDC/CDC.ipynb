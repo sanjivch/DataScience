{
 "metadata": {
  "language_info": {
   "codemirror_mode": {
    "name": "ipython",
    "version": 3
   },
   "file_extension": ".py",
   "mimetype": "text/x-python",
   "name": "python",
   "nbconvert_exporter": "python",
   "pygments_lexer": "ipython3",
   "version": "3.7.4-final"
  },
  "orig_nbformat": 2,
  "kernelspec": {
   "name": "python3",
   "display_name": "Python 3.7.4 64-bit (conda)",
   "metadata": {
    "interpreter": {
     "hash": "b080221bbfcc22139d6f403b5aa156ef25a7f222d4aca0a73dd8f558f29b42b4"
    }
   }
  }
 },
 "nbformat": 4,
 "nbformat_minor": 2,
 "cells": [
  {
   "cell_type": "code",
   "execution_count": 1,
   "metadata": {},
   "outputs": [],
   "source": [
    "# 1. Import Libraries\n",
    "import pandas as pd\n",
    "import numpy as np  \n",
    "import matplotlib.pyplot as pyplot\n",
    "import seaborn as sns"
   ]
  },
  {
   "cell_type": "code",
   "execution_count": 7,
   "metadata": {},
   "outputs": [],
   "source": [
    "pd.options.display.max_columns = None"
   ]
  },
  {
   "cell_type": "code",
   "execution_count": 2,
   "metadata": {},
   "outputs": [],
   "source": [
    "# 2. Get the data\n",
    "cdc = pd.read_csv(r\"C:\\Users\\sanjiv\\Documents\\Datasets\\Kaggle\\cdc\\Nutrition__Physical_Activity__and_Obesity_-_Behavioral_Risk_Factor_Surveillance_System.csv\")"
   ]
  },
  {
   "cell_type": "code",
   "execution_count": 8,
   "metadata": {},
   "outputs": [
    {
     "output_type": "execute_result",
     "data": {
      "text/plain": [
       "   YearStart  YearEnd LocationAbbr LocationDesc  \\\n",
       "0       2011     2011           AL      Alabama   \n",
       "\n",
       "                                   Datasource                    Class  \\\n",
       "0  Behavioral Risk Factor Surveillance System  Obesity / Weight Status   \n",
       "\n",
       "                     Topic                                           Question  \\\n",
       "0  Obesity / Weight Status  Percent of adults aged 18 years and older who ...   \n",
       "\n",
       "   Data_Value_Unit Data_Value_Type  Data_Value  Data_Value_Alt  \\\n",
       "0              NaN           Value        32.0            32.0   \n",
       "\n",
       "  Data_Value_Footnote_Symbol Data_Value_Footnote  Low_Confidence_Limit  \\\n",
       "0                        NaN                 NaN                  30.5   \n",
       "\n",
       "   High_Confidence_Limit   Sample_Size  Total Age(years) Education Gender  \\\n",
       "0                    33.5       7304.0  Total        NaN       NaN    NaN   \n",
       "\n",
       "  Income Race/Ethnicity                              GeoLocation ClassID  \\\n",
       "0    NaN            NaN  (32.84057112200048, -86.63186076199969)     OWS   \n",
       "\n",
       "  TopicID QuestionID DataValueTypeID  LocationID StratificationCategory1  \\\n",
       "0    OWS1       Q036           VALUE           1                   Total   \n",
       "\n",
       "  Stratification1 StratificationCategoryId1 StratificationID1  \n",
       "0           Total                       OVR           OVERALL  "
      ],
      "text/html": "<div>\n<style scoped>\n    .dataframe tbody tr th:only-of-type {\n        vertical-align: middle;\n    }\n\n    .dataframe tbody tr th {\n        vertical-align: top;\n    }\n\n    .dataframe thead th {\n        text-align: right;\n    }\n</style>\n<table border=\"1\" class=\"dataframe\">\n  <thead>\n    <tr style=\"text-align: right;\">\n      <th></th>\n      <th>YearStart</th>\n      <th>YearEnd</th>\n      <th>LocationAbbr</th>\n      <th>LocationDesc</th>\n      <th>Datasource</th>\n      <th>Class</th>\n      <th>Topic</th>\n      <th>Question</th>\n      <th>Data_Value_Unit</th>\n      <th>Data_Value_Type</th>\n      <th>Data_Value</th>\n      <th>Data_Value_Alt</th>\n      <th>Data_Value_Footnote_Symbol</th>\n      <th>Data_Value_Footnote</th>\n      <th>Low_Confidence_Limit</th>\n      <th>High_Confidence_Limit</th>\n      <th>Sample_Size</th>\n      <th>Total</th>\n      <th>Age(years)</th>\n      <th>Education</th>\n      <th>Gender</th>\n      <th>Income</th>\n      <th>Race/Ethnicity</th>\n      <th>GeoLocation</th>\n      <th>ClassID</th>\n      <th>TopicID</th>\n      <th>QuestionID</th>\n      <th>DataValueTypeID</th>\n      <th>LocationID</th>\n      <th>StratificationCategory1</th>\n      <th>Stratification1</th>\n      <th>StratificationCategoryId1</th>\n      <th>StratificationID1</th>\n    </tr>\n  </thead>\n  <tbody>\n    <tr>\n      <th>0</th>\n      <td>2011</td>\n      <td>2011</td>\n      <td>AL</td>\n      <td>Alabama</td>\n      <td>Behavioral Risk Factor Surveillance System</td>\n      <td>Obesity / Weight Status</td>\n      <td>Obesity / Weight Status</td>\n      <td>Percent of adults aged 18 years and older who ...</td>\n      <td>NaN</td>\n      <td>Value</td>\n      <td>32.0</td>\n      <td>32.0</td>\n      <td>NaN</td>\n      <td>NaN</td>\n      <td>30.5</td>\n      <td>33.5</td>\n      <td>7304.0</td>\n      <td>Total</td>\n      <td>NaN</td>\n      <td>NaN</td>\n      <td>NaN</td>\n      <td>NaN</td>\n      <td>NaN</td>\n      <td>(32.84057112200048, -86.63186076199969)</td>\n      <td>OWS</td>\n      <td>OWS1</td>\n      <td>Q036</td>\n      <td>VALUE</td>\n      <td>1</td>\n      <td>Total</td>\n      <td>Total</td>\n      <td>OVR</td>\n      <td>OVERALL</td>\n    </tr>\n  </tbody>\n</table>\n</div>"
     },
     "metadata": {},
     "execution_count": 8
    }
   ],
   "source": [
    "cdc.head(1)"
   ]
  },
  {
   "cell_type": "code",
   "execution_count": 4,
   "metadata": {},
   "outputs": [
    {
     "output_type": "execute_result",
     "data": {
      "text/plain": [
       "(53392, 33)"
      ]
     },
     "metadata": {},
     "execution_count": 4
    }
   ],
   "source": [
    "cdc.shape"
   ]
  },
  {
   "cell_type": "code",
   "execution_count": 5,
   "metadata": {},
   "outputs": [
    {
     "output_type": "execute_result",
     "data": {
      "text/plain": [
       "Index(['YearStart', 'YearEnd', 'LocationAbbr', 'LocationDesc', 'Datasource',\n",
       "       'Class', 'Topic', 'Question', 'Data_Value_Unit', 'Data_Value_Type',\n",
       "       'Data_Value', 'Data_Value_Alt', 'Data_Value_Footnote_Symbol',\n",
       "       'Data_Value_Footnote', 'Low_Confidence_Limit', 'High_Confidence_Limit ',\n",
       "       'Sample_Size', 'Total', 'Age(years)', 'Education', 'Gender', 'Income',\n",
       "       'Race/Ethnicity', 'GeoLocation', 'ClassID', 'TopicID', 'QuestionID',\n",
       "       'DataValueTypeID', 'LocationID', 'StratificationCategory1',\n",
       "       'Stratification1', 'StratificationCategoryId1', 'StratificationID1'],\n",
       "      dtype='object')"
      ]
     },
     "metadata": {},
     "execution_count": 5
    }
   ],
   "source": [
    "cdc.columns"
   ]
  },
  {
   "cell_type": "code",
   "execution_count": 14,
   "metadata": {},
   "outputs": [
    {
     "output_type": "execute_result",
     "data": {
      "text/plain": [
       "Data_Value_Unit               1.000000\n",
       "Total                         0.964283\n",
       "Gender                        0.928566\n",
       "Data_Value_Footnote_Symbol    0.905491\n",
       "Data_Value_Footnote           0.905491\n",
       "Education                     0.857132\n",
       "Age(years)                    0.785773\n",
       "Income                        0.749981\n",
       "Race/Ethnicity                0.714264\n",
       "Data_Value_Alt                0.094509\n",
       "Low_Confidence_Limit          0.094509\n",
       "High_Confidence_Limit         0.094509\n",
       "Sample_Size                   0.094509\n",
       "Data_Value                    0.094509\n",
       "GeoLocation                   0.018879\n",
       "Data_Value_Type               0.000000\n",
       "Question                      0.000000\n",
       "Topic                         0.000000\n",
       "Class                         0.000000\n",
       "Datasource                    0.000000\n",
       "LocationDesc                  0.000000\n",
       "LocationAbbr                  0.000000\n",
       "YearEnd                       0.000000\n",
       "StratificationID1             0.000000\n",
       "StratificationCategoryId1     0.000000\n",
       "ClassID                       0.000000\n",
       "TopicID                       0.000000\n",
       "QuestionID                    0.000000\n",
       "DataValueTypeID               0.000000\n",
       "LocationID                    0.000000\n",
       "StratificationCategory1       0.000000\n",
       "Stratification1               0.000000\n",
       "YearStart                     0.000000\n",
       "dtype: float64"
      ]
     },
     "metadata": {},
     "execution_count": 14
    }
   ],
   "source": [
    "cdc.isnull().mean().sort_values(ascending=False) #> 0.25"
   ]
  },
  {
   "cell_type": "code",
   "execution_count": 17,
   "metadata": {},
   "outputs": [
    {
     "output_type": "execute_result",
     "data": {
      "text/plain": [
       "PA     26628\n",
       "OWS    17920\n",
       "FV      8844\n",
       "Name: ClassID, dtype: int64"
      ]
     },
     "metadata": {},
     "execution_count": 17
    }
   ],
   "source": [
    "cdc[\"ClassID\"].value_counts()"
   ]
  },
  {
   "cell_type": "code",
   "execution_count": null,
   "metadata": {},
   "outputs": [],
   "source": []
  }
 ]
}