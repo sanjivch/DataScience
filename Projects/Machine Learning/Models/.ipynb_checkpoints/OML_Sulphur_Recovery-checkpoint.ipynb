{
 "cells": [
  {
   "cell_type": "markdown",
   "metadata": {},
   "source": [
    "# SRU\n",
    "Source: [OpenML](https://www.openml.org/d/23515)\n",
    "\n",
    "The sulfur recovery unit (SRU) removes environmental pollutants from acid gas streams before they are released into the atmosphere. Furthermore, elemental sulfur is recovered as a valuable by-product.  \n",
    "\n",
    "Acid gases are among the most dangerous air pollution factors and are one of the main causes of acid rain. Hydrogen sulfide is particularly dangerous because it prevents the cells of the human body from breathing.\n",
    "\n",
    "The SRU takes in two kinds of acid gases as input. The first, rich in H2S, called MEA gas, comes from the gas washing plants; the second, called SWS gas, rich in H2S and NH3 (ammonia), comes from the sour water stripping (SWS) plant. Acid gases are burnt in reactors, where H2S is transformed into pure sulfur via a partial oxidation reaction with air. Gaseous combustion products from furnaces are cooled, causing the generation of liquid sulfur, which is collected in catch basins, and then passed through high temperature converters, where a further reaction leads to the formation of water vapor and sulfur. The remaining, non converted gas (less than 5%), is fed to the Maxisulfur plant for a final conversion phase. The final gas stream (tail gas) from the SRU contains residual H2S and SO2. \n",
    "\n",
    "__Hydrogen sulfide and sulfur dioxide frequently cause damage to sensors, which often have to be removed for maintenance.__\n",
    "\n",
    "5 inputs variables are gas and air flows.\n",
    "2 outputs to predict are H2S and SO2 concentrations\n",
    "\n",
    "|Variable| Description|\n",
    "| :- |:-|\n",
    "|a1 |gas flow MEA_GAS|\n",
    "|a2 |air flow AIR_MEA|\n",
    "|a3 |secondary air flow AIR_MEA_2|\n",
    "|a4 |gas flow in SWS zone (SWS_GAS_TOT=SWS_GAS+MEA_SPILLING)|\n",
    "|a5 |air flow in SWS zone (AIR_SWS_TOT=AIR_SWS+MEA_SPILLING_AIR)|"
   ]
  },
  {
   "cell_type": "code",
   "execution_count": 31,
   "metadata": {},
   "outputs": [],
   "source": [
    "import pandas as pd\n",
    "import numpy as np\n",
    "import matplotlib.pyplot as plt\n",
    "import seaborn as sns\n",
    "import matplotlib\n",
    "\n",
    "from sklearn.linear_model import LinearRegression, Ridge\n",
    "from sklearn.model_selection import train_test_split\n",
    "from sklearn.ensemble import RandomForestRegressor\n",
    "\n",
    "matplotlib.style.use('ggplot')\n",
    "%matplotlib inline"
   ]
  },
  {
   "cell_type": "code",
   "execution_count": 3,
   "metadata": {},
   "outputs": [],
   "source": [
    "data = pd.read_csv(r\"C:\\Users\\sanjiv\\Documents\\Datasets\\OpenML\\SRU.csv\")"
   ]
  },
  {
   "cell_type": "code",
   "execution_count": 4,
   "metadata": {},
   "outputs": [
    {
     "data": {
      "text/html": [
       "<div>\n",
       "<style scoped>\n",
       "    .dataframe tbody tr th:only-of-type {\n",
       "        vertical-align: middle;\n",
       "    }\n",
       "\n",
       "    .dataframe tbody tr th {\n",
       "        vertical-align: top;\n",
       "    }\n",
       "\n",
       "    .dataframe thead th {\n",
       "        text-align: right;\n",
       "    }\n",
       "</style>\n",
       "<table border=\"1\" class=\"dataframe\">\n",
       "  <thead>\n",
       "    <tr style=\"text-align: right;\">\n",
       "      <th></th>\n",
       "      <th>a1</th>\n",
       "      <th>a2</th>\n",
       "      <th>a3</th>\n",
       "      <th>a4</th>\n",
       "      <th>a5</th>\n",
       "      <th>y1</th>\n",
       "      <th>y2</th>\n",
       "    </tr>\n",
       "  </thead>\n",
       "  <tbody>\n",
       "    <tr>\n",
       "      <td>0</td>\n",
       "      <td>0.663113</td>\n",
       "      <td>0.774276</td>\n",
       "      <td>0.470970</td>\n",
       "      <td>0.096044</td>\n",
       "      <td>0.019865</td>\n",
       "      <td>0.083362</td>\n",
       "      <td>0.191476</td>\n",
       "    </tr>\n",
       "    <tr>\n",
       "      <td>1</td>\n",
       "      <td>0.659960</td>\n",
       "      <td>0.766021</td>\n",
       "      <td>0.473398</td>\n",
       "      <td>0.111023</td>\n",
       "      <td>0.027957</td>\n",
       "      <td>0.081265</td>\n",
       "      <td>0.174192</td>\n",
       "    </tr>\n",
       "    <tr>\n",
       "      <td>2</td>\n",
       "      <td>0.654670</td>\n",
       "      <td>0.767519</td>\n",
       "      <td>0.474198</td>\n",
       "      <td>0.105410</td>\n",
       "      <td>0.028907</td>\n",
       "      <td>0.079168</td>\n",
       "      <td>0.165544</td>\n",
       "    </tr>\n",
       "    <tr>\n",
       "      <td>3</td>\n",
       "      <td>0.653325</td>\n",
       "      <td>0.769922</td>\n",
       "      <td>0.475963</td>\n",
       "      <td>0.066221</td>\n",
       "      <td>0.029411</td>\n",
       "      <td>0.077070</td>\n",
       "      <td>0.168190</td>\n",
       "    </tr>\n",
       "    <tr>\n",
       "      <td>4</td>\n",
       "      <td>0.654726</td>\n",
       "      <td>0.760449</td>\n",
       "      <td>0.478833</td>\n",
       "      <td>0.033746</td>\n",
       "      <td>0.031592</td>\n",
       "      <td>0.074973</td>\n",
       "      <td>0.170836</td>\n",
       "    </tr>\n",
       "  </tbody>\n",
       "</table>\n",
       "</div>"
      ],
      "text/plain": [
       "         a1        a2        a3        a4        a5        y1        y2\n",
       "0  0.663113  0.774276  0.470970  0.096044  0.019865  0.083362  0.191476\n",
       "1  0.659960  0.766021  0.473398  0.111023  0.027957  0.081265  0.174192\n",
       "2  0.654670  0.767519  0.474198  0.105410  0.028907  0.079168  0.165544\n",
       "3  0.653325  0.769922  0.475963  0.066221  0.029411  0.077070  0.168190\n",
       "4  0.654726  0.760449  0.478833  0.033746  0.031592  0.074973  0.170836"
      ]
     },
     "execution_count": 4,
     "metadata": {},
     "output_type": "execute_result"
    }
   ],
   "source": [
    "data.head()"
   ]
  },
  {
   "cell_type": "code",
   "execution_count": 5,
   "metadata": {},
   "outputs": [
    {
     "data": {
      "text/html": [
       "<div>\n",
       "<style scoped>\n",
       "    .dataframe tbody tr th:only-of-type {\n",
       "        vertical-align: middle;\n",
       "    }\n",
       "\n",
       "    .dataframe tbody tr th {\n",
       "        vertical-align: top;\n",
       "    }\n",
       "\n",
       "    .dataframe thead th {\n",
       "        text-align: right;\n",
       "    }\n",
       "</style>\n",
       "<table border=\"1\" class=\"dataframe\">\n",
       "  <thead>\n",
       "    <tr style=\"text-align: right;\">\n",
       "      <th></th>\n",
       "      <th>a1</th>\n",
       "      <th>a2</th>\n",
       "      <th>a3</th>\n",
       "      <th>a4</th>\n",
       "      <th>a5</th>\n",
       "      <th>y1</th>\n",
       "      <th>y2</th>\n",
       "    </tr>\n",
       "  </thead>\n",
       "  <tbody>\n",
       "    <tr>\n",
       "      <td>count</td>\n",
       "      <td>10081.000000</td>\n",
       "      <td>10081.000000</td>\n",
       "      <td>10081.000000</td>\n",
       "      <td>10081.000000</td>\n",
       "      <td>10081.000000</td>\n",
       "      <td>10081.000000</td>\n",
       "      <td>10081.000000</td>\n",
       "    </tr>\n",
       "    <tr>\n",
       "      <td>mean</td>\n",
       "      <td>0.562323</td>\n",
       "      <td>0.562273</td>\n",
       "      <td>0.446097</td>\n",
       "      <td>0.594034</td>\n",
       "      <td>0.601057</td>\n",
       "      <td>0.080708</td>\n",
       "      <td>0.170595</td>\n",
       "    </tr>\n",
       "    <tr>\n",
       "      <td>std</td>\n",
       "      <td>0.205353</td>\n",
       "      <td>0.227673</td>\n",
       "      <td>0.151900</td>\n",
       "      <td>0.241992</td>\n",
       "      <td>0.202937</td>\n",
       "      <td>0.052988</td>\n",
       "      <td>0.056871</td>\n",
       "    </tr>\n",
       "    <tr>\n",
       "      <td>min</td>\n",
       "      <td>0.000000</td>\n",
       "      <td>0.000000</td>\n",
       "      <td>0.000000</td>\n",
       "      <td>0.000000</td>\n",
       "      <td>0.000000</td>\n",
       "      <td>0.000000</td>\n",
       "      <td>0.000000</td>\n",
       "    </tr>\n",
       "    <tr>\n",
       "      <td>25%</td>\n",
       "      <td>0.413025</td>\n",
       "      <td>0.356680</td>\n",
       "      <td>0.341961</td>\n",
       "      <td>0.410040</td>\n",
       "      <td>0.509083</td>\n",
       "      <td>0.057741</td>\n",
       "      <td>0.143513</td>\n",
       "    </tr>\n",
       "    <tr>\n",
       "      <td>50%</td>\n",
       "      <td>0.550183</td>\n",
       "      <td>0.585731</td>\n",
       "      <td>0.449397</td>\n",
       "      <td>0.722539</td>\n",
       "      <td>0.695339</td>\n",
       "      <td>0.073443</td>\n",
       "      <td>0.166507</td>\n",
       "    </tr>\n",
       "    <tr>\n",
       "      <td>75%</td>\n",
       "      <td>0.697718</td>\n",
       "      <td>0.767832</td>\n",
       "      <td>0.536040</td>\n",
       "      <td>0.739497</td>\n",
       "      <td>0.703899</td>\n",
       "      <td>0.089550</td>\n",
       "      <td>0.192329</td>\n",
       "    </tr>\n",
       "    <tr>\n",
       "      <td>max</td>\n",
       "      <td>1.000000</td>\n",
       "      <td>1.000000</td>\n",
       "      <td>1.000000</td>\n",
       "      <td>1.000000</td>\n",
       "      <td>1.000000</td>\n",
       "      <td>1.000000</td>\n",
       "      <td>1.000000</td>\n",
       "    </tr>\n",
       "  </tbody>\n",
       "</table>\n",
       "</div>"
      ],
      "text/plain": [
       "                 a1            a2            a3            a4            a5  \\\n",
       "count  10081.000000  10081.000000  10081.000000  10081.000000  10081.000000   \n",
       "mean       0.562323      0.562273      0.446097      0.594034      0.601057   \n",
       "std        0.205353      0.227673      0.151900      0.241992      0.202937   \n",
       "min        0.000000      0.000000      0.000000      0.000000      0.000000   \n",
       "25%        0.413025      0.356680      0.341961      0.410040      0.509083   \n",
       "50%        0.550183      0.585731      0.449397      0.722539      0.695339   \n",
       "75%        0.697718      0.767832      0.536040      0.739497      0.703899   \n",
       "max        1.000000      1.000000      1.000000      1.000000      1.000000   \n",
       "\n",
       "                 y1            y2  \n",
       "count  10081.000000  10081.000000  \n",
       "mean       0.080708      0.170595  \n",
       "std        0.052988      0.056871  \n",
       "min        0.000000      0.000000  \n",
       "25%        0.057741      0.143513  \n",
       "50%        0.073443      0.166507  \n",
       "75%        0.089550      0.192329  \n",
       "max        1.000000      1.000000  "
      ]
     },
     "execution_count": 5,
     "metadata": {},
     "output_type": "execute_result"
    }
   ],
   "source": [
    "data.describe()"
   ]
  },
  {
   "cell_type": "code",
   "execution_count": 6,
   "metadata": {},
   "outputs": [
    {
     "data": {
      "text/plain": [
       "a1    0\n",
       "a2    0\n",
       "a3    0\n",
       "a4    0\n",
       "a5    0\n",
       "y1    0\n",
       "y2    0\n",
       "dtype: int64"
      ]
     },
     "execution_count": 6,
     "metadata": {},
     "output_type": "execute_result"
    }
   ],
   "source": [
    "data.isnull().sum()"
   ]
  },
  {
   "cell_type": "code",
   "execution_count": 7,
   "metadata": {},
   "outputs": [
    {
     "data": {
      "text/plain": [
       "a1    9568\n",
       "a2    8249\n",
       "a3    9839\n",
       "a4    7561\n",
       "a5    6923\n",
       "y1    9368\n",
       "y2    9678\n",
       "dtype: int64"
      ]
     },
     "execution_count": 7,
     "metadata": {},
     "output_type": "execute_result"
    }
   ],
   "source": [
    "data.nunique()"
   ]
  },
  {
   "cell_type": "markdown",
   "metadata": {},
   "source": [
    "It looks like the data is normalized and anonymized. The H2S and SO2 concentrations could be anything. So, lets create separate models. for both of them."
   ]
  },
  {
   "cell_type": "code",
   "execution_count": 8,
   "metadata": {},
   "outputs": [
    {
     "data": {
      "image/png": "[encoded data removed]",
      "text/plain": [
       "<Figure size 1440x360 with 1 Axes>"
      ]
     },
     "metadata": {
      "needs_background": "light"
     },
     "output_type": "display_data"
    }
   ],
   "source": [
    "data['y1'].plot(figsize=(20,5))\n",
    "plt.grid()"
   ]
  },
  {
   "cell_type": "code",
   "execution_count": 19,
   "metadata": {},
   "outputs": [],
   "source": [
    "h2s = data.copy()"
   ]
  },
  {
   "cell_type": "code",
   "execution_count": 27,
   "metadata": {},
   "outputs": [],
   "source": [
    "h2s.drop(['y1'], axis=1, inplace=True)"
   ]
  },
  {
   "cell_type": "code",
   "execution_count": 28,
   "metadata": {},
   "outputs": [
    {
     "data": {
      "text/html": [
       "<div>\n",
       "<style scoped>\n",
       "    .dataframe tbody tr th:only-of-type {\n",
       "        vertical-align: middle;\n",
       "    }\n",
       "\n",
       "    .dataframe tbody tr th {\n",
       "        vertical-align: top;\n",
       "    }\n",
       "\n",
       "    .dataframe thead th {\n",
       "        text-align: right;\n",
       "    }\n",
       "</style>\n",
       "<table border=\"1\" class=\"dataframe\">\n",
       "  <thead>\n",
       "    <tr style=\"text-align: right;\">\n",
       "      <th></th>\n",
       "      <th>a1</th>\n",
       "      <th>a2</th>\n",
       "      <th>a3</th>\n",
       "      <th>a4</th>\n",
       "      <th>a5</th>\n",
       "      <th>y2</th>\n",
       "    </tr>\n",
       "  </thead>\n",
       "  <tbody>\n",
       "    <tr>\n",
       "      <td>0</td>\n",
       "      <td>0.663113</td>\n",
       "      <td>0.774276</td>\n",
       "      <td>0.470970</td>\n",
       "      <td>0.096044</td>\n",
       "      <td>0.019865</td>\n",
       "      <td>0.191476</td>\n",
       "    </tr>\n",
       "    <tr>\n",
       "      <td>1</td>\n",
       "      <td>0.659960</td>\n",
       "      <td>0.766021</td>\n",
       "      <td>0.473398</td>\n",
       "      <td>0.111023</td>\n",
       "      <td>0.027957</td>\n",
       "      <td>0.174192</td>\n",
       "    </tr>\n",
       "    <tr>\n",
       "      <td>2</td>\n",
       "      <td>0.654670</td>\n",
       "      <td>0.767519</td>\n",
       "      <td>0.474198</td>\n",
       "      <td>0.105410</td>\n",
       "      <td>0.028907</td>\n",
       "      <td>0.165544</td>\n",
       "    </tr>\n",
       "    <tr>\n",
       "      <td>3</td>\n",
       "      <td>0.653325</td>\n",
       "      <td>0.769922</td>\n",
       "      <td>0.475963</td>\n",
       "      <td>0.066221</td>\n",
       "      <td>0.029411</td>\n",
       "      <td>0.168190</td>\n",
       "    </tr>\n",
       "    <tr>\n",
       "      <td>4</td>\n",
       "      <td>0.654726</td>\n",
       "      <td>0.760449</td>\n",
       "      <td>0.478833</td>\n",
       "      <td>0.033746</td>\n",
       "      <td>0.031592</td>\n",
       "      <td>0.170836</td>\n",
       "    </tr>\n",
       "  </tbody>\n",
       "</table>\n",
       "</div>"
      ],
      "text/plain": [
       "         a1        a2        a3        a4        a5        y2\n",
       "0  0.663113  0.774276  0.470970  0.096044  0.019865  0.191476\n",
       "1  0.659960  0.766021  0.473398  0.111023  0.027957  0.174192\n",
       "2  0.654670  0.767519  0.474198  0.105410  0.028907  0.165544\n",
       "3  0.653325  0.769922  0.475963  0.066221  0.029411  0.168190\n",
       "4  0.654726  0.760449  0.478833  0.033746  0.031592  0.170836"
      ]
     },
     "execution_count": 28,
     "metadata": {},
     "output_type": "execute_result"
    }
   ],
   "source": [
    "h2s.head()"
   ]
  },
  {
   "cell_type": "code",
   "execution_count": 29,
   "metadata": {},
   "outputs": [],
   "source": [
    "h2s_corr = h2s.corr()\n",
    "mask = np.zeros_like(h2s_corr)\n",
    "mask[np.triu_indices_from(mask)] = True"
   ]
  },
  {
   "cell_type": "code",
   "execution_count": 30,
   "metadata": {},
   "outputs": [
    {
     "data": {
      "text/plain": [
       "<matplotlib.axes._subplots.AxesSubplot at 0xbf1df08>"
      ]
     },
     "execution_count": 30,
     "metadata": {},
     "output_type": "execute_result"
    },
    {
     "data": {
      "image/png": "[encoded data removed]",
      "text/plain": [
       "<Figure size 720x576 with 2 Axes>"
      ]
     },
     "metadata": {
      "needs_background": "light"
     },
     "output_type": "display_data"
    }
   ],
   "source": [
    "plt.figure(figsize=(10,8))\n",
    "sns.heatmap(h2s_corr, annot=True, cmap='YlGnBu', vmax=1.0, vmin=-1.0, mask=mask, linewidths=2)\n"
   ]
  },
  {
   "cell_type": "markdown",
   "metadata": {},
   "source": [
    "To deal with multi collinearity, we need to drop the variables which are highly correlated. High correlation does not add value to the model.\n",
    "- `a1` and `a2` look highly correlated.\n",
    "- `a4` and `a5` look highly correlated.\n",
    "\n",
    "We will drop `a2` and `a5`, both air flows.\n",
    "\n",
    "There is a very weak correlation, so performing `Linear Regression` gives a very poor fit."
   ]
  },
  {
   "cell_type": "code",
   "execution_count": 14,
   "metadata": {},
   "outputs": [],
   "source": [
    "h2s.drop(['a2', 'a5'], axis=1, inplace = True)"
   ]
  },
  {
   "cell_type": "code",
   "execution_count": 15,
   "metadata": {},
   "outputs": [],
   "source": [
    "h2s.drop_duplicates(keep='first', inplace=True)"
   ]
  },
  {
   "cell_type": "code",
   "execution_count": 16,
   "metadata": {},
   "outputs": [
    {
     "name": "stdout",
     "output_type": "stream",
     "text": [
      "<class 'pandas.core.frame.DataFrame'>\n",
      "Int64Index: 10081 entries, 0 to 10080\n",
      "Data columns (total 4 columns):\n",
      "a1    10081 non-null float64\n",
      "a3    10081 non-null float64\n",
      "a4    10081 non-null float64\n",
      "y1    10081 non-null float64\n",
      "dtypes: float64(4)\n",
      "memory usage: 393.8 KB\n"
     ]
    }
   ],
   "source": [
    "h2s.info()"
   ]
  },
  {
   "cell_type": "code",
   "execution_count": 17,
   "metadata": {},
   "outputs": [],
   "source": [
    "X = h2s.drop(['y1'], axis = 1)\n",
    "y = h2s['y1']"
   ]
  },
  {
   "cell_type": "code",
   "execution_count": 33,
   "metadata": {},
   "outputs": [
    {
     "name": "stdout",
     "output_type": "stream",
     "text": [
      "(10081, 3) (10081,)\n"
     ]
    }
   ],
   "source": [
    "print(X.shape, y.shape)"
   ]
  },
  {
   "cell_type": "code",
   "execution_count": 34,
   "metadata": {},
   "outputs": [],
   "source": [
    "X_train, X_test, y_train, y_test = train_test_split(X, y, test_size= 0.3, random_state=101)"
   ]
  },
  {
   "cell_type": "markdown",
   "metadata": {},
   "source": [
    "## Model"
   ]
  },
  {
   "cell_type": "code",
   "execution_count": 35,
   "metadata": {},
   "outputs": [],
   "source": [
    "model_lr = LinearRegression()"
   ]
  },
  {
   "cell_type": "code",
   "execution_count": 36,
   "metadata": {},
   "outputs": [
    {
     "data": {
      "text/plain": [
       "LinearRegression(copy_X=True, fit_intercept=True, n_jobs=None, normalize=False)"
      ]
     },
     "execution_count": 36,
     "metadata": {},
     "output_type": "execute_result"
    }
   ],
   "source": [
    "model_lr.fit(X_train, y_train)"
   ]
  },
  {
   "cell_type": "code",
   "execution_count": 37,
   "metadata": {},
   "outputs": [
    {
     "data": {
      "text/plain": [
       "0.06622022215557258"
      ]
     },
     "execution_count": 37,
     "metadata": {},
     "output_type": "execute_result"
    }
   ],
   "source": [
    "model_lr.intercept_"
   ]
  },
  {
   "cell_type": "code",
   "execution_count": 38,
   "metadata": {},
   "outputs": [
    {
     "data": {
      "text/plain": [
       "array([ 0.01685228,  0.024039  , -0.0099161 ])"
      ]
     },
     "execution_count": 38,
     "metadata": {},
     "output_type": "execute_result"
    }
   ],
   "source": [
    "model_lr.coef_"
   ]
  },
  {
   "cell_type": "code",
   "execution_count": 40,
   "metadata": {},
   "outputs": [],
   "source": [
    "model_lr_pred = model_lr.predict(X_test)"
   ]
  },
  {
   "cell_type": "code",
   "execution_count": 41,
   "metadata": {},
   "outputs": [
    {
     "data": {
      "text/plain": [
       "array([0.07919931, 0.06433937, 0.07642506, ..., 0.07930642, 0.08419209,\n",
       "       0.08057787])"
      ]
     },
     "execution_count": 41,
     "metadata": {},
     "output_type": "execute_result"
    }
   ],
   "source": [
    "model_lr_pred"
   ]
  },
  {
   "cell_type": "code",
   "execution_count": 42,
   "metadata": {},
   "outputs": [],
   "source": [
    "master = y_test.to_frame('y_actual')"
   ]
  },
  {
   "cell_type": "code",
   "execution_count": 43,
   "metadata": {},
   "outputs": [],
   "source": [
    "master['y_pred'] = model_lr_pred"
   ]
  },
  {
   "cell_type": "code",
   "execution_count": 44,
   "metadata": {},
   "outputs": [
    {
     "data": {
      "text/html": [
       "<div>\n",
       "<style scoped>\n",
       "    .dataframe tbody tr th:only-of-type {\n",
       "        vertical-align: middle;\n",
       "    }\n",
       "\n",
       "    .dataframe tbody tr th {\n",
       "        vertical-align: top;\n",
       "    }\n",
       "\n",
       "    .dataframe thead th {\n",
       "        text-align: right;\n",
       "    }\n",
       "</style>\n",
       "<table border=\"1\" class=\"dataframe\">\n",
       "  <thead>\n",
       "    <tr style=\"text-align: right;\">\n",
       "      <th></th>\n",
       "      <th>y_actual</th>\n",
       "      <th>y_pred</th>\n",
       "    </tr>\n",
       "  </thead>\n",
       "  <tbody>\n",
       "    <tr>\n",
       "      <td>8278</td>\n",
       "      <td>0.080027</td>\n",
       "      <td>0.079199</td>\n",
       "    </tr>\n",
       "    <tr>\n",
       "      <td>7596</td>\n",
       "      <td>0.069547</td>\n",
       "      <td>0.064339</td>\n",
       "    </tr>\n",
       "    <tr>\n",
       "      <td>9255</td>\n",
       "      <td>0.084233</td>\n",
       "      <td>0.076425</td>\n",
       "    </tr>\n",
       "    <tr>\n",
       "      <td>6743</td>\n",
       "      <td>0.062230</td>\n",
       "      <td>0.081411</td>\n",
       "    </tr>\n",
       "    <tr>\n",
       "      <td>7423</td>\n",
       "      <td>0.106768</td>\n",
       "      <td>0.071898</td>\n",
       "    </tr>\n",
       "  </tbody>\n",
       "</table>\n",
       "</div>"
      ],
      "text/plain": [
       "      y_actual    y_pred\n",
       "8278  0.080027  0.079199\n",
       "7596  0.069547  0.064339\n",
       "9255  0.084233  0.076425\n",
       "6743  0.062230  0.081411\n",
       "7423  0.106768  0.071898"
      ]
     },
     "execution_count": 44,
     "metadata": {},
     "output_type": "execute_result"
    }
   ],
   "source": [
    "master.head()"
   ]
  },
  {
   "cell_type": "code",
   "execution_count": 45,
   "metadata": {},
   "outputs": [
    {
     "data": {
      "text/plain": [
       "<matplotlib.axes._subplots.AxesSubplot at 0xec78b08>"
      ]
     },
     "execution_count": 45,
     "metadata": {},
     "output_type": "execute_result"
    },
    {
     "data": {
      "image/png": "[encoded data removed]",
      "text/plain": [
       "<Figure size 432x288 with 1 Axes>"
      ]
     },
     "metadata": {
      "needs_background": "light"
     },
     "output_type": "display_data"
    }
   ],
   "source": [
    "master.plot()"
   ]
  },
  {
   "cell_type": "code",
   "execution_count": 46,
   "metadata": {},
   "outputs": [
    {
     "data": {
      "text/plain": [
       "0.012711909707101343"
      ]
     },
     "execution_count": 46,
     "metadata": {},
     "output_type": "execute_result"
    }
   ],
   "source": [
    "model_lr.score(X_test, y_test)"
   ]
  },
  {
   "cell_type": "code",
   "execution_count": 47,
   "metadata": {},
   "outputs": [],
   "source": [
    "import statsmodels.api as sm\n",
    "from statsmodels.sandbox.regression.predstd import wls_prediction_std"
   ]
  },
  {
   "cell_type": "code",
   "execution_count": 48,
   "metadata": {},
   "outputs": [],
   "source": [
    "model_ols = sm.OLS(y_train, X_train)"
   ]
  },
  {
   "cell_type": "code",
   "execution_count": 49,
   "metadata": {},
   "outputs": [],
   "source": [
    "results = model_ols.fit()\n"
   ]
  },
  {
   "cell_type": "code",
   "execution_count": 50,
   "metadata": {},
   "outputs": [
    {
     "data": {
      "text/html": [
       "<table class=\"simpletable\">\n",
       "<caption>OLS Regression Results</caption>\n",
       "<tr>\n",
       "  <th>Dep. Variable:</th>           <td>y1</td>        <th>  R-squared (uncentered):</th>       <td>   0.696</td> \n",
       "</tr>\n",
       "<tr>\n",
       "  <th>Model:</th>                   <td>OLS</td>       <th>  Adj. R-squared (uncentered):</th>  <td>   0.696</td> \n",
       "</tr>\n",
       "<tr>\n",
       "  <th>Method:</th>             <td>Least Squares</td>  <th>  F-statistic:       </th>           <td>   5385.</td> \n",
       "</tr>\n",
       "<tr>\n",
       "  <th>Date:</th>             <td>Wed, 22 Apr 2020</td> <th>  Prob (F-statistic):</th>            <td>  0.00</td>  \n",
       "</tr>\n",
       "<tr>\n",
       "  <th>Time:</th>                 <td>23:51:53</td>     <th>  Log-Likelihood:    </th>           <td>  10762.</td> \n",
       "</tr>\n",
       "<tr>\n",
       "  <th>No. Observations:</th>      <td>  7056</td>      <th>  AIC:               </th>          <td>-2.152e+04</td>\n",
       "</tr>\n",
       "<tr>\n",
       "  <th>Df Residuals:</th>          <td>  7053</td>      <th>  BIC:               </th>          <td>-2.150e+04</td>\n",
       "</tr>\n",
       "<tr>\n",
       "  <th>Df Model:</th>              <td>     3</td>      <th>                     </th>               <td> </td>    \n",
       "</tr>\n",
       "<tr>\n",
       "  <th>Covariance Type:</th>      <td>nonrobust</td>    <th>                     </th>               <td> </td>    \n",
       "</tr>\n",
       "</table>\n",
       "<table class=\"simpletable\">\n",
       "<tr>\n",
       "   <td></td>     <th>coef</th>     <th>std err</th>      <th>t</th>      <th>P>|t|</th>  <th>[0.025</th>    <th>0.975]</th>  \n",
       "</tr>\n",
       "<tr>\n",
       "  <th>a1</th> <td>    0.0459</td> <td>    0.003</td> <td>   16.286</td> <td> 0.000</td> <td>    0.040</td> <td>    0.051</td>\n",
       "</tr>\n",
       "<tr>\n",
       "  <th>a3</th> <td>    0.0890</td> <td>    0.003</td> <td>   29.878</td> <td> 0.000</td> <td>    0.083</td> <td>    0.095</td>\n",
       "</tr>\n",
       "<tr>\n",
       "  <th>a4</th> <td>    0.0208</td> <td>    0.002</td> <td>    9.031</td> <td> 0.000</td> <td>    0.016</td> <td>    0.025</td>\n",
       "</tr>\n",
       "</table>\n",
       "<table class=\"simpletable\">\n",
       "<tr>\n",
       "  <th>Omnibus:</th>       <td>8657.737</td> <th>  Durbin-Watson:     </th>  <td>   1.979</td>  \n",
       "</tr>\n",
       "<tr>\n",
       "  <th>Prob(Omnibus):</th>  <td> 0.000</td>  <th>  Jarque-Bera (JB):  </th> <td>1789234.873</td>\n",
       "</tr>\n",
       "<tr>\n",
       "  <th>Skew:</th>           <td> 6.480</td>  <th>  Prob(JB):          </th>  <td>    0.00</td>  \n",
       "</tr>\n",
       "<tr>\n",
       "  <th>Kurtosis:</th>       <td>79.928</td>  <th>  Cond. No.          </th>  <td>    5.55</td>  \n",
       "</tr>\n",
       "</table><br/><br/>Warnings:<br/>[1] Standard Errors assume that the covariance matrix of the errors is correctly specified."
      ],
      "text/plain": [
       "<class 'statsmodels.iolib.summary.Summary'>\n",
       "\"\"\"\n",
       "                                 OLS Regression Results                                \n",
       "=======================================================================================\n",
       "Dep. Variable:                     y1   R-squared (uncentered):                   0.696\n",
       "Model:                            OLS   Adj. R-squared (uncentered):              0.696\n",
       "Method:                 Least Squares   F-statistic:                              5385.\n",
       "Date:                Wed, 22 Apr 2020   Prob (F-statistic):                        0.00\n",
       "Time:                        23:51:53   Log-Likelihood:                          10762.\n",
       "No. Observations:                7056   AIC:                                 -2.152e+04\n",
       "Df Residuals:                    7053   BIC:                                 -2.150e+04\n",
       "Df Model:                           3                                                  \n",
       "Covariance Type:            nonrobust                                                  \n",
       "==============================================================================\n",
       "                 coef    std err          t      P>|t|      [0.025      0.975]\n",
       "------------------------------------------------------------------------------\n",
       "a1             0.0459      0.003     16.286      0.000       0.040       0.051\n",
       "a3             0.0890      0.003     29.878      0.000       0.083       0.095\n",
       "a4             0.0208      0.002      9.031      0.000       0.016       0.025\n",
       "==============================================================================\n",
       "Omnibus:                     8657.737   Durbin-Watson:                   1.979\n",
       "Prob(Omnibus):                  0.000   Jarque-Bera (JB):          1789234.873\n",
       "Skew:                           6.480   Prob(JB):                         0.00\n",
       "Kurtosis:                      79.928   Cond. No.                         5.55\n",
       "==============================================================================\n",
       "\n",
       "Warnings:\n",
       "[1] Standard Errors assume that the covariance matrix of the errors is correctly specified.\n",
       "\"\"\""
      ]
     },
     "execution_count": 50,
     "metadata": {},
     "output_type": "execute_result"
    }
   ],
   "source": [
    "results.summary()"
   ]
  },
  {
   "cell_type": "code",
   "execution_count": 51,
   "metadata": {},
   "outputs": [],
   "source": [
    "from sklearn.metrics import r2_score"
   ]
  },
  {
   "cell_type": "code",
   "execution_count": 52,
   "metadata": {},
   "outputs": [
    {
     "data": {
      "text/plain": [
       "0.012711909707101343"
      ]
     },
     "execution_count": 52,
     "metadata": {},
     "output_type": "execute_result"
    }
   ],
   "source": [
    "r2_score(y_test, model_lr_pred)"
   ]
  },
  {
   "cell_type": "code",
   "execution_count": 53,
   "metadata": {},
   "outputs": [],
   "source": [
    "model_rf = RandomForestRegressor()"
   ]
  },
  {
   "cell_type": "code",
   "execution_count": 54,
   "metadata": {},
   "outputs": [
    {
     "name": "stderr",
     "output_type": "stream",
     "text": [
      "C:\\Users\\sanjiv\\Anaconda3\\lib\\site-packages\\sklearn\\ensemble\\forest.py:245: FutureWarning: The default value of n_estimators will change from 10 in version 0.20 to 100 in 0.22.\n",
      "  \"10 in version 0.20 to 100 in 0.22.\", FutureWarning)\n"
     ]
    },
    {
     "data": {
      "text/plain": [
       "RandomForestRegressor(bootstrap=True, criterion='mse', max_depth=None,\n",
       "                      max_features='auto', max_leaf_nodes=None,\n",
       "                      min_impurity_decrease=0.0, min_impurity_split=None,\n",
       "                      min_samples_leaf=1, min_samples_split=2,\n",
       "                      min_weight_fraction_leaf=0.0, n_estimators=10,\n",
       "                      n_jobs=None, oob_score=False, random_state=None,\n",
       "                      verbose=0, warm_start=False)"
      ]
     },
     "execution_count": 54,
     "metadata": {},
     "output_type": "execute_result"
    }
   ],
   "source": [
    "model_rf.fit(X_train, y_train)"
   ]
  },
  {
   "cell_type": "code",
   "execution_count": 55,
   "metadata": {},
   "outputs": [],
   "source": [
    "model_rf_pred = model_rf.predict(X_test)"
   ]
  },
  {
   "cell_type": "code",
   "execution_count": 56,
   "metadata": {},
   "outputs": [
    {
     "data": {
      "text/plain": [
       "array([0.0756201 , 0.05463445, 0.05907753, ..., 0.0628411 , 0.0912429 ,\n",
       "       0.07368772])"
      ]
     },
     "execution_count": 56,
     "metadata": {},
     "output_type": "execute_result"
    }
   ],
   "source": [
    "model_rf_pred"
   ]
  },
  {
   "cell_type": "code",
   "execution_count": 57,
   "metadata": {},
   "outputs": [
    {
     "data": {
      "text/plain": [
       "0.8793385129104265"
      ]
     },
     "execution_count": 57,
     "metadata": {},
     "output_type": "execute_result"
    }
   ],
   "source": [
    "model_rf.score(X_train, y_train)"
   ]
  },
  {
   "cell_type": "code",
   "execution_count": 58,
   "metadata": {},
   "outputs": [
    {
     "data": {
      "text/plain": [
       "0.23484321834589283"
      ]
     },
     "execution_count": 58,
     "metadata": {},
     "output_type": "execute_result"
    }
   ],
   "source": [
    "r2_score(y_test, model_rf_pred)"
   ]
  },
  {
   "cell_type": "code",
   "execution_count": null,
   "metadata": {},
   "outputs": [],
   "source": []
  }
 ],
 "metadata": {
  "kernelspec": {
   "display_name": "Python 3",
   "language": "python",
   "name": "python3"
  },
  "language_info": {
   "codemirror_mode": {
    "name": "ipython",
    "version": 3
   },
   "file_extension": ".py",
   "mimetype": "text/x-python",
   "name": "python",
   "nbconvert_exporter": "python",
   "pygments_lexer": "ipython3",
   "version": "3.7.4"
  }
 },
 "nbformat": 4,
 "nbformat_minor": 4
}
